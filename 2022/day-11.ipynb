{
 "cells": [
  {
   "cell_type": "markdown",
   "metadata": {},
   "source": [
    "# 2022 Day 11\n",
    "\n",
    "https://adventofcode.com/2022/day/11\n",
    "\n",
    "https://adventofcode.com/2022/day/11/input"
   ]
  },
  {
   "cell_type": "code",
   "execution_count": 1,
   "metadata": {},
   "outputs": [],
   "source": [
    "import re\n",
    "from weakref import proxy\n",
    "import numpy as np\n",
    "import pandas as pd\n",
    "import matplotlib.pyplot as plt"
   ]
  },
  {
   "cell_type": "code",
   "execution_count": 2,
   "metadata": {},
   "outputs": [],
   "source": [
    "inp = open('input-11.txt').read()"
   ]
  },
  {
   "cell_type": "code",
   "execution_count": 3,
   "metadata": {},
   "outputs": [],
   "source": [
    "test_inp = \"\"\"\n",
    "Monkey 0:\n",
    "  Starting items: 79, 98\n",
    "  Operation: new = old * 19\n",
    "  Test: divisible by 23\n",
    "    If true: throw to monkey 2\n",
    "    If false: throw to monkey 3\n",
    "\n",
    "Monkey 1:\n",
    "  Starting items: 54, 65, 75, 74\n",
    "  Operation: new = old + 6\n",
    "  Test: divisible by 19\n",
    "    If true: throw to monkey 2\n",
    "    If false: throw to monkey 0\n",
    "\n",
    "Monkey 2:\n",
    "  Starting items: 79, 60, 97\n",
    "  Operation: new = old * old\n",
    "  Test: divisible by 13\n",
    "    If true: throw to monkey 1\n",
    "    If false: throw to monkey 3\n",
    "\n",
    "Monkey 3:\n",
    "  Starting items: 74\n",
    "  Operation: new = old + 3\n",
    "  Test: divisible by 17\n",
    "    If true: throw to monkey 0\n",
    "    If false: throw to monkey 1\n",
    "\"\"\".strip()"
   ]
  },
  {
   "cell_type": "code",
   "execution_count": 4,
   "metadata": {},
   "outputs": [],
   "source": [
    "def parse_monkey(para):\n",
    "    # name each line\n",
    "    id, items, operation, divisor, true_target, false_target = para.split('\\n')\n",
    "    # parse line contents\n",
    "    id = int(re.match(r'Monkey (\\d+)', id).group(1))\n",
    "    items = list(map(int, re.match(r'.*items: (.*)$', items).group(1).split(', ')))\n",
    "    m = re.match(r'.*: new = old (.) (.+)', operation)\n",
    "    operation = m.group(1), None if m.group(2) == 'old' else int(m.group(2))\n",
    "    divisor = int(re.match(r'.* by (\\d+)', divisor).group(1))\n",
    "    true_target = int(re.match(r'.* monkey (\\d+)', true_target).group(1))\n",
    "    false_target = int(re.match(r'.* monkey (\\d+)', false_target).group(1))\n",
    "    \n",
    "    return Monkey(\n",
    "        id = id,\n",
    "        items = items,\n",
    "        operation = operation,\n",
    "        divisor = divisor,\n",
    "        true_target = true_target,\n",
    "        false_target = false_target,\n",
    "    )\n",
    "\n",
    "\n",
    "def parse_monkeys(inp, chill=3):\n",
    "    return MonkeyRing(list(map(parse_monkey, inp.split('\\n\\n'))), chill=chill)\n",
    "\n",
    "\n",
    "OPERATORS = {\n",
    "    '*': '__mul__',\n",
    "    '/': '__div__',\n",
    "    '+': '__add__',\n",
    "    '-': '__sub__',\n",
    "}\n",
    "\n",
    "\n",
    "class Monkey:\n",
    "    \n",
    "    def __init__(\n",
    "        self,\n",
    "        *,\n",
    "        id,\n",
    "        items,\n",
    "        operation,\n",
    "        divisor,\n",
    "        true_target,\n",
    "        false_target,\n",
    "    ):\n",
    "        self.id = id\n",
    "        self.items = list(items)\n",
    "        self.operation = operation\n",
    "        self.divisor = divisor\n",
    "        self.true_target = true_target\n",
    "        self.false_target = false_target\n",
    "        self.inspections = 0\n",
    "        \n",
    "    def __repr__(self):\n",
    "        return (\n",
    "            f'Monkey('\n",
    "            f'id={self.id}, '\n",
    "            f'items={self.items}, '\n",
    "            f'operation={self.operation}, '\n",
    "            f'divisor={self.divisor}, '\n",
    "            f'true_target={self.true_target}, '\n",
    "            f'false_target={self.false_target}, '\n",
    "            f'inspections={self.inspections}, '\n",
    "            f')'\n",
    "        )\n",
    "    \n",
    "class MonkeyRing:\n",
    "    \n",
    "    def __init__(self, monkeys, chill=3):\n",
    "        self.monkeys = list(monkeys)\n",
    "        self.chill = chill\n",
    "        self.divisor = np.prod([monkey.divisor for monkey in monkeys])\n",
    "        self.dmonkeys = { monkey.id: monkey for monkey in monkeys }\n",
    "        for monkey in self.monkeys:\n",
    "            monkey.true_target_monkey = proxy(self.dmonkeys[monkey.true_target])\n",
    "            monkey.false_target_monkey = proxy(self.dmonkeys[monkey.false_target])\n",
    "            \n",
    "    def round(self, n=1, ):\n",
    "        for i_round in range(n):\n",
    "            for monkey in self.monkeys:\n",
    "                op, n = monkey.operation\n",
    "                while monkey.items:\n",
    "                    monkey.inspections += 1\n",
    "                    item = monkey.items.pop(0)\n",
    "                    op_value = item if n is None else n\n",
    "                    new_item = getattr(item, OPERATORS[op])(op_value) // self.chill\n",
    "                    new_item %= self.divisor\n",
    "                    test_result = (new_item % monkey.divisor == 0)\n",
    "                    if test_result:\n",
    "                        monkey.true_target_monkey.items.append(new_item)\n",
    "                    else:\n",
    "                        monkey.false_target_monkey.items.append(new_item)\n",
    "        return self\n",
    "    \n",
    "    @property\n",
    "    def business(self):\n",
    "        a, b = sorted(monkey.inspections for monkey in self.monkeys)[-2:]\n",
    "        return a * b\n",
    "            \n",
    "    def __repr__(self):\n",
    "        out = ['MonkeyRing('] + [\n",
    "            f'  {monkey}' for monkey in self.monkeys\n",
    "        ] + [')']\n",
    "        return '\\n'.join(out)"
   ]
  },
  {
   "cell_type": "code",
   "execution_count": 5,
   "metadata": {},
   "outputs": [
    {
     "name": "stdout",
     "output_type": "stream",
     "text": [
      "MonkeyRing(\n",
      "  Monkey(id=0, items=[79, 98], operation=('*', 19), divisor=23, true_target=2, false_target=3, inspections=0, )\n",
      "  Monkey(id=1, items=[54, 65, 75, 74], operation=('+', 6), divisor=19, true_target=2, false_target=0, inspections=0, )\n",
      "  Monkey(id=2, items=[79, 60, 97], operation=('*', None), divisor=13, true_target=1, false_target=3, inspections=0, )\n",
      "  Monkey(id=3, items=[74], operation=('+', 3), divisor=17, true_target=0, false_target=1, inspections=0, )\n",
      ")\n",
      "MonkeyRing(\n",
      "  Monkey(id=0, items=[10, 12, 14, 26, 34], operation=('*', 19), divisor=23, true_target=2, false_target=3, inspections=101, )\n",
      "  Monkey(id=1, items=[245, 93, 53, 199, 115], operation=('+', 6), divisor=19, true_target=2, false_target=0, inspections=95, )\n",
      "  Monkey(id=2, items=[], operation=('*', None), divisor=13, true_target=1, false_target=3, inspections=7, )\n",
      "  Monkey(id=3, items=[], operation=('+', 3), divisor=17, true_target=0, false_target=1, inspections=105, )\n",
      ")\n"
     ]
    },
    {
     "data": {
      "text/plain": [
       "10605"
      ]
     },
     "execution_count": 5,
     "metadata": {},
     "output_type": "execute_result"
    }
   ],
   "source": [
    "monkeys = parse_monkeys(test_inp)\n",
    "print(monkeys)\n",
    "monkeys.round(20)\n",
    "print(monkeys)\n",
    "monkeys.business"
   ]
  },
  {
   "cell_type": "code",
   "execution_count": 6,
   "metadata": {},
   "outputs": [
    {
     "name": "stdout",
     "output_type": "stream",
     "text": [
      "MonkeyRing(\n",
      "  Monkey(id=0, items=[79, 98], operation=('*', 19), divisor=23, true_target=2, false_target=3, inspections=0, )\n",
      "  Monkey(id=1, items=[54, 65, 75, 74], operation=('+', 6), divisor=19, true_target=2, false_target=0, inspections=0, )\n",
      "  Monkey(id=2, items=[79, 60, 97], operation=('*', None), divisor=13, true_target=1, false_target=3, inspections=0, )\n",
      "  Monkey(id=3, items=[74], operation=('+', 3), divisor=17, true_target=0, false_target=1, inspections=0, )\n",
      ")\n",
      "MonkeyRing(\n",
      "  Monkey(id=0, items=[63602, 56040, 11941, 10573, 61607], operation=('*', 19), divisor=23, true_target=2, false_target=3, inspections=52166, )\n",
      "  Monkey(id=1, items=[90861, 86149, 27648, 21340, 76915], operation=('+', 6), divisor=19, true_target=2, false_target=0, inspections=47830, )\n",
      "  Monkey(id=2, items=[], operation=('*', None), divisor=13, true_target=1, false_target=3, inspections=1938, )\n",
      "  Monkey(id=3, items=[], operation=('+', 3), divisor=17, true_target=0, false_target=1, inspections=52013, )\n",
      ")\n"
     ]
    },
    {
     "data": {
      "text/plain": [
       "2713310158"
      ]
     },
     "execution_count": 6,
     "metadata": {},
     "output_type": "execute_result"
    }
   ],
   "source": [
    "monkeys = parse_monkeys(test_inp, chill=1)\n",
    "print(monkeys)\n",
    "monkeys.round(10_000)\n",
    "print(monkeys)\n",
    "monkeys.business"
   ]
  },
  {
   "cell_type": "markdown",
   "metadata": {},
   "source": [
    "## Part 1"
   ]
  },
  {
   "cell_type": "code",
   "execution_count": 7,
   "metadata": {},
   "outputs": [
    {
     "name": "stdout",
     "output_type": "stream",
     "text": [
      "MonkeyRing(\n",
      "  Monkey(id=0, items=[72, 97], operation=('*', 13), divisor=19, true_target=5, false_target=6, inspections=0, )\n",
      "  Monkey(id=1, items=[55, 70, 90, 74, 95], operation=('*', None), divisor=7, true_target=5, false_target=0, inspections=0, )\n",
      "  Monkey(id=2, items=[74, 97, 66, 57], operation=('+', 6), divisor=17, true_target=1, false_target=0, inspections=0, )\n",
      "  Monkey(id=3, items=[86, 54, 53], operation=('+', 2), divisor=13, true_target=1, false_target=2, inspections=0, )\n",
      "  Monkey(id=4, items=[50, 65, 78, 50, 62, 99], operation=('+', 3), divisor=11, true_target=3, false_target=7, inspections=0, )\n",
      "  Monkey(id=5, items=[90], operation=('+', 4), divisor=2, true_target=4, false_target=6, inspections=0, )\n",
      "  Monkey(id=6, items=[88, 92, 63, 94, 96, 82, 53, 53], operation=('+', 8), divisor=5, true_target=4, false_target=7, inspections=0, )\n",
      "  Monkey(id=7, items=[70, 60, 71, 69, 77, 70, 98], operation=('*', 7), divisor=3, true_target=2, false_target=3, inspections=0, )\n",
      ")\n",
      "MonkeyRing(\n",
      "  Monkey(id=0, items=[3, 3, 3, 4, 5, 4, 4, 5, 5, 5, 5, 5, 5, 8, 8, 8, 8, 8], operation=('*', 13), divisor=19, true_target=5, false_target=6, inspections=225, )\n",
      "  Monkey(id=1, items=[17], operation=('*', None), divisor=7, true_target=5, false_target=0, inspections=16, )\n",
      "  Monkey(id=2, items=[5, 5, 110, 6, 11, 109368, 21, 21, 21, 21], operation=('+', 6), divisor=17, true_target=1, false_target=0, inspections=236, )\n",
      "  Monkey(id=3, items=[14, 14, 16, 16, 32, 32, 32], operation=('+', 2), divisor=13, true_target=1, false_target=2, inspections=158, )\n",
      "  Monkey(id=4, items=[], operation=('+', 3), divisor=11, true_target=3, false_target=7, inspections=69, )\n",
      "  Monkey(id=5, items=[], operation=('+', 4), divisor=2, true_target=4, false_target=6, inspections=12, )\n",
      "  Monkey(id=6, items=[], operation=('+', 8), divisor=5, true_target=4, false_target=7, inspections=232, )\n",
      "  Monkey(id=7, items=[], operation=('*', 7), divisor=3, true_target=2, false_target=3, inspections=246, )\n",
      ")\n"
     ]
    },
    {
     "data": {
      "text/plain": [
       "58056"
      ]
     },
     "execution_count": 7,
     "metadata": {},
     "output_type": "execute_result"
    }
   ],
   "source": [
    "monkeys = parse_monkeys(inp)\n",
    "print(monkeys)\n",
    "monkeys.round(20)\n",
    "print(monkeys)\n",
    "monkeys.business"
   ]
  },
  {
   "cell_type": "markdown",
   "metadata": {},
   "source": [
    "## Part 2"
   ]
  },
  {
   "cell_type": "code",
   "execution_count": 8,
   "metadata": {},
   "outputs": [
    {
     "name": "stdout",
     "output_type": "stream",
     "text": [
      "MonkeyRing(\n",
      "  Monkey(id=0, items=[72, 97], operation=('*', 13), divisor=19, true_target=5, false_target=6, inspections=0, )\n",
      "  Monkey(id=1, items=[55, 70, 90, 74, 95], operation=('*', None), divisor=7, true_target=5, false_target=0, inspections=0, )\n",
      "  Monkey(id=2, items=[74, 97, 66, 57], operation=('+', 6), divisor=17, true_target=1, false_target=0, inspections=0, )\n",
      "  Monkey(id=3, items=[86, 54, 53], operation=('+', 2), divisor=13, true_target=1, false_target=2, inspections=0, )\n",
      "  Monkey(id=4, items=[50, 65, 78, 50, 62, 99], operation=('+', 3), divisor=11, true_target=3, false_target=7, inspections=0, )\n",
      "  Monkey(id=5, items=[90], operation=('+', 4), divisor=2, true_target=4, false_target=6, inspections=0, )\n",
      "  Monkey(id=6, items=[88, 92, 63, 94, 96, 82, 53, 53], operation=('+', 8), divisor=5, true_target=4, false_target=7, inspections=0, )\n",
      "  Monkey(id=7, items=[70, 60, 71, 69, 77, 70, 98], operation=('*', 7), divisor=3, true_target=2, false_target=3, inspections=0, )\n",
      ")\n",
      "MonkeyRing(\n",
      "  Monkey(id=0, items=[3806524, 8961835, 7540051, 1113631, 1113631, 5963476, 4160311, 7301832, 7166403, 4731789, 5812869, 5812869], operation=('*', 13), divisor=19, true_target=5, false_target=6, inspections=122937, )\n",
      "  Monkey(id=1, items=[1457359], operation=('*', None), divisor=7, true_target=5, false_target=0, inspections=20445, )\n",
      "  Monkey(id=2, items=[6809770, 7513291, 7513291, 7513291, 7513291, 5296531, 9549687, 753081, 9193422, 9140733, 300447], operation=('+', 6), divisor=17, true_target=1, false_target=0, inspections=122291, )\n",
      "  Monkey(id=3, items=[5726497, 4984511, 3806516, 3806516, 4306106, 2400818, 1113623, 2263499], operation=('+', 2), divisor=13, true_target=1, false_target=2, inspections=62033, )\n",
      "  Monkey(id=4, items=[3315125, 7283180, 716165, 7669475], operation=('+', 3), divisor=11, true_target=3, false_target=7, inspections=32278, )\n",
      "  Monkey(id=5, items=[], operation=('+', 4), divisor=2, true_target=4, false_target=6, inspections=1538, )\n",
      "  Monkey(id=6, items=[], operation=('+', 8), divisor=5, true_target=4, false_target=7, inspections=122410, )\n",
      "  Monkey(id=7, items=[], operation=('*', 7), divisor=3, true_target=2, false_target=3, inspections=122181, )\n",
      ")\n"
     ]
    },
    {
     "data": {
      "text/plain": [
       "15048718170"
      ]
     },
     "execution_count": 8,
     "metadata": {},
     "output_type": "execute_result"
    }
   ],
   "source": [
    "monkeys = parse_monkeys(inp, chill=1)\n",
    "print(monkeys)\n",
    "monkeys.round(10_000)\n",
    "print(monkeys)\n",
    "monkeys.business"
   ]
  }
 ],
 "metadata": {
  "kernelspec": {
   "display_name": "Python 3.11.0",
   "language": "python",
   "name": "py311"
  },
  "language_info": {
   "codemirror_mode": {
    "name": "ipython",
    "version": 3
   },
   "file_extension": ".py",
   "mimetype": "text/x-python",
   "name": "python",
   "nbconvert_exporter": "python",
   "pygments_lexer": "ipython3",
   "version": "3.10.8"
  }
 },
 "nbformat": 4,
 "nbformat_minor": 4
}
