{
 "cells": [
  {
   "cell_type": "markdown",
   "metadata": {},
   "source": [
    "# 2022 Day 5\n",
    "\n",
    "https://adventofcode.com/2022/day/5\n",
    "\n",
    "https://adventofcode.com/2022/day/5/input"
   ]
  },
  {
   "cell_type": "code",
   "execution_count": 1,
   "metadata": {},
   "outputs": [],
   "source": [
    "import re\n",
    "import pandas as pd"
   ]
  },
  {
   "cell_type": "code",
   "execution_count": 2,
   "metadata": {},
   "outputs": [],
   "source": [
    "test_inp = \"\"\"\n",
    "    [D]    \n",
    "[N] [C]    \n",
    "[Z] [M] [P]\n",
    " 1   2   3 \n",
    "\n",
    "move 1 from 2 to 1\n",
    "move 3 from 1 to 3\n",
    "move 2 from 2 to 1\n",
    "move 1 from 1 to 2\n",
    "\"\"\".rstrip()"
   ]
  },
  {
   "cell_type": "code",
   "execution_count": 3,
   "metadata": {},
   "outputs": [],
   "source": [
    "inp = open('input-05.txt').read().rstrip()"
   ]
  },
  {
   "cell_type": "code",
   "execution_count": 4,
   "metadata": {},
   "outputs": [],
   "source": [
    "def parse_crates_moves(inp):\n",
    "    init, moves = inp.split('\\n\\n')\n",
    "    \n",
    "    init = list(reversed(init.split('\\n')))\n",
    "    stacks = {\n",
    "        int(key): []\n",
    "        for key in init[0].split()\n",
    "    }\n",
    "    for ini in init[1:]:\n",
    "        for (i, crate) in enumerate(ini[1::4]):\n",
    "            if crate != ' ':\n",
    "                stacks[i+1].append(crate)\n",
    "    \n",
    "    moves = pd.DataFrame([\n",
    "        re.match(r'move (\\d+) from (\\d+) to (\\d+)', move).groups()\n",
    "        for move in moves.split('\\n')\n",
    "    ], columns=['N', 'From', 'To']).astype(int)\n",
    "    return stacks, moves"
   ]
  },
  {
   "cell_type": "code",
   "execution_count": 5,
   "metadata": {},
   "outputs": [
    {
     "name": "stdout",
     "output_type": "stream",
     "text": [
      "{1: ['Z', 'N'], 2: ['M', 'C', 'D'], 3: ['P']}\n"
     ]
    },
    {
     "data": {
      "text/html": [
       "<div>\n",
       "<style scoped>\n",
       "    .dataframe tbody tr th:only-of-type {\n",
       "        vertical-align: middle;\n",
       "    }\n",
       "\n",
       "    .dataframe tbody tr th {\n",
       "        vertical-align: top;\n",
       "    }\n",
       "\n",
       "    .dataframe thead th {\n",
       "        text-align: right;\n",
       "    }\n",
       "</style>\n",
       "<table border=\"1\" class=\"dataframe\">\n",
       "  <thead>\n",
       "    <tr style=\"text-align: right;\">\n",
       "      <th></th>\n",
       "      <th>N</th>\n",
       "      <th>From</th>\n",
       "      <th>To</th>\n",
       "    </tr>\n",
       "  </thead>\n",
       "  <tbody>\n",
       "    <tr>\n",
       "      <th>0</th>\n",
       "      <td>1</td>\n",
       "      <td>2</td>\n",
       "      <td>1</td>\n",
       "    </tr>\n",
       "    <tr>\n",
       "      <th>1</th>\n",
       "      <td>3</td>\n",
       "      <td>1</td>\n",
       "      <td>3</td>\n",
       "    </tr>\n",
       "    <tr>\n",
       "      <th>2</th>\n",
       "      <td>2</td>\n",
       "      <td>2</td>\n",
       "      <td>1</td>\n",
       "    </tr>\n",
       "    <tr>\n",
       "      <th>3</th>\n",
       "      <td>1</td>\n",
       "      <td>1</td>\n",
       "      <td>2</td>\n",
       "    </tr>\n",
       "  </tbody>\n",
       "</table>\n",
       "</div>"
      ],
      "text/plain": [
       "   N  From  To\n",
       "0  1     2   1\n",
       "1  3     1   3\n",
       "2  2     2   1\n",
       "3  1     1   2"
      ]
     },
     "execution_count": 5,
     "metadata": {},
     "output_type": "execute_result"
    }
   ],
   "source": [
    "stacks, moves = parse_crates_moves(test_inp)\n",
    "print(stacks)\n",
    "moves"
   ]
  },
  {
   "cell_type": "markdown",
   "metadata": {},
   "source": [
    "## Part 1"
   ]
  },
  {
   "cell_type": "code",
   "execution_count": 6,
   "metadata": {},
   "outputs": [
    {
     "name": "stdout",
     "output_type": "stream",
     "text": [
      "{1: ['C'], 2: ['M'], 3: ['P', 'D', 'N', 'Z']}\n"
     ]
    },
    {
     "data": {
      "text/plain": [
       "'CMZ'"
      ]
     },
     "execution_count": 6,
     "metadata": {},
     "output_type": "execute_result"
    }
   ],
   "source": [
    "stacks, moves = parse_crates_moves(test_inp)\n",
    "for move in moves.itertuples():\n",
    "    for i in range(move.N):\n",
    "        stacks[move.To].append(stacks[move.From].pop(-1))\n",
    "print(stacks)\n",
    "''.join(stack[-1] for stack in stacks.values())"
   ]
  },
  {
   "cell_type": "code",
   "execution_count": 7,
   "metadata": {},
   "outputs": [
    {
     "name": "stdout",
     "output_type": "stream",
     "text": [
      "{1: ['G'], 2: ['R'], 3: ['V', 'S', 'T', 'T'], 4: ['D', 'N', 'R', 'W', 'S'], 5: ['F', 'V', 'B', 'T', 'B', 'J', 'D', 'M', 'W'], 6: ['Q', 'D', 'B', 'Q', 'P', 'Q', 'F', 'M', 'V', 'N'], 7: ['N', 'J'], 8: ['J', 'B', 'N', 'T', 'L', 'H', 'M', 'D', 'R', 'D', 'H', 'N', 'H'], 9: ['N', 'V', 'Q', 'R', 'S', 'B', 'B', 'Z', 'H', 'Q', 'H']}\n"
     ]
    },
    {
     "data": {
      "text/plain": [
       "'GRTSWNJHH'"
      ]
     },
     "execution_count": 7,
     "metadata": {},
     "output_type": "execute_result"
    }
   ],
   "source": [
    "stacks, moves = parse_crates_moves(inp)\n",
    "for move in moves.itertuples():\n",
    "    for i in range(move.N):\n",
    "        stacks[move.To].append(stacks[move.From].pop(-1))\n",
    "print(stacks)\n",
    "''.join(stack[-1] for stack in stacks.values())"
   ]
  },
  {
   "cell_type": "markdown",
   "metadata": {},
   "source": [
    "## Part 2"
   ]
  },
  {
   "cell_type": "code",
   "execution_count": 8,
   "metadata": {},
   "outputs": [
    {
     "data": {
      "text/plain": [
       "['G']"
      ]
     },
     "execution_count": 8,
     "metadata": {},
     "output_type": "execute_result"
    }
   ],
   "source": [
    "stack = stacks[1]\n",
    "stack"
   ]
  },
  {
   "cell_type": "code",
   "execution_count": 9,
   "metadata": {},
   "outputs": [
    {
     "name": "stdout",
     "output_type": "stream",
     "text": [
      "{1: ['Q'], 2: ['L'], 3: ['M', 'H', 'R', 'F'], 4: ['S', 'T', 'M', 'J', 'Q'], 5: ['D', 'S', 'Q', 'N', 'V', 'T', 'H', 'W', 'D'], 6: ['D', 'J', 'N', 'R', 'H', 'B', 'B', 'F', 'T', 'B'], 7: ['N', 'B'], 8: ['J', 'P', 'Q', 'Q', 'N', 'S', 'W', 'R', 'V', 'V', 'T', 'D', 'H'], 9: ['R', 'V', 'G', 'D', 'B', 'Z', 'H', 'N', 'N', 'B', 'M']}\n"
     ]
    },
    {
     "data": {
      "text/plain": [
       "'QLFQDBBHM'"
      ]
     },
     "execution_count": 9,
     "metadata": {},
     "output_type": "execute_result"
    }
   ],
   "source": [
    "stacks, moves = parse_crates_moves(inp)\n",
    "for move in moves.itertuples():\n",
    "    frm = stacks[move.From]\n",
    "    stacks[move.From], chunk = frm[:-move.N], frm[-move.N:]\n",
    "    stacks[move.To].extend(chunk)\n",
    "print(stacks)\n",
    "''.join(stack[-1] for stack in stacks.values())"
   ]
  }
 ],
 "metadata": {
  "kernelspec": {
   "display_name": "Python 3.11.0",
   "language": "python",
   "name": "py311"
  },
  "language_info": {
   "codemirror_mode": {
    "name": "ipython",
    "version": 3
   },
   "file_extension": ".py",
   "mimetype": "text/x-python",
   "name": "python",
   "nbconvert_exporter": "python",
   "pygments_lexer": "ipython3",
   "version": "3.10.8"
  }
 },
 "nbformat": 4,
 "nbformat_minor": 4
}
