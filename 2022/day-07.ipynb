{
 "cells": [
  {
   "cell_type": "markdown",
   "metadata": {},
   "source": [
    "# 2022 Day 7\n",
    "\n",
    "https://adventofcode.com/2022/day/7\n",
    "\n",
    "https://adventofcode.com/2022/day/7/input"
   ]
  },
  {
   "cell_type": "code",
   "execution_count": 1,
   "metadata": {},
   "outputs": [],
   "source": [
    "from collections import defaultdict\n",
    "import re"
   ]
  },
  {
   "cell_type": "code",
   "execution_count": 2,
   "metadata": {},
   "outputs": [
    {
     "data": {
      "text/plain": [
       "['$ cd /',\n",
       " '$ ls',\n",
       " 'dir a',\n",
       " '14848514 b.txt',\n",
       " '8504156 c.dat',\n",
       " 'dir d',\n",
       " '$ cd a',\n",
       " '$ ls',\n",
       " 'dir e',\n",
       " '29116 f',\n",
       " '2557 g',\n",
       " '62596 h.lst',\n",
       " '$ cd e',\n",
       " '$ ls',\n",
       " '584 i',\n",
       " '$ cd ..',\n",
       " '$ cd ..',\n",
       " '$ cd d',\n",
       " '$ ls',\n",
       " '4060174 j',\n",
       " '8033020 d.log',\n",
       " '5626152 d.ext',\n",
       " '7214296 k']"
      ]
     },
     "execution_count": 2,
     "metadata": {},
     "output_type": "execute_result"
    }
   ],
   "source": [
    "test_inp = \"\"\"\n",
    "$ cd /\n",
    "$ ls\n",
    "dir a\n",
    "14848514 b.txt\n",
    "8504156 c.dat\n",
    "dir d\n",
    "$ cd a\n",
    "$ ls\n",
    "dir e\n",
    "29116 f\n",
    "2557 g\n",
    "62596 h.lst\n",
    "$ cd e\n",
    "$ ls\n",
    "584 i\n",
    "$ cd ..\n",
    "$ cd ..\n",
    "$ cd d\n",
    "$ ls\n",
    "4060174 j\n",
    "8033020 d.log\n",
    "5626152 d.ext\n",
    "7214296 k\n",
    "\"\"\".strip().split('\\n')\n",
    "test_inp"
   ]
  },
  {
   "cell_type": "code",
   "execution_count": 3,
   "metadata": {},
   "outputs": [
    {
     "data": {
      "text/plain": [
       "['$ cd /',\n",
       " '$ ls',\n",
       " 'dir bqm',\n",
       " 'dir ctztn',\n",
       " 'dir dbclg',\n",
       " 'dir fhndmnt',\n",
       " 'dir gczqbh',\n",
       " '276177 hvbf.lvm',\n",
       " 'dir lnsgbqp',\n",
       " 'dir pblb']"
      ]
     },
     "execution_count": 3,
     "metadata": {},
     "output_type": "execute_result"
    }
   ],
   "source": [
    "inp = open('input-07.txt').read().split('\\n')\n",
    "inp[:10]"
   ]
  },
  {
   "cell_type": "markdown",
   "metadata": {},
   "source": [
    "## Part 1"
   ]
  },
  {
   "cell_type": "code",
   "execution_count": 4,
   "metadata": {},
   "outputs": [],
   "source": [
    "def build_tree(inp):\n",
    "    root = pwd = {}\n",
    "    path = ['']\n",
    "    history = [pwd]\n",
    "    sizes = defaultdict(int)\n",
    "\n",
    "    lines = inp[1:]\n",
    "\n",
    "    while lines:\n",
    "        line = lines.pop(0)\n",
    "        if m := re.match(r'\\$ cd (.*)', line):\n",
    "            # going deeper or shallower\n",
    "            dirname = m.group(1)\n",
    "            if dirname == '..':\n",
    "                # shallower\n",
    "                history.pop(-1)\n",
    "                path.pop(-1)\n",
    "                pwd = history[-1]\n",
    "            else:\n",
    "                # deeper\n",
    "                pwd = pwd[dirname]\n",
    "                history.append(pwd)\n",
    "                path.append(dirname)\n",
    "        elif m := re.match(r'\\$ ls', line):\n",
    "            line = lines.pop(0)\n",
    "            while lines and not line.startswith('$'):\n",
    "                # adding to dir skeleton or noting sizes\n",
    "                x, name = line.split()\n",
    "                if x == 'dir':\n",
    "                    # add dir\n",
    "                    pwd[name] = {}\n",
    "                else:\n",
    "                    # note size for pwd and all parents\n",
    "                    size = int(x)\n",
    "                    pwd[name] = size\n",
    "                    for i in range(len(path)):\n",
    "                        key = '/'.join(path[:i+1])\n",
    "                        sizes[key] += size\n",
    "                line = lines.pop(0)\n",
    "            lines.insert(0, line)\n",
    "            \n",
    "    return root, sizes"
   ]
  },
  {
   "cell_type": "code",
   "execution_count": 5,
   "metadata": {},
   "outputs": [
    {
     "data": {
      "text/plain": [
       "({'a': {'e': {'i': 584}, 'f': 29116, 'g': 2557, 'h.lst': 62596},\n",
       "  'b.txt': 14848514,\n",
       "  'c.dat': 8504156,\n",
       "  'd': {'j': 4060174, 'd.log': 8033020, 'd.ext': 5626152}},\n",
       " defaultdict(int, {'': 41166869, '/a': 94853, '/a/e': 584, '/d': 17719346}))"
      ]
     },
     "execution_count": 5,
     "metadata": {},
     "output_type": "execute_result"
    }
   ],
   "source": [
    "test_tree, test_sizes = build_tree(test_inp)\n",
    "test_tree, test_sizes"
   ]
  },
  {
   "cell_type": "code",
   "execution_count": 6,
   "metadata": {},
   "outputs": [
    {
     "data": {
      "text/plain": [
       "95437"
      ]
     },
     "execution_count": 6,
     "metadata": {},
     "output_type": "execute_result"
    }
   ],
   "source": [
    "sum(size for size in test_sizes.values() if size <= 100000)"
   ]
  },
  {
   "cell_type": "code",
   "execution_count": 7,
   "metadata": {},
   "outputs": [
    {
     "data": {
      "text/plain": [
       "1118405"
      ]
     },
     "execution_count": 7,
     "metadata": {},
     "output_type": "execute_result"
    }
   ],
   "source": [
    "tree, sizes = build_tree(inp)\n",
    "sum(size for size in sizes.values() if size <= 100000)"
   ]
  },
  {
   "cell_type": "markdown",
   "metadata": {},
   "source": [
    "## Part 2"
   ]
  },
  {
   "cell_type": "code",
   "execution_count": 8,
   "metadata": {},
   "outputs": [],
   "source": [
    "tree, sizes = build_tree(inp)"
   ]
  },
  {
   "cell_type": "code",
   "execution_count": 9,
   "metadata": {},
   "outputs": [
    {
     "data": {
      "text/plain": [
       "10175790"
      ]
     },
     "execution_count": 9,
     "metadata": {},
     "output_type": "execute_result"
    }
   ],
   "source": [
    "total = 70000000\n",
    "need_free = 30000000\n",
    "used = sizes['']\n",
    "free = total - used\n",
    "remaining_to_free = need_free - free\n",
    "remaining_to_free"
   ]
  },
  {
   "cell_type": "code",
   "execution_count": 10,
   "metadata": {},
   "outputs": [
    {
     "data": {
      "text/plain": [
       "12545514"
      ]
     },
     "execution_count": 10,
     "metadata": {},
     "output_type": "execute_result"
    }
   ],
   "source": [
    "min(size for size in sizes.values() if size >= remaining_to_free)"
   ]
  }
 ],
 "metadata": {
  "kernelspec": {
   "display_name": "Python 3.11.0",
   "language": "python",
   "name": "py311"
  },
  "language_info": {
   "codemirror_mode": {
    "name": "ipython",
    "version": 3
   },
   "file_extension": ".py",
   "mimetype": "text/x-python",
   "name": "python",
   "nbconvert_exporter": "python",
   "pygments_lexer": "ipython3",
   "version": "3.10.8"
  }
 },
 "nbformat": 4,
 "nbformat_minor": 4
}
