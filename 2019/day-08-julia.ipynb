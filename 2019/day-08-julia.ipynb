{
 "cells": [
  {
   "cell_type": "markdown",
   "metadata": {},
   "source": [
    "# Day 8: Space Image Format\n",
    "\n",
    "https://adventofcode.com/2019/day/8"
   ]
  },
  {
   "cell_type": "markdown",
   "metadata": {},
   "source": [
    "## Setup"
   ]
  },
  {
   "cell_type": "code",
   "execution_count": 1,
   "metadata": {},
   "outputs": [],
   "source": [
    "using Images: colorview, Gray"
   ]
  },
  {
   "cell_type": "code",
   "execution_count": 2,
   "metadata": {},
   "outputs": [],
   "source": [
    "IN = readlines(\"input/08.txt\")[1]\n",
    "DIMS = [25, 6]\n",
    ";"
   ]
  },
  {
   "cell_type": "markdown",
   "metadata": {},
   "source": [
    "## Implementation"
   ]
  },
  {
   "cell_type": "code",
   "execution_count": 3,
   "metadata": {},
   "outputs": [],
   "source": [
    "str2imin(input) = parse.(Int, split(input, \"\"))\n",
    "\n",
    "function tolayers(input, dims)\n",
    "    n_in = length(input)\n",
    "    layersize = prod(dims)\n",
    "    n_layers, rem = divrem(n_in, layersize)\n",
    "    @assert rem == 0\n",
    "    [reshape(chunk, dims...) for chunk in eachcol(reshape(input, layersize, n_layers))]\n",
    "end\n",
    "\n",
    "showlayer(layer) = println(layer')\n",
    "\n",
    "countdigit(layer, digit=0) = sum(layer .== digit)\n",
    "\n",
    "function check1(layers)\n",
    "    layer = layers[argmin(countdigit.(layers, 0))]\n",
    "    n1, n2 = countdigit(layer, 1), countdigit(layer, 2)\n",
    "    n1 * n2\n",
    "end\n",
    "\n",
    "function decode(layers)\n",
    "    dims = size(layers[1])\n",
    "    im = copy(layers[1])\n",
    "    for layer in Iterators.reverse(layers)\n",
    "        for i in 1:dims[1]\n",
    "            for j in 1:dims[2]\n",
    "                v = layer[i,j]\n",
    "                if v != 2\n",
    "                    im[i,j] = v\n",
    "                end\n",
    "            end\n",
    "        end\n",
    "    end\n",
    "    return im\n",
    "end\n",
    "\n",
    "function showim(imdecoded)\n",
    "    colorview(Gray, imdecoded' ./ 1 )\n",
    "end\n",
    ";"
   ]
  },
  {
   "cell_type": "markdown",
   "metadata": {},
   "source": [
    "## Tests"
   ]
  },
  {
   "cell_type": "code",
   "execution_count": 4,
   "metadata": {},
   "outputs": [
    {
     "name": "stdout",
     "output_type": "stream",
     "text": [
      "[1 2 3; 4 5 6]\n",
      "[7 8 9; 0 1 2]\n"
     ]
    }
   ],
   "source": [
    "test1 = \"123456789012\"\n",
    "itest1 = str2imin(test1)\n",
    "layers1 = tolayers(str2imin(test1), [3,2])\n",
    "showlayer.(layers1);"
   ]
  },
  {
   "cell_type": "code",
   "execution_count": 5,
   "metadata": {},
   "outputs": [
    {
     "data": {
      "text/plain": [
       "1"
      ]
     },
     "execution_count": 5,
     "metadata": {},
     "output_type": "execute_result"
    }
   ],
   "source": [
    "check1(layers1)"
   ]
  },
  {
   "cell_type": "code",
   "execution_count": 6,
   "metadata": {},
   "outputs": [
    {
     "name": "stdout",
     "output_type": "stream",
     "text": [
      "[0 2; 2 2]\n",
      "[1 1; 2 2]\n",
      "[2 2; 1 2]\n",
      "[0 0; 0 0]\n"
     ]
    }
   ],
   "source": [
    "test2 = \"0222112222120000\"\n",
    "layers2 = tolayers(str2imin(test2), [2,2])\n",
    "showlayer.(layers2);"
   ]
  },
  {
   "cell_type": "code",
   "execution_count": 7,
   "metadata": {},
   "outputs": [
    {
     "data": {
      "text/plain": [
       "2×2 Array{Int64,2}:\n",
       " 0  1\n",
       " 1  0"
      ]
     },
     "execution_count": 7,
     "metadata": {},
     "output_type": "execute_result"
    }
   ],
   "source": [
    "decode(layers2)"
   ]
  },
  {
   "cell_type": "code",
   "execution_count": 8,
   "metadata": {},
   "outputs": [
    {
     "data": {
      "image/png": "[encoded data removed]",
      "text/plain": [
       "2×2 reinterpret(Gray{Float64}, ::Array{Float64,2}):\n",
       " Gray{Float64}(0.0)  Gray{Float64}(1.0)\n",
       " Gray{Float64}(1.0)  Gray{Float64}(0.0)"
      ]
     },
     "execution_count": 8,
     "metadata": {},
     "output_type": "execute_result"
    }
   ],
   "source": [
    "showim(decode(layers2))"
   ]
  },
  {
   "cell_type": "markdown",
   "metadata": {},
   "source": [
    "## Part One"
   ]
  },
  {
   "cell_type": "code",
   "execution_count": 9,
   "metadata": {},
   "outputs": [],
   "source": [
    "LAYERS = tolayers(str2imin(IN), DIMS);"
   ]
  },
  {
   "cell_type": "code",
   "execution_count": 10,
   "metadata": {},
   "outputs": [
    {
     "data": {
      "text/plain": [
       "1320"
      ]
     },
     "execution_count": 10,
     "metadata": {},
     "output_type": "execute_result"
    }
   ],
   "source": [
    "check1(LAYERS)"
   ]
  },
  {
   "cell_type": "markdown",
   "metadata": {},
   "source": [
    "## Part Two"
   ]
  },
  {
   "cell_type": "code",
   "execution_count": 11,
   "metadata": {},
   "outputs": [
    {
     "data": {
      "image/png": "[encoded data removed]",
      "text/plain": [
       "6×25 reinterpret(Gray{Float64}, ::Array{Float64,2}):\n",
       " Gray{Float64}(1.0)  Gray{Float64}(1.0)  …  Gray{Float64}(0.0)\n",
       " Gray{Float64}(1.0)  Gray{Float64}(0.0)     Gray{Float64}(0.0)\n",
       " Gray{Float64}(1.0)  Gray{Float64}(0.0)     Gray{Float64}(0.0)\n",
       " Gray{Float64}(1.0)  Gray{Float64}(1.0)     Gray{Float64}(0.0)\n",
       " Gray{Float64}(1.0)  Gray{Float64}(0.0)     Gray{Float64}(0.0)\n",
       " Gray{Float64}(1.0)  Gray{Float64}(0.0)  …  Gray{Float64}(0.0)"
      ]
     },
     "execution_count": 11,
     "metadata": {},
     "output_type": "execute_result"
    }
   ],
   "source": [
    "showim(decode(LAYERS))"
   ]
  }
 ],
 "metadata": {
  "kernelspec": {
   "display_name": "Julia 1.2.0",
   "language": "julia",
   "name": "julia-1.2"
  },
  "language_info": {
   "file_extension": ".jl",
   "mimetype": "application/julia",
   "name": "julia",
   "version": "1.2.0"
  }
 },
 "nbformat": 4,
 "nbformat_minor": 4
}
