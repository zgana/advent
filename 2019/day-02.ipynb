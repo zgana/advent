{
 "cells": [
  {
   "cell_type": "markdown",
   "metadata": {},
   "source": [
    "# Day 2: 1202 Program Alarm\n",
    "\n",
    "https://adventofcode.com/2019/day/2"
   ]
  },
  {
   "cell_type": "markdown",
   "metadata": {},
   "source": [
    "# Setup"
   ]
  },
  {
   "cell_type": "code",
   "execution_count": 1,
   "metadata": {},
   "outputs": [],
   "source": [
    "import numpy as np"
   ]
  },
  {
   "cell_type": "markdown",
   "metadata": {},
   "source": [
    "## Implementation"
   ]
  },
  {
   "cell_type": "code",
   "execution_count": 2,
   "metadata": {},
   "outputs": [],
   "source": [
    "with open('input.txt') as f:\n",
    "    line = f.readline()\n",
    "CODES = np.array(list(map(int, line.split(','))))"
   ]
  },
  {
   "cell_type": "code",
   "execution_count": 3,
   "metadata": {},
   "outputs": [
    {
     "data": {
      "text/plain": [
       "array([  1,   0,   0,   3,   1,   1,   2,   3,   1,   3,   4,   3,   1,\n",
       "         5,   0,   3,   2,   6,   1,  19,   1,  19,  10,  23,   2,  13,\n",
       "        23,  27,   1,   5,  27,  31,   2,   6,  31,  35,   1,   6,  35,\n",
       "        39,   2,  39,   9,  43,   1,   5,  43,  47,   1,  13,  47,  51,\n",
       "         1,  10,  51,  55,   2,  55,  10,  59,   2,  10,  59,  63,   1,\n",
       "         9,  63,  67,   2,  67,  13,  71,   1,  71,   6,  75,   2,   6,\n",
       "        75,  79,   1,   5,  79,  83,   2,  83,   9,  87,   1,   6,  87,\n",
       "        91,   2,  91,   6,  95,   1,  95,   6,  99,   2,  99,  13, 103,\n",
       "         1,   6, 103, 107,   1,   2, 107, 111,   1, 111,   9,   0,  99,\n",
       "         2,  14,   0,   0])"
      ]
     },
     "execution_count": 3,
     "metadata": {},
     "output_type": "execute_result"
    }
   ],
   "source": [
    "CODES"
   ]
  },
  {
   "cell_type": "code",
   "execution_count": 4,
   "metadata": {},
   "outputs": [],
   "source": [
    "def step(codes, pos):\n",
    "    codes = codes.copy()\n",
    "    op = codes[pos]\n",
    "    if op == 99:\n",
    "        return codes, -1\n",
    "    i1, i2, i3 = codes[pos+1 : pos+4]\n",
    "    v1, v2 = codes[i1], codes[i2]\n",
    "    result = v1 + v2 if op == 1 else v1 * v2\n",
    "    codes[i3] = result\n",
    "    return codes, pos + 4"
   ]
  },
  {
   "cell_type": "code",
   "execution_count": 5,
   "metadata": {},
   "outputs": [],
   "source": [
    "def run(code):\n",
    "    pos = 0\n",
    "    while pos != -1:\n",
    "        code, pos = step(code, pos)\n",
    "    return code"
   ]
  },
  {
   "cell_type": "markdown",
   "metadata": {},
   "source": [
    "## Tests"
   ]
  },
  {
   "cell_type": "code",
   "execution_count": 6,
   "metadata": {},
   "outputs": [],
   "source": [
    "test = np.array([\n",
    "    1,9,10,3,\n",
    "    2,3,11,0,\n",
    "    99,\n",
    "    30,40,50\n",
    "])"
   ]
  },
  {
   "cell_type": "code",
   "execution_count": 7,
   "metadata": {},
   "outputs": [
    {
     "data": {
      "text/plain": [
       "array([3500,    9,   10,   70,    2,    3,   11,    0,   99,   30,   40,\n",
       "         50])"
      ]
     },
     "execution_count": 7,
     "metadata": {},
     "output_type": "execute_result"
    }
   ],
   "source": [
    "run(test)"
   ]
  },
  {
   "cell_type": "code",
   "execution_count": 8,
   "metadata": {},
   "outputs": [
    {
     "data": {
      "text/plain": [
       "[2, 0, 0, 0, 99]"
      ]
     },
     "execution_count": 8,
     "metadata": {},
     "output_type": "execute_result"
    }
   ],
   "source": [
    "run([1,0,0,0,99])"
   ]
  },
  {
   "cell_type": "code",
   "execution_count": 9,
   "metadata": {},
   "outputs": [
    {
     "data": {
      "text/plain": [
       "[2, 3, 0, 6, 99]"
      ]
     },
     "execution_count": 9,
     "metadata": {},
     "output_type": "execute_result"
    }
   ],
   "source": [
    "run([2,3,0,3,99])"
   ]
  },
  {
   "cell_type": "code",
   "execution_count": 10,
   "metadata": {},
   "outputs": [
    {
     "data": {
      "text/plain": [
       "[2, 4, 4, 5, 99, 9801]"
      ]
     },
     "execution_count": 10,
     "metadata": {},
     "output_type": "execute_result"
    }
   ],
   "source": [
    "run([2,4,4,5,99,0])"
   ]
  },
  {
   "cell_type": "code",
   "execution_count": 11,
   "metadata": {},
   "outputs": [
    {
     "data": {
      "text/plain": [
       "[30, 1, 1, 4, 2, 5, 6, 0, 99]"
      ]
     },
     "execution_count": 11,
     "metadata": {},
     "output_type": "execute_result"
    }
   ],
   "source": [
    "run([1,1,1,4,99,5,6,0,99])"
   ]
  },
  {
   "cell_type": "markdown",
   "metadata": {},
   "source": [
    "## Part One"
   ]
  },
  {
   "cell_type": "code",
   "execution_count": 12,
   "metadata": {},
   "outputs": [],
   "source": [
    "fixed_codes = CODES.copy()\n",
    "fixed_codes[1] = 12\n",
    "fixed_codes[2] = 2"
   ]
  },
  {
   "cell_type": "code",
   "execution_count": 13,
   "metadata": {},
   "outputs": [
    {
     "data": {
      "text/plain": [
       "array([4138687,      12,       2,       2,       1,       1,       2,\n",
       "             3,       1,       3,       4,       3,       1,       5,\n",
       "             0,       3,       2,       6,       1,      24,       1,\n",
       "            19,      10,      28,       2,      13,      23,     140,\n",
       "             1,       5,      27,     141,       2,       6,      31,\n",
       "           282,       1,       6,      35,     284,       2,      39,\n",
       "             9,     852,       1,       5,      43,     853,       1,\n",
       "            13,      47,     858,       1,      10,      51,     862,\n",
       "             2,      55,      10,    3448,       2,      10,      59,\n",
       "         13792,       1,       9,      63,   13795,       2,      67,\n",
       "            13,   68975,       1,      71,       6,   68977,       2,\n",
       "             6,      75,  137954,       1,       5,      79,  137955,\n",
       "             2,      83,       9,  413865,       1,       6,      87,\n",
       "        413867,       2,      91,       6,  827734,       1,      95,\n",
       "             6,  827736,       2,      99,      13, 4138680,       1,\n",
       "             6,     103, 4138682,       1,       2,     107, 4138684,\n",
       "             1,     111,       9,       0,      99,       2,      14,\n",
       "             0,       0])"
      ]
     },
     "execution_count": 13,
     "metadata": {},
     "output_type": "execute_result"
    }
   ],
   "source": [
    "run(fixed_codes)"
   ]
  },
  {
   "cell_type": "code",
   "execution_count": 14,
   "metadata": {},
   "outputs": [
    {
     "data": {
      "text/plain": [
       "4138687"
      ]
     },
     "execution_count": 14,
     "metadata": {},
     "output_type": "execute_result"
    }
   ],
   "source": [
    "run(fixed_codes)[0]"
   ]
  },
  {
   "cell_type": "markdown",
   "metadata": {},
   "source": [
    "## Part Two"
   ]
  },
  {
   "cell_type": "code",
   "execution_count": 15,
   "metadata": {},
   "outputs": [],
   "source": [
    "def find_noun_verb(codes, target):\n",
    "    rang = np.arange(100)\n",
    "    for noun in rang:\n",
    "        for verb in rang:\n",
    "            test_code = codes.copy()\n",
    "            test_code[1] = noun\n",
    "            test_code[2] = verb\n",
    "            result = run(test_code)[0]\n",
    "            if result == target:\n",
    "                return noun, verb"
   ]
  },
  {
   "cell_type": "code",
   "execution_count": 16,
   "metadata": {},
   "outputs": [
    {
     "name": "stdout",
     "output_type": "stream",
     "text": [
      "6635\n"
     ]
    }
   ],
   "source": [
    "TARGET = 19690720\n",
    "noun, verb = find_noun_verb(CODES, TARGET)\n",
    "print(100 * noun + verb)"
   ]
  }
 ],
 "metadata": {
  "kernelspec": {
   "display_name": "Python 3",
   "language": "python",
   "name": "python3"
  },
  "language_info": {
   "codemirror_mode": {
    "name": "ipython",
    "version": 3
   },
   "file_extension": ".py",
   "mimetype": "text/x-python",
   "name": "python",
   "nbconvert_exporter": "python",
   "pygments_lexer": "ipython3",
   "version": "3.7.3"
  }
 },
 "nbformat": 4,
 "nbformat_minor": 4
}
