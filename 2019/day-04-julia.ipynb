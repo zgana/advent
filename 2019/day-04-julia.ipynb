{
 "cells": [
  {
   "cell_type": "markdown",
   "metadata": {},
   "source": [
    "# Day 4: \n",
    "\n",
    "https://adventofcode.com/2019/day/4"
   ]
  },
  {
   "cell_type": "markdown",
   "metadata": {},
   "source": [
    "## Setup"
   ]
  },
  {
   "cell_type": "code",
   "execution_count": 1,
   "metadata": {},
   "outputs": [],
   "source": [
    "smin, smax = split(readlines(\"input/04.txt\")[1], \"-\")\n",
    "imin, imax = parse(Int, smin), parse(Int, smax);"
   ]
  },
  {
   "cell_type": "code",
   "execution_count": 2,
   "metadata": {},
   "outputs": [],
   "source": [
    "function isvalid_one(n::Int)\n",
    "    a = reverse(digits(n))\n",
    "    d = diff(a)\n",
    "    return minimum(d) == 0\n",
    "end\n",
    "\n",
    "function isvalid_two(n::Int)\n",
    "    a = reverse(digits(n))\n",
    "    d = diff(a)\n",
    "    if minimum(d) != 0\n",
    "        return false\n",
    "    end\n",
    "    blocks = [[a[1]]]\n",
    "    for i in a[2:end]\n",
    "        if i == blocks[end][end]\n",
    "            push!(blocks[end], i)\n",
    "        else\n",
    "            push!(blocks, [i])\n",
    "        end\n",
    "    end\n",
    "    lengths = length.(blocks)\n",
    "    return 2 in lengths\n",
    "end\n",
    "\n",
    "function get_valid_passwords(nmin::Int, nmax::Int, isvalid)\n",
    "    ns = Int[]\n",
    "    for n in nmin:nmax\n",
    "        if isvalid(n)\n",
    "            push!(ns, n)\n",
    "        end\n",
    "    end\n",
    "    return ns\n",
    "end\n",
    ";"
   ]
  },
  {
   "cell_type": "markdown",
   "metadata": {},
   "source": [
    "## Part One"
   ]
  },
  {
   "cell_type": "code",
   "execution_count": 3,
   "metadata": {},
   "outputs": [
    {
     "data": {
      "text/plain": [
       "594"
      ]
     },
     "execution_count": 3,
     "metadata": {},
     "output_type": "execute_result"
    }
   ],
   "source": [
    "length(get_valid_passwords(imin, imax, isvalid_one))"
   ]
  },
  {
   "cell_type": "markdown",
   "metadata": {},
   "source": [
    "## Part Two"
   ]
  },
  {
   "cell_type": "code",
   "execution_count": 4,
   "metadata": {},
   "outputs": [
    {
     "data": {
      "text/plain": [
       "364"
      ]
     },
     "execution_count": 4,
     "metadata": {},
     "output_type": "execute_result"
    }
   ],
   "source": [
    "length(get_valid_passwords(imin, imax, isvalid_two))"
   ]
  },
  {
   "cell_type": "markdown",
   "metadata": {},
   "source": [
    "## Timing"
   ]
  },
  {
   "cell_type": "code",
   "execution_count": 5,
   "metadata": {},
   "outputs": [],
   "source": [
    "using BenchmarkTools: @benchmark"
   ]
  },
  {
   "cell_type": "code",
   "execution_count": 6,
   "metadata": {},
   "outputs": [
    {
     "data": {
      "text/plain": [
       "BenchmarkTools.Trial: \n",
       "  memory estimate:  209.95 MiB\n",
       "  allocs estimate:  2293030\n",
       "  --------------\n",
       "  minimum time:     88.517 ms (8.06% GC)\n",
       "  median time:      89.467 ms (8.93% GC)\n",
       "  mean time:        91.203 ms (9.66% GC)\n",
       "  maximum time:     152.307 ms (37.83% GC)\n",
       "  --------------\n",
       "  samples:          55\n",
       "  evals/sample:     1"
      ]
     },
     "execution_count": 6,
     "metadata": {},
     "output_type": "execute_result"
    }
   ],
   "source": [
    "@benchmark get_valid_passwords(imin, imax, isvalid_one)"
   ]
  },
  {
   "cell_type": "code",
   "execution_count": 7,
   "metadata": {},
   "outputs": [
    {
     "data": {
      "text/plain": [
       "BenchmarkTools.Trial: \n",
       "  memory estimate:  210.39 MiB\n",
       "  allocs estimate:  2298454\n",
       "  --------------\n",
       "  minimum time:     90.728 ms (8.50% GC)\n",
       "  median time:      92.017 ms (9.38% GC)\n",
       "  mean time:        94.232 ms (10.22% GC)\n",
       "  maximum time:     154.067 ms (38.08% GC)\n",
       "  --------------\n",
       "  samples:          54\n",
       "  evals/sample:     1"
      ]
     },
     "execution_count": 7,
     "metadata": {},
     "output_type": "execute_result"
    }
   ],
   "source": [
    "@benchmark get_valid_passwords(imin, imax, isvalid_two)"
   ]
  }
 ],
 "metadata": {
  "kernelspec": {
   "display_name": "Julia 1.2.0",
   "language": "julia",
   "name": "julia-1.2"
  },
  "language_info": {
   "file_extension": ".jl",
   "mimetype": "application/julia",
   "name": "julia",
   "version": "1.2.0"
  }
 },
 "nbformat": 4,
 "nbformat_minor": 4
}
