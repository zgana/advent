{
 "cells": [
  {
   "cell_type": "markdown",
   "metadata": {},
   "source": [
    "# Day 3: Crossed Wires\n",
    "\n",
    "https://adventofcode.com/2019/day/3"
   ]
  },
  {
   "cell_type": "markdown",
   "metadata": {},
   "source": [
    "## Setup"
   ]
  },
  {
   "cell_type": "code",
   "execution_count": 1,
   "metadata": {},
   "outputs": [],
   "source": [
    "paths = [split(line, \",\") for line in readlines(\"input/03.txt\")];"
   ]
  },
  {
   "cell_type": "code",
   "execution_count": 2,
   "metadata": {},
   "outputs": [],
   "source": [
    "struct Point\n",
    "    x::Int\n",
    "    y::Int\n",
    "end"
   ]
  },
  {
   "cell_type": "code",
   "execution_count": 3,
   "metadata": {},
   "outputs": [],
   "source": [
    "function trace_path(path)\n",
    "    dx = Dict('L' => -1, 'R' => +1, 'U' => 0, 'D' => 0)\n",
    "    dy = Dict('L' => 0, 'R' => 0, 'U' => +1, 'D' => -1)\n",
    "    x = y = 0\n",
    "    coords = Point[Point(x, y)]\n",
    "    for item in path\n",
    "        dir, dist = item[1], parse(Int, item[2:end])\n",
    "        for i in 1:dist\n",
    "            x, y = x + dx[dir], y + dy[dir]\n",
    "            push!(coords, Point(x, y))\n",
    "        end\n",
    "    end\n",
    "    coords\n",
    "end\n",
    "\n",
    "manhattan(p::Point) = abs(p.x) + abs(p.y)\n",
    ";"
   ]
  },
  {
   "cell_type": "code",
   "execution_count": 4,
   "metadata": {},
   "outputs": [],
   "source": [
    "c1 = trace_path(paths[1])\n",
    "c2 = trace_path(paths[2]);"
   ]
  },
  {
   "cell_type": "markdown",
   "metadata": {},
   "source": [
    "## Part One"
   ]
  },
  {
   "cell_type": "code",
   "execution_count": 5,
   "metadata": {},
   "outputs": [
    {
     "name": "stdout",
     "output_type": "stream",
     "text": [
      "248\n"
     ]
    }
   ],
   "source": [
    "intersections = intersect(c1, c2)\n",
    "dists = manhattan.(intersections)\n",
    "println(dists[2])"
   ]
  },
  {
   "cell_type": "markdown",
   "metadata": {},
   "source": [
    "## Part Two"
   ]
  },
  {
   "cell_type": "code",
   "execution_count": 6,
   "metadata": {},
   "outputs": [
    {
     "data": {
      "text/plain": [
       "28582"
      ]
     },
     "execution_count": 6,
     "metadata": {},
     "output_type": "execute_result"
    }
   ],
   "source": [
    "t1 = [findall(p -> p == i, c1)[1] for i in intersections]\n",
    "t2 = [findall(p -> p == i, c2)[1] for i in intersections]\n",
    "t = t1 .+ t2\n",
    "sort(t)[2]"
   ]
  }
 ],
 "metadata": {
  "kernelspec": {
   "display_name": "Julia 1.2.0",
   "language": "julia",
   "name": "julia-1.2"
  },
  "language_info": {
   "file_extension": ".jl",
   "mimetype": "application/julia",
   "name": "julia",
   "version": "1.2.0"
  }
 },
 "nbformat": 4,
 "nbformat_minor": 4
}
