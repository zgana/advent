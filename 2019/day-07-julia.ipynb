{
 "cells": [
  {
   "cell_type": "markdown",
   "metadata": {},
   "source": [
    "# Day 7: Amplification Circuit\n",
    "\n",
    "https://adventofcode.com/2019/day/7"
   ]
  },
  {
   "cell_type": "markdown",
   "metadata": {},
   "source": [
    "## Setup"
   ]
  },
  {
   "cell_type": "code",
   "execution_count": 1,
   "metadata": {},
   "outputs": [
    {
     "data": {
      "text/plain": [
       "1×511 LinearAlgebra.Adjoint{Int64,Array{Int64,1}}:\n",
       " 3  8  1001  8  10  8  105  1  0  0  …  4  9  3  9  101  2  9  9  4  9  99"
      ]
     },
     "execution_count": 1,
     "metadata": {},
     "output_type": "execute_result"
    }
   ],
   "source": [
    "CODES = parse.(Int64, split(readlines(\"input/07.txt\")[1], \",\"))\n",
    "CODES'"
   ]
  },
  {
   "cell_type": "markdown",
   "metadata": {},
   "source": [
    "## Implementation"
   ]
  },
  {
   "cell_type": "code",
   "execution_count": 2,
   "metadata": {},
   "outputs": [],
   "source": [
    "# State: anticipate potentially multiple inputs and multiple outputs\n",
    "mutable struct State\n",
    "    code::Array{Int}\n",
    "    inputs::Array{Int}\n",
    "    outputs::Array{Int}\n",
    "    pos::Int\n",
    "    done::Bool\n",
    "end\n",
    "State(code::Array{Int}, inputs::Array{Int}) = State(code, inputs, [], 1, false)\n",
    "State(code::Array{Int}) = State(code, Int[])\n",
    "\n",
    "# HOLD: do not advance pos\n",
    "struct Hold end\n",
    "HOLD = Hold()\n",
    "\n",
    "# WAIT: need more input to continue\n",
    "struct Wait end\n",
    "WAIT = Wait()\n",
    "\n",
    "# CONTINUE: opposite of wait; run next step immediately\n",
    "struct Continue end\n",
    "CONTINUE = Continue()\n",
    "\n",
    "# arithmetic, jumps, conditionals\n",
    "ADD(state::State, a, b, out) = state.code[out] = a + b\n",
    "MUL(state::State, a, b, out) = state.code[out] = a * b\n",
    "JIF(state::State, a, b) = if a != 0 state.pos = b+1; HOLD else true end \n",
    "JIN(state::State, a, b) = if a == 0 state.pos = b+1; HOLD else true end\n",
    "CLT(state::State, a, b, out) = state.code[out] = 1 * (a < b)\n",
    "CEQ(state::State, a, b, out) = state.code[out] = 1 * (a == b)\n",
    "\n",
    "# I/O\n",
    "INP(state::State, out) = isempty(state.inputs) ? WAIT : state.code[out] = popfirst!(state.inputs)\n",
    "function OUT(state::State, a)\n",
    "    push!(state.outputs, a)\n",
    "    state.pos += 2\n",
    "    WAIT\n",
    "end\n",
    "\n",
    "# all implemented operations\n",
    "OPFUNCS = Dict(1=>ADD, 2=>MUL, 3=>INP, 4=>OUT, 5=>JIF, 6=>JIN, 7=>CLT, 8=>CEQ)\n",
    "\n",
    "# deduce number of args by inspection\n",
    "ARITY(f) = length(first(methods(f)).sig.parameters) - 2\n",
    "\n",
    "# parse op code and parameter modes\n",
    "function op_pmode(X)\n",
    "    X, op = divrem(X, 100)\n",
    "    X, mode1 = divrem(X, 10)\n",
    "    X, mode2 = divrem(X, 10)\n",
    "    X, mode3 = divrem(X, 10)\n",
    "    return op, [mode1, mode2, mode3]\n",
    "end\n",
    "\n",
    "# increment program state\n",
    "function step(state::State)\n",
    "    # get func\n",
    "    code, pos = state.code, state.pos\n",
    "    op, pmode = op_pmode(state.code[pos])\n",
    "    # TODO: do we need to special-case halt?\n",
    "    if op == 99\n",
    "        state.done = true\n",
    "        return\n",
    "    end\n",
    "    f = OPFUNCS[op]\n",
    "    # get args accounting for parameter modes\n",
    "    arity = ARITY(f)\n",
    "    pmode = pmode[1:arity]\n",
    "    codes = code[pos+1:pos+arity]\n",
    "    args = [m==0 ? code[c+1] : c for (m,c) in zip(pmode,codes)]\n",
    "    # hack: write locs are always (1-indexed) \"pointers\"\n",
    "    if f in (ADD, MUL, INP, CLT, CEQ)\n",
    "        args[end] = codes[end] + 1\n",
    "    end\n",
    "\n",
    "    # execute operation, checking whether to increment position\n",
    "    result = f(state, args...)\n",
    "    if !( result in (WAIT, HOLD) )\n",
    "        state.pos = pos + arity + 1\n",
    "    end\n",
    "    return result === WAIT ? WAIT : CONTINUE\n",
    "end\n",
    "\n",
    "# run program loop until halt or input wait\n",
    "function runprog(state::State)\n",
    "    result = CONTINUE\n",
    "    while !state.done && result != WAIT\n",
    "        result = step(state)\n",
    "    end\n",
    "    return state\n",
    "end\n",
    "\n",
    "runprog(code::Array, inputs=Int[]) = runprog(State(copy(code), inputs))\n",
    "runprog(code::Array, input::Int) = runprog(code, [input])\n",
    ";"
   ]
  },
  {
   "cell_type": "code",
   "execution_count": 3,
   "metadata": {},
   "outputs": [],
   "source": [
    "function testthrust(phases::Array{Int}, code)\n",
    "    # run each amp serially with specified phases\n",
    "    last_out = 0\n",
    "    for phase in phases\n",
    "        last_out = runprog(code, Int[phase, last_out]).outputs[end]\n",
    "    end\n",
    "    return last_out\n",
    "end\n",
    ";"
   ]
  },
  {
   "cell_type": "code",
   "execution_count": 4,
   "metadata": {},
   "outputs": [],
   "source": [
    "function testthrust2(phases::Array{Int}, code, maxiter=10000)\n",
    "    # treat states as a circular queue\n",
    "    states = [State(copy(code), [phase]) for phase in phases]\n",
    "    # bootstrap feedback loop\n",
    "    push!(states[end].outputs, 0)\n",
    "    prev = states[end]\n",
    "    # track most recent output\n",
    "    last_out = 0\n",
    "    while !isempty(states)\n",
    "        # run cur with inputs equal to prev's output\n",
    "        cur = popfirst!(states)\n",
    "        append!(cur.inputs, prev.outputs)\n",
    "        prev.outputs = []\n",
    "        runprog(cur)\n",
    "        prev = cur\n",
    "        # track output if *not* done\n",
    "        # because once everything's done,\n",
    "        # all output queues will be empty\n",
    "        if !cur.done\n",
    "            last_out = cur.outputs[1]\n",
    "            push!(states, cur)\n",
    "        end\n",
    "    end\n",
    "    return last_out\n",
    "end\n",
    ";"
   ]
  },
  {
   "cell_type": "markdown",
   "metadata": {},
   "source": [
    "## Tests"
   ]
  },
  {
   "cell_type": "code",
   "execution_count": 5,
   "metadata": {},
   "outputs": [],
   "source": [
    "test1 = [3,15,3,16,1002,16,10,16,1,16,15,15,4,15,99,0,0]\n",
    "test2 = [3,23,3,24,1002,24,10,24,1002,23,-1,23,101,5,23,23,1,24,23,23,4,23,99,0,0]\n",
    "test3 = [3,31,3,32,1002,32,10,32,1001,31,-2,31,1007,31,0,33,1002,33,7,33,1,33,31,31,1,32,31,31,4,31,99,0,0,0]\n",
    ";"
   ]
  },
  {
   "cell_type": "code",
   "execution_count": 6,
   "metadata": {},
   "outputs": [
    {
     "data": {
      "text/plain": [
       "43210"
      ]
     },
     "execution_count": 6,
     "metadata": {},
     "output_type": "execute_result"
    }
   ],
   "source": [
    "testthrust([4,3,2,1,0], test1)"
   ]
  },
  {
   "cell_type": "code",
   "execution_count": 7,
   "metadata": {},
   "outputs": [
    {
     "data": {
      "text/plain": [
       "54321"
      ]
     },
     "execution_count": 7,
     "metadata": {},
     "output_type": "execute_result"
    }
   ],
   "source": [
    "testthrust([0,1,2,3,4], test2)"
   ]
  },
  {
   "cell_type": "code",
   "execution_count": 8,
   "metadata": {},
   "outputs": [
    {
     "data": {
      "text/plain": [
       "65210"
      ]
     },
     "execution_count": 8,
     "metadata": {},
     "output_type": "execute_result"
    }
   ],
   "source": [
    "testthrust([1,0,4,3,2], test3)"
   ]
  },
  {
   "cell_type": "code",
   "execution_count": 9,
   "metadata": {},
   "outputs": [],
   "source": [
    "test4 = [3,26,1001,26,-4,26,3,27,1002,27,2,27,1,27,26,27,4,27,1001,28,-1,28,1005,28,6,99,0,0,5]\n",
    "test5 = [3,52,1001,52,-5,52,3,53,1,52,56,54,1007,54,5,55,1005,55,26,1001,54,\n",
    "    -5,54,1105,1,12,1,53,54,53,1008,54,0,55,1001,55,1,55,2,53,55,53,4,\n",
    "    53,1001,56,-1,56,1005,56,6,99,0,0,0,0,10]\n",
    ";"
   ]
  },
  {
   "cell_type": "code",
   "execution_count": 10,
   "metadata": {},
   "outputs": [
    {
     "data": {
      "text/plain": [
       "139629729"
      ]
     },
     "execution_count": 10,
     "metadata": {},
     "output_type": "execute_result"
    }
   ],
   "source": [
    "testthrust2([9,8,7,6,5], test4)"
   ]
  },
  {
   "cell_type": "code",
   "execution_count": 11,
   "metadata": {},
   "outputs": [
    {
     "data": {
      "text/plain": [
       "18216"
      ]
     },
     "execution_count": 11,
     "metadata": {},
     "output_type": "execute_result"
    }
   ],
   "source": [
    "testthrust2([9,7,8,5,6], test5)"
   ]
  },
  {
   "cell_type": "markdown",
   "metadata": {},
   "source": [
    "## Part One"
   ]
  },
  {
   "cell_type": "code",
   "execution_count": 12,
   "metadata": {},
   "outputs": [],
   "source": [
    "using Combinatorics: permutations"
   ]
  },
  {
   "cell_type": "code",
   "execution_count": 13,
   "metadata": {},
   "outputs": [
    {
     "name": "stdout",
     "output_type": "stream",
     "text": [
      "  0.117694 seconds (341.41 k allocations: 19.393 MiB, 4.83% gc time)\n"
     ]
    }
   ],
   "source": [
    "outputs = []\n",
    "r = 0:4\n",
    "perms = permutations(r)\n",
    "@time for perm in perms\n",
    "    push!(outputs, testthrust(perm, CODES))\n",
    "end"
   ]
  },
  {
   "cell_type": "code",
   "execution_count": 14,
   "metadata": {},
   "outputs": [
    {
     "data": {
      "text/plain": [
       "206580"
      ]
     },
     "execution_count": 14,
     "metadata": {},
     "output_type": "execute_result"
    }
   ],
   "source": [
    "maximum(outputs)"
   ]
  },
  {
   "cell_type": "markdown",
   "metadata": {},
   "source": [
    "## Part Two"
   ]
  },
  {
   "cell_type": "code",
   "execution_count": 15,
   "metadata": {},
   "outputs": [
    {
     "name": "stdout",
     "output_type": "stream",
     "text": [
      "  0.129895 seconds (517.04 k allocations: 29.383 MiB, 3.70% gc time)\n"
     ]
    }
   ],
   "source": [
    "outputs2 = []\n",
    "r = 5:9\n",
    "perms = permutations(r)\n",
    "@time for perm in perms\n",
    "    push!(outputs2, testthrust2(perm, CODES))\n",
    "end"
   ]
  },
  {
   "cell_type": "code",
   "execution_count": 16,
   "metadata": {},
   "outputs": [
    {
     "data": {
      "text/plain": [
       "2299406"
      ]
     },
     "execution_count": 16,
     "metadata": {},
     "output_type": "execute_result"
    }
   ],
   "source": [
    "maximum(outputs2)"
   ]
  }
 ],
 "metadata": {
  "kernelspec": {
   "display_name": "Julia 1.2.0",
   "language": "julia",
   "name": "julia-1.2"
  },
  "language_info": {
   "file_extension": ".jl",
   "mimetype": "application/julia",
   "name": "julia",
   "version": "1.2.0"
  }
 },
 "nbformat": 4,
 "nbformat_minor": 4
}
