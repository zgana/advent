{
 "cells": [
  {
   "cell_type": "markdown",
   "metadata": {},
   "source": [
    "# Day 6: Universal Orbit Map\n",
    "\n",
    "https://adventofcode.com/2019/day/6"
   ]
  },
  {
   "cell_type": "markdown",
   "metadata": {},
   "source": [
    "## Setup"
   ]
  },
  {
   "cell_type": "code",
   "execution_count": 1,
   "metadata": {},
   "outputs": [],
   "source": [
    "TEXT = readlines(\"input/06.txt\");"
   ]
  },
  {
   "cell_type": "code",
   "execution_count": 2,
   "metadata": {},
   "outputs": [
    {
     "data": {
      "text/plain": [
       "Array{String,1}"
      ]
     },
     "execution_count": 2,
     "metadata": {},
     "output_type": "execute_result"
    }
   ],
   "source": [
    "typeof(TEXT)"
   ]
  },
  {
   "cell_type": "markdown",
   "metadata": {},
   "source": [
    "## Implementation"
   ]
  },
  {
   "cell_type": "code",
   "execution_count": 3,
   "metadata": {},
   "outputs": [],
   "source": [
    "mutable struct Node\n",
    "    name::String\n",
    "    parent\n",
    "    children::Array\n",
    "end\n",
    "Node(name) = Node(name, nothing, [])\n",
    "ancestors(node::Node) = vcat([node], ancestors(node.parent))\n",
    "ancestors(node::Nothing) = []\n",
    "nameof(node::Node) = node.name\n",
    "\n",
    "function prettyprint(node::Node, depth=0)\n",
    "    println(repeat(\"| \", depth) * \" + $(node.name)\")\n",
    "    for child in node.children\n",
    "        prettyprint(child, depth+1)\n",
    "    end\n",
    "end\n",
    ";"
   ]
  },
  {
   "cell_type": "code",
   "execution_count": 4,
   "metadata": {},
   "outputs": [],
   "source": [
    "struct OrbitNet\n",
    "    all::Dict{String,Node}\n",
    "end\n",
    "\n",
    "function buildnet(text)\n",
    "    orbits = [split(line, \")\") for line in text]\n",
    "    all_keys = Set(vcat(orbits...))\n",
    "    all = Dict(k => Node(k) for k in all_keys)\n",
    "    for (p, c) in orbits\n",
    "        parent, child = all[p], all[c]\n",
    "        push!(parent.children, child)\n",
    "        child.parent = parent\n",
    "    end\n",
    "    OrbitNet(all)\n",
    "end\n",
    "prettyprint(on::OrbitNet) = prettyprint(on[\"COM\"])\n",
    "\n",
    "Base.getindex(on::OrbitNet, key) = on.all[key]\n",
    ";"
   ]
  },
  {
   "cell_type": "code",
   "execution_count": 5,
   "metadata": {},
   "outputs": [],
   "source": [
    "countall(node, depth=0) = depth + sum(Int[countall(child, depth+1) for child in node.children])\n",
    "countall(on::OrbitNet) = countall(on[\"COM\"])\n",
    ";"
   ]
  },
  {
   "cell_type": "code",
   "execution_count": 6,
   "metadata": {},
   "outputs": [
    {
     "data": {
      "text/plain": [
       "3"
      ]
     },
     "execution_count": 6,
     "metadata": {},
     "output_type": "execute_result"
    }
   ],
   "source": [
    "length([1,2,3])"
   ]
  },
  {
   "cell_type": "code",
   "execution_count": 7,
   "metadata": {},
   "outputs": [],
   "source": [
    "function shortestpath(node1::Node, node2::Node)\n",
    "    # find root\n",
    "    anc1, anc2 = reverse(ancestors(node1)), reverse(ancestors(node2))\n",
    "    @assert anc1[1] === anc2[1]\n",
    "    i = 1\n",
    "    while anc1[i] == anc2[i] && i < length(anc1) && i < length(anc2)\n",
    "        i += 1\n",
    "    end\n",
    "    length(anc1) + length(anc2) - 2*(i-1)\n",
    "end\n",
    ";"
   ]
  },
  {
   "cell_type": "markdown",
   "metadata": {},
   "source": [
    "## Tests"
   ]
  },
  {
   "cell_type": "code",
   "execution_count": 8,
   "metadata": {},
   "outputs": [],
   "source": [
    "test = split(\"\"\"COM)B\n",
    "B)C\n",
    "C)D\n",
    "D)E\n",
    "E)F\n",
    "B)G\n",
    "G)H\n",
    "D)I\n",
    "E)J\n",
    "J)K\n",
    "K)L\"\"\", \"\\n\");"
   ]
  },
  {
   "cell_type": "code",
   "execution_count": 9,
   "metadata": {},
   "outputs": [],
   "source": [
    "on = buildnet(test);"
   ]
  },
  {
   "cell_type": "code",
   "execution_count": 10,
   "metadata": {},
   "outputs": [
    {
     "name": "stdout",
     "output_type": "stream",
     "text": [
      " + COM\n",
      "|  + B\n",
      "| |  + C\n",
      "| | |  + D\n",
      "| | | |  + E\n",
      "| | | | |  + F\n",
      "| | | | |  + J\n",
      "| | | | | |  + K\n",
      "| | | | | | |  + L\n",
      "| | | |  + I\n",
      "| |  + G\n",
      "| | |  + H\n"
     ]
    }
   ],
   "source": [
    "prettyprint(on)"
   ]
  },
  {
   "cell_type": "code",
   "execution_count": 11,
   "metadata": {},
   "outputs": [
    {
     "data": {
      "text/plain": [
       "42"
      ]
     },
     "execution_count": 11,
     "metadata": {},
     "output_type": "execute_result"
    }
   ],
   "source": [
    "countall(on)"
   ]
  },
  {
   "cell_type": "code",
   "execution_count": 12,
   "metadata": {},
   "outputs": [
    {
     "data": {
      "text/plain": [
       "8"
      ]
     },
     "execution_count": 12,
     "metadata": {},
     "output_type": "execute_result"
    }
   ],
   "source": [
    "shortestpath(on[\"L\"], on[\"H\"])"
   ]
  },
  {
   "cell_type": "markdown",
   "metadata": {},
   "source": [
    "## Prep"
   ]
  },
  {
   "cell_type": "code",
   "execution_count": 13,
   "metadata": {},
   "outputs": [],
   "source": [
    "ON = buildnet(TEXT);"
   ]
  },
  {
   "cell_type": "markdown",
   "metadata": {},
   "source": [
    "## Part One"
   ]
  },
  {
   "cell_type": "code",
   "execution_count": 14,
   "metadata": {},
   "outputs": [
    {
     "data": {
      "text/plain": [
       "358244"
      ]
     },
     "execution_count": 14,
     "metadata": {},
     "output_type": "execute_result"
    }
   ],
   "source": [
    "countall(ON)"
   ]
  },
  {
   "cell_type": "code",
   "execution_count": 15,
   "metadata": {},
   "outputs": [
    {
     "data": {
      "text/plain": [
       "517"
      ]
     },
     "execution_count": 15,
     "metadata": {},
     "output_type": "execute_result"
    }
   ],
   "source": [
    "# don't count self->parent as \"orbital transfer\"\n",
    "shortestpath(ON[\"YOU\"], ON[\"SAN\"]) - 2"
   ]
  }
 ],
 "metadata": {
  "kernelspec": {
   "display_name": "Julia 1.2.0",
   "language": "julia",
   "name": "julia-1.2"
  },
  "language_info": {
   "file_extension": ".jl",
   "mimetype": "application/julia",
   "name": "julia",
   "version": "1.2.0"
  }
 },
 "nbformat": 4,
 "nbformat_minor": 4
}
