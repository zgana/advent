{
 "cells": [
  {
   "cell_type": "markdown",
   "metadata": {},
   "source": [
    "# Day 5: \n",
    "\n",
    "https://adventofcode.com/2019/day/5"
   ]
  },
  {
   "cell_type": "markdown",
   "metadata": {},
   "source": [
    "## Setup"
   ]
  },
  {
   "cell_type": "code",
   "execution_count": 1,
   "metadata": {},
   "outputs": [
    {
     "data": {
      "text/plain": [
       "1×678 LinearAlgebra.Adjoint{Int64,Array{Int64,1}}:\n",
       " 3  225  1  225  6  6  1100  1  238  …  1001  223  1  223  4  223  99  226"
      ]
     },
     "execution_count": 1,
     "metadata": {},
     "output_type": "execute_result"
    }
   ],
   "source": [
    "CODES = parse.(Int64, split(readlines(\"input/05.txt\")[1], \",\"))\n",
    "CODES'"
   ]
  },
  {
   "cell_type": "markdown",
   "metadata": {},
   "source": [
    "## Implementation"
   ]
  },
  {
   "cell_type": "code",
   "execution_count": 65,
   "metadata": {},
   "outputs": [
    {
     "data": {
      "text/plain": [
       "runprog (generic function with 3 methods)"
      ]
     },
     "execution_count": 65,
     "metadata": {},
     "output_type": "execute_result"
    }
   ],
   "source": [
    "mutable struct State\n",
    "    code::Array{Int}\n",
    "    pos::Int\n",
    "    inputs::Array{Int}\n",
    "end\n",
    "\n",
    "struct Hold end\n",
    "HOLD = Hold()\n",
    "\n",
    "ADD(state::State, a, b, out) = state.code[out] = a + b\n",
    "MUL(state::State, a, b, out) = state.code[out] = a * b\n",
    "INP(state::State, out) = state.code[out] = popfirst!(state.inputs)\n",
    "OUT(state::State, a) = println(\"* \", a)\n",
    "JIF(state::State, a, b) = if a != 0 state.pos = b+1; HOLD else true end \n",
    "JIN(state::State, a, b) = if a == 0 state.pos = b+1; HOLD else true end\n",
    "CLT(state::State, a, b, out) = state.code[out] = 1 * (a < b)\n",
    "CEQ(state::State, a, b, out) = state.code[out] = 1 * (a == b)\n",
    "OPFUNCS = Dict(1=>ADD, 2=>MUL, 3=>INP, 4=>OUT, 5=>JIF, 6=>JIN, 7=>CLT, 8=>CEQ)\n",
    "\n",
    "ARITY(f) = length(first(methods(f)).sig.parameters) - 2\n",
    "\n",
    "function op_pmode(X)\n",
    "    X, op = divrem(X, 100)\n",
    "    X, mode1 = divrem(X, 10)\n",
    "    X, mode2 = divrem(X, 10)\n",
    "    X, mode3 = divrem(X, 10)\n",
    "    return op, [mode1, mode2, mode3]\n",
    "end\n",
    "\n",
    "function step(state::State)\n",
    "    # get func\n",
    "    code, pos = state.code, state.pos\n",
    "    op, pmode = op_pmode(state.code[pos])\n",
    "    if op == 99\n",
    "        state.pos = -1\n",
    "        return\n",
    "    end\n",
    "    f = OPFUNCS[op]\n",
    "    # get args accounting for parameter modes\n",
    "    arity = ARITY(f)\n",
    "    pmode = pmode[1:arity]\n",
    "    codes = code[pos+1:pos+arity]\n",
    "    args = [m==0 ? code[c+1] : c for (m,c) in zip(pmode,codes)]\n",
    "    # hack: write locs are always (1-indexed) \"pointers\"\n",
    "    if f in (ADD, MUL, INP, CLT, CEQ)\n",
    "        args[end] = codes[end] + 1\n",
    "    end\n",
    "\n",
    "    # runprog operation, checking whether to increment position\n",
    "    if f(state, args...) !== HOLD\n",
    "        state.pos = pos + arity + 1\n",
    "    end\n",
    "end\n",
    "\n",
    "function runprog(code, inputs=Int[])\n",
    "    state = State(copy(code), 1, inputs)\n",
    "    while state.pos != -1\n",
    "        step(state)\n",
    "    end\n",
    "    return state.code\n",
    "end\n",
    "\n",
    "runprog(code, input::Int) = runprog(code, [input])"
   ]
  },
  {
   "cell_type": "markdown",
   "metadata": {},
   "source": [
    "## Tests: Day 2 style"
   ]
  },
  {
   "cell_type": "code",
   "execution_count": 50,
   "metadata": {},
   "outputs": [
    {
     "data": {
      "text/plain": [
       "1×12 LinearAlgebra.Adjoint{Int64,Array{Int64,1}}:\n",
       " 3500  9  10  70  2  3  11  0  99  30  40  50"
      ]
     },
     "execution_count": 50,
     "metadata": {},
     "output_type": "execute_result"
    }
   ],
   "source": [
    "runprog([1,9,10,3,\n",
    "    2,3,11,0,\n",
    "    99,\n",
    "    30,40,50])'"
   ]
  },
  {
   "cell_type": "code",
   "execution_count": 51,
   "metadata": {},
   "outputs": [
    {
     "data": {
      "text/plain": [
       "1×5 LinearAlgebra.Adjoint{Int64,Array{Int64,1}}:\n",
       " 2  0  0  0  99"
      ]
     },
     "execution_count": 51,
     "metadata": {},
     "output_type": "execute_result"
    }
   ],
   "source": [
    "runprog([1,0,0,0,99])'"
   ]
  },
  {
   "cell_type": "code",
   "execution_count": 52,
   "metadata": {},
   "outputs": [
    {
     "data": {
      "text/plain": [
       "1×5 LinearAlgebra.Adjoint{Int64,Array{Int64,1}}:\n",
       " 2  3  0  6  99"
      ]
     },
     "execution_count": 52,
     "metadata": {},
     "output_type": "execute_result"
    }
   ],
   "source": [
    "runprog([2,3,0,3,99])'"
   ]
  },
  {
   "cell_type": "code",
   "execution_count": 53,
   "metadata": {},
   "outputs": [
    {
     "data": {
      "text/plain": [
       "1×6 LinearAlgebra.Adjoint{Int64,Array{Int64,1}}:\n",
       " 2  4  4  5  99  9801"
      ]
     },
     "execution_count": 53,
     "metadata": {},
     "output_type": "execute_result"
    }
   ],
   "source": [
    "runprog([2,4,4,5,99,0])'"
   ]
  },
  {
   "cell_type": "code",
   "execution_count": 54,
   "metadata": {},
   "outputs": [
    {
     "data": {
      "text/plain": [
       "1×9 LinearAlgebra.Adjoint{Int64,Array{Int64,1}}:\n",
       " 30  1  1  4  2  5  6  0  99"
      ]
     },
     "execution_count": 54,
     "metadata": {},
     "output_type": "execute_result"
    }
   ],
   "source": [
    "runprog([1,1,1,4,99,5,6,0,99])'"
   ]
  },
  {
   "cell_type": "markdown",
   "metadata": {},
   "source": [
    "##  Tests: Day 5 style"
   ]
  },
  {
   "cell_type": "code",
   "execution_count": 66,
   "metadata": {},
   "outputs": [
    {
     "name": "stdout",
     "output_type": "stream",
     "text": [
      "* 1\n"
     ]
    }
   ],
   "source": [
    "runprog([3,0,4,0,99], 1);"
   ]
  },
  {
   "cell_type": "code",
   "execution_count": 56,
   "metadata": {},
   "outputs": [
    {
     "data": {
      "text/plain": [
       "1×5 LinearAlgebra.Adjoint{Int64,Array{Int64,1}}:\n",
       " 1002  4  3  4  99"
      ]
     },
     "execution_count": 56,
     "metadata": {},
     "output_type": "execute_result"
    }
   ],
   "source": [
    "runprog([1002,4,3,4,33], 1)'"
   ]
  },
  {
   "cell_type": "code",
   "execution_count": 57,
   "metadata": {},
   "outputs": [
    {
     "name": "stdout",
     "output_type": "stream",
     "text": [
      "* 1\n"
     ]
    }
   ],
   "source": [
    "runprog([3,9,8,9,10,9,4,9,99,-1,8], 8);"
   ]
  },
  {
   "cell_type": "code",
   "execution_count": 58,
   "metadata": {},
   "outputs": [
    {
     "name": "stdout",
     "output_type": "stream",
     "text": [
      "* 1\n"
     ]
    }
   ],
   "source": [
    "runprog([3,3,1107,-1,8,3,4,3,99], 7);"
   ]
  },
  {
   "cell_type": "code",
   "execution_count": 59,
   "metadata": {},
   "outputs": [
    {
     "name": "stdout",
     "output_type": "stream",
     "text": [
      "* 0\n"
     ]
    }
   ],
   "source": [
    "runprog([3,12,6,12,15,1,13,14,13,4,13,99,-1,0,1,9], 0);"
   ]
  },
  {
   "cell_type": "code",
   "execution_count": 60,
   "metadata": {},
   "outputs": [
    {
     "name": "stdout",
     "output_type": "stream",
     "text": [
      "* 0\n"
     ]
    }
   ],
   "source": [
    "runprog([3,3,1105,-1,9,1101,0,0,12,4,12,99,1], 0);"
   ]
  },
  {
   "cell_type": "code",
   "execution_count": 61,
   "metadata": {},
   "outputs": [
    {
     "name": "stdout",
     "output_type": "stream",
     "text": [
      "* 999\n"
     ]
    }
   ],
   "source": [
    "runprog([3,21,1008,21,8,20,1005,20,22,107,8,21,20,1006,20,31,\n",
    "1106,0,36,98,0,0,1002,21,125,20,4,20,1105,1,46,104,\n",
    "999,1105,1,46,1101,1000,1,20,4,20,1105,1,46,98,99], 7);"
   ]
  },
  {
   "cell_type": "markdown",
   "metadata": {},
   "source": [
    "## Part One"
   ]
  },
  {
   "cell_type": "code",
   "execution_count": 62,
   "metadata": {},
   "outputs": [
    {
     "name": "stdout",
     "output_type": "stream",
     "text": [
      "* 0\n",
      "* 0\n",
      "* 0\n",
      "* 0\n",
      "* 0\n",
      "* 0\n",
      "* 0\n",
      "* 0\n",
      "* 0\n",
      "* 4887191\n"
     ]
    }
   ],
   "source": [
    "runprog(CODES, 1);"
   ]
  },
  {
   "cell_type": "markdown",
   "metadata": {},
   "source": [
    "## Part Two"
   ]
  },
  {
   "cell_type": "code",
   "execution_count": 67,
   "metadata": {},
   "outputs": [
    {
     "name": "stdout",
     "output_type": "stream",
     "text": [
      "* 3419022\n"
     ]
    }
   ],
   "source": [
    "runprog(CODES, 5);"
   ]
  }
 ],
 "metadata": {
  "kernelspec": {
   "display_name": "Julia 1.2.0",
   "language": "julia",
   "name": "julia-1.2"
  },
  "language_info": {
   "file_extension": ".jl",
   "mimetype": "application/julia",
   "name": "julia",
   "version": "1.2.0"
  }
 },
 "nbformat": 4,
 "nbformat_minor": 4
}
