{
 "cells": [
  {
   "cell_type": "markdown",
   "metadata": {},
   "source": [
    "# Day 2: 1202 Program Alarm\n",
    "\n",
    "https://adventofcode.com/2019/day/2"
   ]
  },
  {
   "cell_type": "markdown",
   "metadata": {},
   "source": [
    "## Implementation"
   ]
  },
  {
   "cell_type": "code",
   "execution_count": 1,
   "metadata": {},
   "outputs": [
    {
     "data": {
      "text/plain": [
       "1×121 LinearAlgebra.Adjoint{Int64,Array{Int64,1}}:\n",
       " 1  0  0  3  1  1  2  3  1  3  4  3  1  …  111  1  111  9  0  99  2  14  0  0"
      ]
     },
     "execution_count": 1,
     "metadata": {},
     "output_type": "execute_result"
    }
   ],
   "source": [
    "CODES = parse.(Int64, split(readlines(\"input.txt\")[1], \",\"))\n",
    "CODES'"
   ]
  },
  {
   "cell_type": "code",
   "execution_count": 2,
   "metadata": {},
   "outputs": [],
   "source": [
    "function step(codes, pos)\n",
    "    codes = copy(codes)\n",
    "    op = codes[pos]\n",
    "    if op == 99\n",
    "        return codes, -1\n",
    "    end\n",
    "    i1, i2, i3 = codes[pos+1 : pos+3] .+ 1\n",
    "    v1, v2 = codes[i1], codes[i2]\n",
    "    result = (op == 1) ? v1 + v2 : v1 * v2\n",
    "    codes[i3] = result\n",
    "    return codes, pos + 4\n",
    "end\n",
    "\n",
    "function run(codes)\n",
    "    pos = 1\n",
    "    while pos != -1\n",
    "        codes, pos = step(codes, pos)\n",
    "    end\n",
    "    return codes\n",
    "end\n",
    ";"
   ]
  },
  {
   "cell_type": "markdown",
   "metadata": {},
   "source": [
    "## Tests"
   ]
  },
  {
   "cell_type": "code",
   "execution_count": 3,
   "metadata": {},
   "outputs": [
    {
     "data": {
      "text/plain": [
       "1×12 LinearAlgebra.Adjoint{Int64,Array{Int64,1}}:\n",
       " 3500  9  10  70  2  3  11  0  99  30  40  50"
      ]
     },
     "execution_count": 3,
     "metadata": {},
     "output_type": "execute_result"
    }
   ],
   "source": [
    "run([1,9,10,3,\n",
    "    2,3,11,0,\n",
    "    99,\n",
    "    30,40,50])'"
   ]
  },
  {
   "cell_type": "code",
   "execution_count": 4,
   "metadata": {},
   "outputs": [
    {
     "data": {
      "text/plain": [
       "1×5 LinearAlgebra.Adjoint{Int64,Array{Int64,1}}:\n",
       " 2  0  0  0  99"
      ]
     },
     "execution_count": 4,
     "metadata": {},
     "output_type": "execute_result"
    }
   ],
   "source": [
    "run([1,0,0,0,99])'"
   ]
  },
  {
   "cell_type": "code",
   "execution_count": 5,
   "metadata": {},
   "outputs": [
    {
     "data": {
      "text/plain": [
       "1×5 LinearAlgebra.Adjoint{Int64,Array{Int64,1}}:\n",
       " 2  3  0  6  99"
      ]
     },
     "execution_count": 5,
     "metadata": {},
     "output_type": "execute_result"
    }
   ],
   "source": [
    "run([2,3,0,3,99])'"
   ]
  },
  {
   "cell_type": "code",
   "execution_count": 6,
   "metadata": {},
   "outputs": [
    {
     "data": {
      "text/plain": [
       "1×6 LinearAlgebra.Adjoint{Int64,Array{Int64,1}}:\n",
       " 2  4  4  5  99  9801"
      ]
     },
     "execution_count": 6,
     "metadata": {},
     "output_type": "execute_result"
    }
   ],
   "source": [
    "run([2,4,4,5,99,0])'"
   ]
  },
  {
   "cell_type": "code",
   "execution_count": 7,
   "metadata": {},
   "outputs": [
    {
     "data": {
      "text/plain": [
       "1×9 LinearAlgebra.Adjoint{Int64,Array{Int64,1}}:\n",
       " 30  1  1  4  2  5  6  0  99"
      ]
     },
     "execution_count": 7,
     "metadata": {},
     "output_type": "execute_result"
    }
   ],
   "source": [
    "run([1,1,1,4,99,5,6,0,99])'"
   ]
  },
  {
   "cell_type": "markdown",
   "metadata": {},
   "source": [
    "## Part One"
   ]
  },
  {
   "cell_type": "code",
   "execution_count": 8,
   "metadata": {},
   "outputs": [
    {
     "data": {
      "text/plain": [
       "4138687"
      ]
     },
     "execution_count": 8,
     "metadata": {},
     "output_type": "execute_result"
    }
   ],
   "source": [
    "fixed_codes = copy(CODES)\n",
    "fixed_codes[2] = 12\n",
    "fixed_codes[3] = 2\n",
    "run(fixed_codes)[1]"
   ]
  },
  {
   "cell_type": "markdown",
   "metadata": {},
   "source": [
    "## Part Two"
   ]
  },
  {
   "cell_type": "code",
   "execution_count": 9,
   "metadata": {},
   "outputs": [],
   "source": [
    "function find_noun_verb(codes, target)\n",
    "    range = 0:99\n",
    "    for noun in range\n",
    "        for verb in range\n",
    "            test_code = copy(codes)\n",
    "            test_code[2] = noun\n",
    "            test_code[3] = verb\n",
    "            result = run(test_code)[1]\n",
    "            if result == target\n",
    "                return noun, verb\n",
    "            end\n",
    "        end\n",
    "    end\n",
    "end\n",
    ";"
   ]
  },
  {
   "cell_type": "code",
   "execution_count": 10,
   "metadata": {},
   "outputs": [
    {
     "name": "stdout",
     "output_type": "stream",
     "text": [
      "6635\n"
     ]
    }
   ],
   "source": [
    "TARGET = 19690720\n",
    "noun, verb = find_noun_verb(CODES, TARGET)\n",
    "println(100 * noun + verb)"
   ]
  }
 ],
 "metadata": {
  "kernelspec": {
   "display_name": "Julia 1.2.0",
   "language": "julia",
   "name": "julia-1.2"
  },
  "language_info": {
   "file_extension": ".jl",
   "mimetype": "application/julia",
   "name": "julia",
   "version": "1.2.0"
  }
 },
 "nbformat": 4,
 "nbformat_minor": 4
}
