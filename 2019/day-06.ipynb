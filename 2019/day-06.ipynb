{
 "cells": [
  {
   "cell_type": "markdown",
   "metadata": {},
   "source": [
    "# Day 6: Universal Orbit Map\n",
    "\n",
    "https://adventofcode.com/2019/day/6"
   ]
  },
  {
   "cell_type": "markdown",
   "metadata": {},
   "source": [
    "## Setup"
   ]
  },
  {
   "cell_type": "code",
   "execution_count": 1,
   "metadata": {},
   "outputs": [],
   "source": [
    "with open('input/06.txt') as f:\n",
    "    TEXT = [line.strip() for line in f]"
   ]
  },
  {
   "cell_type": "markdown",
   "metadata": {},
   "source": [
    "## Implementation"
   ]
  },
  {
   "cell_type": "code",
   "execution_count": 2,
   "metadata": {},
   "outputs": [],
   "source": [
    "class Node:\n",
    "    def __init__(self, name):\n",
    "        self.name = name\n",
    "        self.parent = None\n",
    "        self.children = []\n",
    "        \n",
    "    def __repr__(self):\n",
    "        return f'Node({self.name} orbited by {self.children})'\n",
    "    \n",
    "    def prettyprint(self, indent=0):\n",
    "        print(indent * '| ' + f'+ {self.name}')\n",
    "        for child in self.children:\n",
    "            child.prettyprint(indent=indent+1)\n",
    "            \n",
    "    def count_all(self, depth=0):\n",
    "        return depth + sum([child.count_all(depth+1) for child in self.children])\n",
    "    \n",
    "    def ancestors(self):\n",
    "        parent = self.parent\n",
    "        if parent is None:\n",
    "            return []\n",
    "        else:\n",
    "            return [parent.name] + parent.ancestors()\n",
    "            \n",
    "class OrbitNet:\n",
    "    def __init__(self, text):\n",
    "        self.orbits = orbits = [line.split(')') for line in text]\n",
    "        centers, orbiters = list(zip(*orbits))\n",
    "        all_keys = set(centers + orbiters)\n",
    "        self.all = all = {k: Node(k) for k in all_keys}        \n",
    "        for (parent, child) in orbits:\n",
    "            parent_node, child_node = all[parent], all[child]\n",
    "            child_node.parent = parent_node\n",
    "            parent_node.children.append(child_node)\n",
    "        # TODO: __del__ to clear reference cycles?\n",
    "    \n",
    "    def __getitem__(self, key):\n",
    "        return self.all[key]\n",
    "    \n",
    "    def shortest_path(self, k1, k2):\n",
    "        path_to_k1 = self[k1].ancestors()[::-1]\n",
    "        path_to_k2 = self[k2].ancestors()[::-1]\n",
    "        i_last_common = 0\n",
    "        for (i, (n1, n2)) in enumerate(zip(path_to_k1, path_to_k2)):\n",
    "            if n1 == n2:\n",
    "                i_last_common = i\n",
    "            else:\n",
    "                break\n",
    "        return len(path_to_k1) + len(path_to_k2) - 2 * (i_last_common)"
   ]
  },
  {
   "cell_type": "markdown",
   "metadata": {},
   "source": [
    "## Tests"
   ]
  },
  {
   "cell_type": "code",
   "execution_count": 3,
   "metadata": {},
   "outputs": [],
   "source": [
    "test = \"\"\"COM)B\n",
    "B)C\n",
    "C)D\n",
    "D)E\n",
    "E)F\n",
    "B)G\n",
    "G)H\n",
    "D)I\n",
    "E)J\n",
    "J)K\n",
    "K)L\"\"\".split('\\n')"
   ]
  },
  {
   "cell_type": "code",
   "execution_count": 4,
   "metadata": {},
   "outputs": [],
   "source": [
    "on = OrbitNet(test)"
   ]
  },
  {
   "cell_type": "code",
   "execution_count": 5,
   "metadata": {},
   "outputs": [
    {
     "name": "stdout",
     "output_type": "stream",
     "text": [
      "+ COM\n",
      "| + B\n",
      "| | + C\n",
      "| | | + D\n",
      "| | | | + E\n",
      "| | | | | + F\n",
      "| | | | | + J\n",
      "| | | | | | + K\n",
      "| | | | | | | + L\n",
      "| | | | + I\n",
      "| | + G\n",
      "| | | + H\n"
     ]
    }
   ],
   "source": [
    "on['COM'].prettyprint()"
   ]
  },
  {
   "cell_type": "code",
   "execution_count": 6,
   "metadata": {},
   "outputs": [
    {
     "data": {
      "text/plain": [
       "42"
      ]
     },
     "execution_count": 6,
     "metadata": {},
     "output_type": "execute_result"
    }
   ],
   "source": [
    "on['COM'].count_all()"
   ]
  },
  {
   "cell_type": "code",
   "execution_count": 7,
   "metadata": {},
   "outputs": [
    {
     "data": {
      "text/plain": [
       "8"
      ]
     },
     "execution_count": 7,
     "metadata": {},
     "output_type": "execute_result"
    }
   ],
   "source": [
    "on.shortest_path('L', 'H')"
   ]
  },
  {
   "cell_type": "markdown",
   "metadata": {},
   "source": [
    "## Prep"
   ]
  },
  {
   "cell_type": "code",
   "execution_count": 8,
   "metadata": {},
   "outputs": [],
   "source": [
    "ON = OrbitNet(TEXT)"
   ]
  },
  {
   "cell_type": "markdown",
   "metadata": {},
   "source": [
    "## Part One"
   ]
  },
  {
   "cell_type": "code",
   "execution_count": 9,
   "metadata": {},
   "outputs": [
    {
     "data": {
      "text/plain": [
       "358244"
      ]
     },
     "execution_count": 9,
     "metadata": {},
     "output_type": "execute_result"
    }
   ],
   "source": [
    "ON['COM'].count_all()"
   ]
  },
  {
   "cell_type": "markdown",
   "metadata": {},
   "source": [
    "## Part Two"
   ]
  },
  {
   "cell_type": "code",
   "execution_count": 10,
   "metadata": {},
   "outputs": [
    {
     "data": {
      "text/plain": [
       "517"
      ]
     },
     "execution_count": 10,
     "metadata": {},
     "output_type": "execute_result"
    }
   ],
   "source": [
    "# don't count self->parent as \"orbital transfer\"\n",
    "ON.shortest_path('YOU', 'SAN') - 2"
   ]
  }
 ],
 "metadata": {
  "kernelspec": {
   "display_name": "Python 3",
   "language": "python",
   "name": "python3"
  },
  "language_info": {
   "codemirror_mode": {
    "name": "ipython",
    "version": 3
   },
   "file_extension": ".py",
   "mimetype": "text/x-python",
   "name": "python",
   "nbconvert_exporter": "python",
   "pygments_lexer": "ipython3",
   "version": "3.7.3"
  }
 },
 "nbformat": 4,
 "nbformat_minor": 4
}
