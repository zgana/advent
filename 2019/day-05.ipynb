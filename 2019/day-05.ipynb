{
 "cells": [
  {
   "cell_type": "markdown",
   "metadata": {},
   "source": [
    "# Day 5: \n",
    "\n",
    "https://adventofcode.com/2019/day/5"
   ]
  },
  {
   "cell_type": "markdown",
   "metadata": {},
   "source": [
    "## Setup"
   ]
  },
  {
   "cell_type": "code",
   "execution_count": 1,
   "metadata": {},
   "outputs": [],
   "source": [
    "import numpy as np"
   ]
  },
  {
   "cell_type": "code",
   "execution_count": 2,
   "metadata": {},
   "outputs": [],
   "source": [
    "with open('input/05.txt') as f:\n",
    "    line = f.readline()\n",
    "CODES = np.array(list(map(int, line.split(','))))"
   ]
  },
  {
   "cell_type": "markdown",
   "metadata": {},
   "source": [
    "## Implementation"
   ]
  },
  {
   "cell_type": "code",
   "execution_count": 3,
   "metadata": {},
   "outputs": [],
   "source": [
    "def split_op_modes(X):\n",
    "    X, op = divmod(X, 100)\n",
    "    X, mode1 = divmod(X, 10)\n",
    "    X, mode2 = divmod(X, 10)\n",
    "    X, mode3 = divmod(X, 10)\n",
    "    assert mode3 == 0\n",
    "    return op, (mode1, mode2, mode3)\n",
    "\n",
    "def step(codes, pos, input, debug=False):\n",
    "    \n",
    "    # TODO: streamline argument fetching?\n",
    "    \n",
    "    def get_value(i, mode):\n",
    "        return i if mode else codes[i]        \n",
    "    \n",
    "    op, (mode1, mode2, mode3) = split_op_modes(codes[pos])\n",
    "    inc = 0\n",
    "    if op == 99:\n",
    "        return codes, -1\n",
    "    elif op in (1, 2):\n",
    "        i1, i2, i3 = codes[pos+1 : pos+4]\n",
    "        v1 = get_value(i1, mode1)\n",
    "        v2 = get_value(i2, mode2)\n",
    "        result = v1 + v2 if op == 1 else v1 * v2\n",
    "        codes[i3] = result\n",
    "        inc = 4\n",
    "    elif op == 3:\n",
    "        i = codes[pos+1]\n",
    "        result = input\n",
    "        codes[i] = result\n",
    "        inc = 2\n",
    "    elif op == 4:\n",
    "        i = codes[pos+1]\n",
    "        v = get_value(i, mode1)\n",
    "        print('*', v)\n",
    "        inc = 2\n",
    "    elif op in (5, 6):\n",
    "        i1, i2 = codes[pos+1 : pos+3]\n",
    "        v1 = get_value(i1, mode1)\n",
    "        v2 = get_value(i2, mode2)\n",
    "        if (not v1) == (op == 6):\n",
    "            pos = v2\n",
    "        else:\n",
    "            inc = 3\n",
    "    elif op in (7, 8):\n",
    "        i1, i2, i3 = codes[pos+1 : pos+4]\n",
    "        v1 = get_value(i1, mode1)\n",
    "        v2 = get_value(i2, mode2)\n",
    "        result = 1 * (v1 < v2) if op == 7 else 1 * (v1 == v2)\n",
    "        codes[i3] = result\n",
    "        inc = 4\n",
    "    if debug:\n",
    "        print('{} ({} {} {}) => pos, inc = {}, {}'.format(\n",
    "            op, mode1, mode2, mode3, pos, inc), flush=True)\n",
    "    return codes, pos + inc\n",
    "\n",
    "def run(code, input, debug=False, imax=1000):\n",
    "    code = np.array(code).copy()\n",
    "    pos = 0\n",
    "    i = 0\n",
    "    while pos != -1:\n",
    "        code, pos = step(code, pos, input, debug=debug)\n",
    "        i += 1\n",
    "        if i > imax:\n",
    "            raise RuntimeError('too many iterations')\n",
    "    return code"
   ]
  },
  {
   "cell_type": "markdown",
   "metadata": {},
   "source": [
    "##  Tests"
   ]
  },
  {
   "cell_type": "code",
   "execution_count": 4,
   "metadata": {},
   "outputs": [
    {
     "name": "stdout",
     "output_type": "stream",
     "text": [
      "* 1\n"
     ]
    },
    {
     "data": {
      "text/plain": [
       "array([ 1,  0,  4,  0, 99])"
      ]
     },
     "execution_count": 4,
     "metadata": {},
     "output_type": "execute_result"
    }
   ],
   "source": [
    "run([3,0,4,0,99], 1)"
   ]
  },
  {
   "cell_type": "code",
   "execution_count": 5,
   "metadata": {},
   "outputs": [
    {
     "data": {
      "text/plain": [
       "array([1002,    4,    3,    4,   99])"
      ]
     },
     "execution_count": 5,
     "metadata": {},
     "output_type": "execute_result"
    }
   ],
   "source": [
    "run([1002,4,3,4,33], 1)"
   ]
  },
  {
   "cell_type": "code",
   "execution_count": 6,
   "metadata": {},
   "outputs": [
    {
     "name": "stdout",
     "output_type": "stream",
     "text": [
      "* 1\n"
     ]
    },
    {
     "data": {
      "text/plain": [
       "array([ 3,  9,  8,  9, 10,  9,  4,  9, 99,  1,  8])"
      ]
     },
     "execution_count": 6,
     "metadata": {},
     "output_type": "execute_result"
    }
   ],
   "source": [
    "run([3,9,8,9,10,9,4,9,99,-1,8], input=8)"
   ]
  },
  {
   "cell_type": "code",
   "execution_count": 7,
   "metadata": {},
   "outputs": [
    {
     "name": "stdout",
     "output_type": "stream",
     "text": [
      "* 1\n"
     ]
    },
    {
     "data": {
      "text/plain": [
       "array([   3,    3, 1107,    1,    8,    3,    4,    3,   99])"
      ]
     },
     "execution_count": 7,
     "metadata": {},
     "output_type": "execute_result"
    }
   ],
   "source": [
    "run([3,3,1107,-1,8,3,4,3,99], 7)"
   ]
  },
  {
   "cell_type": "code",
   "execution_count": 8,
   "metadata": {},
   "outputs": [
    {
     "name": "stdout",
     "output_type": "stream",
     "text": [
      "* 0\n"
     ]
    },
    {
     "data": {
      "text/plain": [
       "array([ 3, 12,  6, 12, 15,  1, 13, 14, 13,  4, 13, 99,  0,  0,  1,  9])"
      ]
     },
     "execution_count": 8,
     "metadata": {},
     "output_type": "execute_result"
    }
   ],
   "source": [
    "run([3,12,6,12,15,1,13,14,13,4,13,99,-1,0,1,9], 0)"
   ]
  },
  {
   "cell_type": "code",
   "execution_count": 9,
   "metadata": {},
   "outputs": [
    {
     "name": "stdout",
     "output_type": "stream",
     "text": [
      "* 0\n"
     ]
    },
    {
     "data": {
      "text/plain": [
       "array([   3,    3, 1105,    0,    9, 1101,    0,    0,   12,    4,   12,\n",
       "         99,    0])"
      ]
     },
     "execution_count": 9,
     "metadata": {},
     "output_type": "execute_result"
    }
   ],
   "source": [
    "run([3,3,1105,-1,9,1101,0,0,12,4,12,99,1], 0)"
   ]
  },
  {
   "cell_type": "code",
   "execution_count": 10,
   "metadata": {},
   "outputs": [
    {
     "name": "stdout",
     "output_type": "stream",
     "text": [
      "* 999\n"
     ]
    },
    {
     "data": {
      "text/plain": [
       "array([   3,   21, 1008,   21,    8,   20, 1005,   20,   22,  107,    8,\n",
       "         21,   20, 1006,   20,   31, 1106,    0,   36,   98,    0,    7,\n",
       "       1002,   21,  125,   20,    4,   20, 1105,    1,   46,  104,  999,\n",
       "       1105,    1,   46, 1101, 1000,    1,   20,    4,   20, 1105,    1,\n",
       "         46,   98,   99])"
      ]
     },
     "execution_count": 10,
     "metadata": {},
     "output_type": "execute_result"
    }
   ],
   "source": [
    "run([3,21,1008,21,8,20,1005,20,22,107,8,21,20,1006,20,31,\n",
    "1106,0,36,98,0,0,1002,21,125,20,4,20,1105,1,46,104,\n",
    "999,1105,1,46,1101,1000,1,20,4,20,1105,1,46,98,99], 7)"
   ]
  },
  {
   "cell_type": "markdown",
   "metadata": {},
   "source": [
    "## Part One"
   ]
  },
  {
   "cell_type": "code",
   "execution_count": 11,
   "metadata": {},
   "outputs": [
    {
     "name": "stdout",
     "output_type": "stream",
     "text": [
      "* 0\n",
      "* 0\n",
      "* 0\n",
      "* 0\n",
      "* 0\n",
      "* 0\n",
      "* 0\n",
      "* 0\n",
      "* 0\n",
      "* 4887191\n"
     ]
    }
   ],
   "source": [
    "run(CODES, 1);"
   ]
  },
  {
   "cell_type": "markdown",
   "metadata": {},
   "source": [
    "## Part Two"
   ]
  },
  {
   "cell_type": "code",
   "execution_count": 13,
   "metadata": {},
   "outputs": [
    {
     "name": "stdout",
     "output_type": "stream",
     "text": [
      "* 3419022\n"
     ]
    }
   ],
   "source": [
    "run(CODES, 5);"
   ]
  }
 ],
 "metadata": {
  "kernelspec": {
   "display_name": "Python 3",
   "language": "python",
   "name": "python3"
  },
  "language_info": {
   "codemirror_mode": {
    "name": "ipython",
    "version": 3
   },
   "file_extension": ".py",
   "mimetype": "text/x-python",
   "name": "python",
   "nbconvert_exporter": "python",
   "pygments_lexer": "ipython3",
   "version": "3.7.3"
  }
 },
 "nbformat": 4,
 "nbformat_minor": 4
}
