{
 "cells": [
  {
   "cell_type": "markdown",
   "metadata": {},
   "source": [
    "# Day 4: \n",
    "\n",
    "https://adventofcode.com/2019/day/4"
   ]
  },
  {
   "cell_type": "markdown",
   "metadata": {},
   "source": [
    "## Setup"
   ]
  },
  {
   "cell_type": "code",
   "execution_count": 1,
   "metadata": {},
   "outputs": [],
   "source": [
    "import numpy as np"
   ]
  },
  {
   "cell_type": "code",
   "execution_count": 2,
   "metadata": {},
   "outputs": [],
   "source": [
    "with open('input.txt') as f:\n",
    "    line = f.readline()\n",
    "smin, smax = line.split('-')\n",
    "imin, imax = int(smin), int(smax)"
   ]
  },
  {
   "cell_type": "code",
   "execution_count": 3,
   "metadata": {},
   "outputs": [
    {
     "data": {
      "text/plain": [
       "(347312, 805915)"
      ]
     },
     "execution_count": 3,
     "metadata": {},
     "output_type": "execute_result"
    }
   ],
   "source": [
    "imin, imax"
   ]
  },
  {
   "cell_type": "markdown",
   "metadata": {},
   "source": [
    "## Implementation"
   ]
  },
  {
   "cell_type": "code",
   "execution_count": 4,
   "metadata": {},
   "outputs": [],
   "source": [
    "def pw_to_array(s):\n",
    "    return np.array(list(map(int, s)))"
   ]
  },
  {
   "cell_type": "code",
   "execution_count": 5,
   "metadata": {},
   "outputs": [],
   "source": [
    "def isvalid_one(n):\n",
    "    a = pw_to_array(str(n))\n",
    "    d = np.diff(a)\n",
    "    return np.min(d) == 0\n",
    "\n",
    "def isvalid_two(n):\n",
    "    a = pw_to_array(str(n))\n",
    "    d = np.diff(a)\n",
    "    if np.min(d) != 0:\n",
    "        return False\n",
    "    blocks = [[a[0]]]\n",
    "    for i in a[1:]:\n",
    "        if i == blocks[-1][-1]:\n",
    "            blocks[-1].append(i)\n",
    "        else:\n",
    "            blocks.append([i])\n",
    "    lens = list(map(len, blocks))\n",
    "    return 2 in lens\n",
    "\n",
    "def get_valid_passwords(min, max, isvalid):\n",
    "    xs = []\n",
    "    for x in range(min, max+1):\n",
    "        if isvalid(x):\n",
    "            xs.append(x)\n",
    "    return np.array(xs)"
   ]
  },
  {
   "cell_type": "markdown",
   "metadata": {},
   "source": [
    "## Part One"
   ]
  },
  {
   "cell_type": "code",
   "execution_count": 6,
   "metadata": {},
   "outputs": [
    {
     "data": {
      "text/plain": [
       "594"
      ]
     },
     "execution_count": 6,
     "metadata": {},
     "output_type": "execute_result"
    }
   ],
   "source": [
    "valids = get_valid_passwords(imin, imax, isvalid_one)\n",
    "len(valids)"
   ]
  },
  {
   "cell_type": "markdown",
   "metadata": {},
   "source": [
    "## Part Two"
   ]
  },
  {
   "cell_type": "code",
   "execution_count": 7,
   "metadata": {},
   "outputs": [
    {
     "data": {
      "text/plain": [
       "364"
      ]
     },
     "execution_count": 7,
     "metadata": {},
     "output_type": "execute_result"
    }
   ],
   "source": [
    "valids_two = get_valid_passwords(imin, imax, isvalid_two)\n",
    "len(valids_two)"
   ]
  },
  {
   "cell_type": "markdown",
   "metadata": {},
   "source": [
    "## Timing"
   ]
  },
  {
   "cell_type": "code",
   "execution_count": 8,
   "metadata": {},
   "outputs": [
    {
     "name": "stdout",
     "output_type": "stream",
     "text": [
      "CPU times: user 5.06 s, sys: 32.1 ms, total: 5.09 s\n",
      "Wall time: 5.03 s\n"
     ]
    }
   ],
   "source": [
    "%time _ = get_valid_passwords(imin, imax, isvalid_one)"
   ]
  },
  {
   "cell_type": "code",
   "execution_count": 9,
   "metadata": {},
   "outputs": [
    {
     "name": "stdout",
     "output_type": "stream",
     "text": [
      "CPU times: user 5.07 s, sys: 80.3 ms, total: 5.15 s\n",
      "Wall time: 5.05 s\n"
     ]
    }
   ],
   "source": [
    "%time _ = get_valid_passwords(imin, imax, isvalid_two)"
   ]
  }
 ],
 "metadata": {
  "kernelspec": {
   "display_name": "Python 3",
   "language": "python",
   "name": "python3"
  },
  "language_info": {
   "codemirror_mode": {
    "name": "ipython",
    "version": 3
   },
   "file_extension": ".py",
   "mimetype": "text/x-python",
   "name": "python",
   "nbconvert_exporter": "python",
   "pygments_lexer": "ipython3",
   "version": "3.7.3"
  }
 },
 "nbformat": 4,
 "nbformat_minor": 4
}
