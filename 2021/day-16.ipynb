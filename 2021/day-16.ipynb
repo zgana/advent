{
 "cells": [
  {
   "cell_type": "markdown",
   "metadata": {},
   "source": [
    "## 2021 Day 16\n",
    "\n",
    "https://adventofcode.com/2021/day/16"
   ]
  },
  {
   "cell_type": "code",
   "execution_count": 1,
   "metadata": {},
   "outputs": [],
   "source": [
    "from functools import reduce"
   ]
  },
  {
   "cell_type": "code",
   "execution_count": 2,
   "metadata": {},
   "outputs": [],
   "source": [
    "import re\n",
    "import numpy as np\n",
    "import pandas as pd\n",
    "import matplotlib.pyplot as plt"
   ]
  },
  {
   "cell_type": "code",
   "execution_count": 3,
   "metadata": {},
   "outputs": [],
   "source": [
    "inp = open('input-16.txt').read()"
   ]
  },
  {
   "cell_type": "code",
   "execution_count": 4,
   "metadata": {},
   "outputs": [],
   "source": [
    "test_lit = 'D2FE28'\n",
    "\n",
    "test_op_lt0 = '38006F45291200'\n",
    "test_op_lt1 = 'EE00D40C823060'\n",
    "\n",
    "test_inp1 = '8A004A801A8002F478'\n",
    "test_inp2 = '620080001611562C8802118E34'\n",
    "test_inp3 = 'C0015000016115A2E0802F182340'\n",
    "test_inp4 = 'A0016C880162017C3686B18A3D4780'"
   ]
  },
  {
   "cell_type": "code",
   "execution_count": 5,
   "metadata": {},
   "outputs": [],
   "source": [
    "def hex2bin(inp):\n",
    "    out = ''.join([f'{int(c, base=16):04b}' for c in list(inp)])\n",
    "    return out"
   ]
  },
  {
   "cell_type": "code",
   "execution_count": null,
   "metadata": {},
   "outputs": [],
   "source": []
  },
  {
   "cell_type": "code",
   "execution_count": 6,
   "metadata": {},
   "outputs": [],
   "source": [
    "class Packet:\n",
    "    def __len__(self):\n",
    "        return len(self.code)\n",
    "\n",
    "def parse_packet(code, depth=0, verbose=0):\n",
    "    \n",
    "    def log(l, *a, **kw):\n",
    "        prefix = '  ' * depth\n",
    "        if l <= verbose:\n",
    "            print(prefix, end='')\n",
    "            print(*a, **kw)\n",
    "            \n",
    "    if any([c not in '01' for c in code]):\n",
    "        code = hex2bin(code)\n",
    "    orig_code = code\n",
    "            \n",
    "    version, code = int(code[:3], base=2), code[3:]\n",
    "    typ, code = int(code[:3], base=2), code[3:]\n",
    "    log(1, f'depth = {depth}, version = {version}, type = {typ}')\n",
    "    log(1, f'code = {orig_code}')\n",
    "    if typ == 4:\n",
    "        full_content = ''\n",
    "        while True:\n",
    "            prefix, content, code = code[0], code[1:5], code[5:]\n",
    "            full_content += content\n",
    "            log(2, f'full_content =', full_content)\n",
    "            log(2, f'->len(orig_code), len(code) = {len(orig_code)}, {len(code)})')\n",
    "            if prefix == '0':\n",
    "                break\n",
    "        value = int(full_content, base=2)\n",
    "        used_length = len(orig_code) - len(code)\n",
    "        log(2, f'->used_length = {used_length}')\n",
    "        return Literal(version, typ, value, code=orig_code[:used_length]), code\n",
    "    \n",
    "    length_type, code = int(code[:1]), code[1:]\n",
    "    subpackets = []\n",
    "    if length_type == 0:\n",
    "        subpackets_bits, code = int(code[:15], base=2), code[15:]\n",
    "        length_info = subpackets_bits\n",
    "        log(2, f'length_type = {length_type}, subpackets_bits = {subpackets_bits}')\n",
    "        while True:\n",
    "            subpacket, code = parse_packet(code, depth=depth+1, verbose=verbose)\n",
    "            log(2, f'->subpacket = {subpacket}')\n",
    "            log(2, f'->remaining_code = {code}')\n",
    "            subpackets.append(subpacket)\n",
    "            log(2, f'->len(orig_code), len(code) = {len(orig_code)}, {len(code)})')\n",
    "            log(2, len(orig_code) - len(code) - 7, subpackets_bits)\n",
    "            if len(orig_code) - len(code) - 7-15 >= subpackets_bits:\n",
    "                break\n",
    "                \n",
    "    elif length_type == 1:\n",
    "        subpackets_count, code = int(code[:11], base=2), code[11:]\n",
    "        length_info = subpackets_count\n",
    "        log(2, f'length_type = {length_type}, subpackets_count = {subpackets_count}')\n",
    "        for i in range(subpackets_count):\n",
    "            subpacket, code = parse_packet(code, depth=depth+1, verbose=verbose)\n",
    "            log(2, f'->subpacket = {subpacket}')\n",
    "            log(2, f'->remaining_code = {code}')\n",
    "            log(2, f'->len(orig_code), len(code) = {len(orig_code)}, {len(code)})')\n",
    "            subpackets.append(subpacket)\n",
    "    else:\n",
    "        raise RuntimeError(f'illegal length_type = {length_type}')\n",
    "            \n",
    "    used_length = len(orig_code) - len(code)\n",
    "    out = Operator(version, typ, length_type, length_info, subpackets, code=orig_code[:used_length])\n",
    "    if depth:\n",
    "        return out, code\n",
    "    else:\n",
    "        return out\n",
    "\n",
    "class Literal(Packet):\n",
    "    def __init__(self, version, typ, value, code):\n",
    "        self.version = version\n",
    "        self.typ = typ\n",
    "        self.value = value\n",
    "        self.code = code\n",
    "        self.subpackets = []\n",
    "        \n",
    "    def __repr__(self):\n",
    "        return f'Literal(v{self.version},l{len(self)};{self.value})'\n",
    "    \n",
    "    \n",
    "class Operator(Packet):\n",
    "    \n",
    "    operations = {\n",
    "        0: sum,\n",
    "        1: lambda x: reduce((lambda a,b: a*b), x),\n",
    "        2: min,\n",
    "        3: max,\n",
    "        5: lambda x: 1 if x[0] > x[1] else 0,\n",
    "        6: lambda x: 1 if x[0] < x[1] else 0,\n",
    "        7: lambda x: 1 if x[0] == x[1] else 0,\n",
    "    }\n",
    "    \n",
    "    def __init__(self, version, typ, length_type, length_info, subpackets, code):\n",
    "        self.version = version\n",
    "        self.typ = typ\n",
    "        self.length_type = length_type\n",
    "        self.length_info = length_info\n",
    "        self.subpackets = subpackets\n",
    "        self.code = code\n",
    "        \n",
    "    def __repr__(self):\n",
    "        subpackets = ','.join([str(p) for p in self.subpackets])\n",
    "        return f'Operator(v{self.version},t{self.typ},lt{self.length_type},li{self.length_info};{subpackets})'\n",
    "    \n",
    "    @property\n",
    "    def value(self):\n",
    "        return self.operations[self.typ]([subpacket.value for subpacket in self.subpackets])"
   ]
  },
  {
   "cell_type": "code",
   "execution_count": 7,
   "metadata": {},
   "outputs": [
    {
     "name": "stdout",
     "output_type": "stream",
     "text": [
      "Operator(v3,t0,lt1,li2;Operator(v0,t0,lt0,li22;Literal(v0,l11;10),Literal(v5,l11;11)),Operator(v1,t0,lt1,li2;Literal(v0,l11;12),Literal(v3,l11;13)))\n"
     ]
    }
   ],
   "source": [
    "x = parse_packet(test_inp2, verbose=0)\n",
    "print(x)"
   ]
  },
  {
   "cell_type": "markdown",
   "metadata": {},
   "source": [
    "## Part 1"
   ]
  },
  {
   "cell_type": "code",
   "execution_count": 8,
   "metadata": {},
   "outputs": [],
   "source": [
    "def version_sum(packet):\n",
    "    return packet.version + sum(version_sum(p) for p in packet.subpackets)"
   ]
  },
  {
   "cell_type": "code",
   "execution_count": 9,
   "metadata": {},
   "outputs": [
    {
     "name": "stdout",
     "output_type": "stream",
     "text": [
      "16\n",
      "12\n",
      "23\n",
      "31\n"
     ]
    }
   ],
   "source": [
    "for t in test_inp1, test_inp2, test_inp3, test_inp4:\n",
    "    print(version_sum(parse_packet(t)))"
   ]
  },
  {
   "cell_type": "code",
   "execution_count": 10,
   "metadata": {},
   "outputs": [
    {
     "data": {
      "text/plain": [
       "999"
      ]
     },
     "execution_count": 10,
     "metadata": {},
     "output_type": "execute_result"
    }
   ],
   "source": [
    "version_sum(parse_packet(inp))"
   ]
  },
  {
   "cell_type": "markdown",
   "metadata": {},
   "source": [
    "## Part 2"
   ]
  },
  {
   "cell_type": "code",
   "execution_count": null,
   "metadata": {},
   "outputs": [],
   "source": [
    "parse_packet(inp).value"
   ]
  }
 ],
 "metadata": {
  "kernelspec": {
   "display_name": "Python 3",
   "language": "python",
   "name": "python3"
  },
  "language_info": {
   "codemirror_mode": {
    "name": "ipython",
    "version": 3
   },
   "file_extension": ".py",
   "mimetype": "text/x-python",
   "name": "python",
   "nbconvert_exporter": "python",
   "pygments_lexer": "ipython3",
   "version": "3.6.10"
  }
 },
 "nbformat": 4,
 "nbformat_minor": 4
}
