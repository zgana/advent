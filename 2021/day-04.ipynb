{
 "cells": [
  {
   "cell_type": "markdown",
   "metadata": {},
   "source": [
    "# 2021 Day 4\n",
    "\n",
    "https://adventofcode.com/2021/day/4"
   ]
  },
  {
   "cell_type": "markdown",
   "metadata": {},
   "source": [
    "12:17"
   ]
  },
  {
   "cell_type": "code",
   "execution_count": 1,
   "metadata": {},
   "outputs": [],
   "source": [
    "import re\n",
    "import numpy as np\n",
    "import pandas as pd\n",
    "import matplotlib.pyplot as plt"
   ]
  },
  {
   "cell_type": "code",
   "execution_count": 2,
   "metadata": {},
   "outputs": [
    {
     "data": {
      "text/plain": [
       "'83,5,71,61,88,55,95,6,0,97,20,16,27,7,79,25,81,29,22,52,43,21,53,59,99,18,35,96,51,93,14,77,15,3,57,28,58,17,50,32,74,63,76,84,65,9,62,67,48,12,8,68,31,19,36,85,98,30,91,89,66,80,75,47,4,23,60,70,87,90,13,38,56,34,46,24,41,92,37,49,73,10,94,26,42,40,33,54,86,82,72,39,2,45,78,11,1,44,69,64'"
      ]
     },
     "execution_count": 2,
     "metadata": {},
     "output_type": "execute_result"
    }
   ],
   "source": [
    "text = open('input-04.txt').read()\n",
    "paras = text.split('\\n\\n')\n",
    "paras[0]"
   ]
  },
  {
   "cell_type": "code",
   "execution_count": 3,
   "metadata": {},
   "outputs": [
    {
     "data": {
      "text/plain": [
       "'97 62 17  5 79\\n 1 99 98 80 84\\n44 16  2 40 94\\n68 95 49 32  8\\n38 35 23 89  3'"
      ]
     },
     "execution_count": 3,
     "metadata": {},
     "output_type": "execute_result"
    }
   ],
   "source": [
    "paras[1]"
   ]
  },
  {
   "cell_type": "code",
   "execution_count": 4,
   "metadata": {},
   "outputs": [
    {
     "data": {
      "text/plain": [
       "array([83,  5, 71, 61, 88, 55, 95,  6,  0, 97, 20, 16, 27,  7, 79, 25, 81,\n",
       "       29, 22, 52, 43, 21, 53, 59, 99, 18, 35, 96, 51, 93, 14, 77, 15,  3,\n",
       "       57, 28, 58, 17, 50, 32, 74, 63, 76, 84, 65,  9, 62, 67, 48, 12,  8,\n",
       "       68, 31, 19, 36, 85, 98, 30, 91, 89, 66, 80, 75, 47,  4, 23, 60, 70,\n",
       "       87, 90, 13, 38, 56, 34, 46, 24, 41, 92, 37, 49, 73, 10, 94, 26, 42,\n",
       "       40, 33, 54, 86, 82, 72, 39,  2, 45, 78, 11,  1, 44, 69, 64])"
      ]
     },
     "execution_count": 4,
     "metadata": {},
     "output_type": "execute_result"
    }
   ],
   "source": [
    "nums = np.array(paras[0].split(',')).astype(int)\n",
    "nums"
   ]
  },
  {
   "cell_type": "code",
   "execution_count": 5,
   "metadata": {},
   "outputs": [
    {
     "data": {
      "text/plain": [
       "array([[97, 62, 17,  5, 79],\n",
       "       [ 1, 99, 98, 80, 84],\n",
       "       [44, 16,  2, 40, 94],\n",
       "       [68, 95, 49, 32,  8],\n",
       "       [38, 35, 23, 89,  3]])"
      ]
     },
     "execution_count": 5,
     "metadata": {},
     "output_type": "execute_result"
    }
   ],
   "source": [
    "boards = np.array([np.array(para.split()).astype(int).reshape((5,5)) for para in paras[1:]])\n",
    "boards[0]"
   ]
  },
  {
   "cell_type": "markdown",
   "metadata": {},
   "source": [
    "## Part 1"
   ]
  },
  {
   "cell_type": "markdown",
   "metadata": {},
   "source": [
    "This looks like overkill because I accidentally solved part 2 in place after part 1.  To make sure this notebook contained a complete solution, I just tweaked the longer part 2 solution to solve part 1 as well."
   ]
  },
  {
   "cell_type": "code",
   "execution_count": 6,
   "metadata": {},
   "outputs": [
    {
     "name": "stdout",
     "output_type": "stream",
     "text": [
      "16716\n"
     ]
    }
   ],
   "source": [
    "masks = np.isnan(boards)\n",
    "prev_wins = np.array([]).astype(int)\n",
    "for (i,num) in enumerate(nums):\n",
    "    masks |= (boards == num)\n",
    "    idx_wins = np.where(masks.all(axis=2).any(axis=-1) | masks.all(axis=1).any(axis=-1))[0]\n",
    "    idx_new_wins = np.setdiff1d(idx_wins, prev_wins)\n",
    "    prev_wins = np.concatenate((prev_wins, idx_new_wins))\n",
    "    if len(prev_wins) == 1:\n",
    "        idx_last = prev_wins[-1]\n",
    "        board = boards[idx_last]\n",
    "        mask = masks[idx_last]\n",
    "        base = board[~mask].sum()\n",
    "        result = num * base\n",
    "        print(result)\n",
    "        break"
   ]
  },
  {
   "cell_type": "markdown",
   "metadata": {},
   "source": [
    "## Part 2"
   ]
  },
  {
   "cell_type": "code",
   "execution_count": 7,
   "metadata": {},
   "outputs": [
    {
     "name": "stdout",
     "output_type": "stream",
     "text": [
      "4880\n"
     ]
    }
   ],
   "source": [
    "masks = np.isnan(boards)\n",
    "prev_wins = np.array([]).astype(int)\n",
    "for (i,num) in enumerate(nums):\n",
    "    masks |= (boards == num)\n",
    "    idx_wins = np.where(masks.all(axis=2).any(axis=-1) | masks.all(axis=1).any(axis=-1))[0]\n",
    "    idx_new_wins = np.setdiff1d(idx_wins, prev_wins)\n",
    "    prev_wins = np.concatenate((prev_wins, idx_new_wins))\n",
    "    if len(prev_wins) == len(boards):\n",
    "        idx_last = prev_wins[-1]\n",
    "        board = boards[idx_last]\n",
    "        mask = masks[idx_last]\n",
    "        base = board[~mask].sum()\n",
    "        result = num * base\n",
    "        print(result)\n",
    "        break"
   ]
  }
 ],
 "metadata": {
  "kernelspec": {
   "display_name": "Python 3",
   "language": "python",
   "name": "python3"
  },
  "language_info": {
   "codemirror_mode": {
    "name": "ipython",
    "version": 3
   },
   "file_extension": ".py",
   "mimetype": "text/x-python",
   "name": "python",
   "nbconvert_exporter": "python",
   "pygments_lexer": "ipython3",
   "version": "3.6.10"
  }
 },
 "nbformat": 4,
 "nbformat_minor": 4
}
