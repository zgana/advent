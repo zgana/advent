{
 "cells": [
  {
   "cell_type": "markdown",
   "metadata": {},
   "source": [
    "# 2021 Day 14\n",
    "\n",
    "https://adventofcode.com/2021/day/14"
   ]
  },
  {
   "cell_type": "code",
   "execution_count": 1,
   "metadata": {},
   "outputs": [],
   "source": [
    "from collections import defaultdict\n",
    "from copy import deepcopy\n",
    "import re\n",
    "import numpy as np\n",
    "import pandas as pd\n",
    "import matplotlib.pyplot as plt"
   ]
  },
  {
   "cell_type": "code",
   "execution_count": 2,
   "metadata": {},
   "outputs": [],
   "source": [
    "def parse_input(inp):\n",
    "    template, rules = inp.strip().split('\\n\\n')\n",
    "    rules = rules.split('\\n')\n",
    "    rules = [tuple(rule.split(' -> ')) for rule in rules]\n",
    "    rules = { a+c: (a,b,c) for ((a,c),b) in rules }\n",
    "    return template, rules"
   ]
  },
  {
   "cell_type": "code",
   "execution_count": 3,
   "metadata": {},
   "outputs": [],
   "source": [
    "inp = open('input-14.txt').read()\n",
    "test_inp = \"\"\"\n",
    "NNCB\n",
    "\n",
    "CH -> B\n",
    "HH -> N\n",
    "CB -> H\n",
    "NH -> C\n",
    "HB -> C\n",
    "HC -> B\n",
    "HN -> C\n",
    "NN -> C\n",
    "BH -> H\n",
    "NC -> B\n",
    "NB -> B\n",
    "BN -> B\n",
    "BB -> N\n",
    "BC -> B\n",
    "CC -> N\n",
    "CN -> C\n",
    "\"\"\""
   ]
  },
  {
   "cell_type": "code",
   "execution_count": 4,
   "metadata": {},
   "outputs": [
    {
     "data": {
      "text/plain": [
       "('NNCB',\n",
       " {'CH': ('C', 'B', 'H'),\n",
       "  'HH': ('H', 'N', 'H'),\n",
       "  'CB': ('C', 'H', 'B'),\n",
       "  'NH': ('N', 'C', 'H'),\n",
       "  'HB': ('H', 'C', 'B'),\n",
       "  'HC': ('H', 'B', 'C'),\n",
       "  'HN': ('H', 'C', 'N'),\n",
       "  'NN': ('N', 'C', 'N'),\n",
       "  'BH': ('B', 'H', 'H'),\n",
       "  'NC': ('N', 'B', 'C'),\n",
       "  'NB': ('N', 'B', 'B'),\n",
       "  'BN': ('B', 'B', 'N'),\n",
       "  'BB': ('B', 'N', 'B'),\n",
       "  'BC': ('B', 'B', 'C'),\n",
       "  'CC': ('C', 'N', 'C'),\n",
       "  'CN': ('C', 'C', 'N')})"
      ]
     },
     "execution_count": 4,
     "metadata": {},
     "output_type": "execute_result"
    }
   ],
   "source": [
    "parse_input(test_inp)"
   ]
  },
  {
   "cell_type": "code",
   "execution_count": 5,
   "metadata": {},
   "outputs": [
    {
     "data": {
      "text/plain": [
       "('ONSVVHNCFVBHKVPCHCPV',\n",
       " {'VO': ('V', 'C', 'O'),\n",
       "  'VV': ('V', 'S', 'V'),\n",
       "  'HK': ('H', 'H', 'K'),\n",
       "  'FC': ('F', 'C', 'C'),\n",
       "  'VB': ('V', 'V', 'B'),\n",
       "  'NO': ('N', 'H', 'O'),\n",
       "  'BN': ('B', 'B', 'N'),\n",
       "  'FP': ('F', 'K', 'P'),\n",
       "  'CS': ('C', 'C', 'S'),\n",
       "  'HC': ('H', 'S', 'C'),\n",
       "  'FS': ('F', 'K', 'S'),\n",
       "  'KH': ('K', 'V', 'H'),\n",
       "  'CH': ('C', 'H', 'H'),\n",
       "  'BP': ('B', 'K', 'P'),\n",
       "  'OF': ('O', 'K', 'F'),\n",
       "  'SS': ('S', 'F', 'S'),\n",
       "  'SP': ('S', 'C', 'P'),\n",
       "  'PN': ('P', 'O', 'N'),\n",
       "  'CK': ('C', 'K', 'K'),\n",
       "  'KS': ('K', 'H', 'S'),\n",
       "  'HO': ('H', 'K', 'O'),\n",
       "  'FV': ('F', 'F', 'V'),\n",
       "  'SN': ('S', 'P', 'N'),\n",
       "  'HN': ('H', 'O', 'N'),\n",
       "  'KK': ('K', 'H', 'K'),\n",
       "  'KP': ('K', 'O', 'P'),\n",
       "  'CN': ('C', 'N', 'N'),\n",
       "  'BO': ('B', 'C', 'O'),\n",
       "  'CC': ('C', 'H', 'C'),\n",
       "  'PB': ('P', 'F', 'B'),\n",
       "  'PV': ('P', 'K', 'V'),\n",
       "  'BV': ('B', 'K', 'V'),\n",
       "  'PP': ('P', 'H', 'P'),\n",
       "  'KB': ('K', 'F', 'B'),\n",
       "  'NC': ('N', 'F', 'C'),\n",
       "  'PC': ('P', 'V', 'C'),\n",
       "  'FN': ('F', 'N', 'N'),\n",
       "  'NH': ('N', 'B', 'H'),\n",
       "  'CF': ('C', 'V', 'F'),\n",
       "  'PO': ('P', 'F', 'O'),\n",
       "  'KC': ('K', 'S', 'C'),\n",
       "  'VP': ('V', 'P', 'P'),\n",
       "  'HH': ('H', 'N', 'H'),\n",
       "  'OB': ('O', 'O', 'B'),\n",
       "  'KN': ('K', 'O', 'N'),\n",
       "  'PS': ('P', 'N', 'S'),\n",
       "  'SF': ('S', 'V', 'F'),\n",
       "  'VK': ('V', 'F', 'K'),\n",
       "  'CO': ('C', 'N', 'O'),\n",
       "  'KF': ('K', 'B', 'F'),\n",
       "  'VC': ('V', 'C', 'C'),\n",
       "  'SH': ('S', 'S', 'H'),\n",
       "  'HV': ('H', 'V', 'V'),\n",
       "  'FK': ('F', 'O', 'K'),\n",
       "  'NV': ('N', 'N', 'V'),\n",
       "  'SC': ('S', 'O', 'C'),\n",
       "  'BK': ('B', 'F', 'K'),\n",
       "  'BB': ('B', 'K', 'B'),\n",
       "  'HF': ('H', 'K', 'F'),\n",
       "  'OC': ('O', 'O', 'C'),\n",
       "  'KO': ('K', 'V', 'O'),\n",
       "  'OS': ('O', 'P', 'S'),\n",
       "  'FF': ('F', 'O', 'F'),\n",
       "  'PH': ('P', 'F', 'H'),\n",
       "  'FB': ('F', 'O', 'B'),\n",
       "  'NN': ('N', 'C', 'N'),\n",
       "  'NK': ('N', 'C', 'K'),\n",
       "  'HP': ('H', 'B', 'P'),\n",
       "  'PF': ('P', 'H', 'F'),\n",
       "  'PK': ('P', 'C', 'K'),\n",
       "  'NP': ('N', 'O', 'P'),\n",
       "  'NS': ('N', 'V', 'S'),\n",
       "  'CV': ('C', 'O', 'V'),\n",
       "  'VH': ('V', 'C', 'H'),\n",
       "  'OP': ('O', 'N', 'P'),\n",
       "  'SO': ('S', 'O', 'O'),\n",
       "  'SK': ('S', 'H', 'K'),\n",
       "  'SV': ('S', 'O', 'V'),\n",
       "  'NF': ('N', 'H', 'F'),\n",
       "  'BS': ('B', 'K', 'S'),\n",
       "  'BH': ('B', 'O', 'H'),\n",
       "  'VN': ('V', 'S', 'N'),\n",
       "  'HB': ('H', 'O', 'B'),\n",
       "  'OH': ('O', 'K', 'H'),\n",
       "  'CB': ('C', 'B', 'B'),\n",
       "  'BC': ('B', 'S', 'C'),\n",
       "  'OV': ('O', 'F', 'V'),\n",
       "  'BF': ('B', 'P', 'F'),\n",
       "  'OO': ('O', 'F', 'O'),\n",
       "  'HS': ('H', 'H', 'S'),\n",
       "  'ON': ('O', 'P', 'N'),\n",
       "  'NB': ('N', 'F', 'B'),\n",
       "  'CP': ('C', 'S', 'P'),\n",
       "  'SB': ('S', 'V', 'B'),\n",
       "  'VF': ('V', 'C', 'F'),\n",
       "  'OK': ('O', 'O', 'K'),\n",
       "  'FH': ('F', 'H', 'H'),\n",
       "  'KV': ('K', 'S', 'V'),\n",
       "  'FO': ('F', 'C', 'O'),\n",
       "  'VS': ('V', 'B', 'S')})"
      ]
     },
     "execution_count": 5,
     "metadata": {},
     "output_type": "execute_result"
    }
   ],
   "source": [
    "parse_input(inp)"
   ]
  },
  {
   "cell_type": "markdown",
   "metadata": {},
   "source": [
    "## Part 1"
   ]
  },
  {
   "cell_type": "code",
   "execution_count": 6,
   "metadata": {},
   "outputs": [],
   "source": [
    "template, rules = parse_input(test_inp)"
   ]
  },
  {
   "cell_type": "code",
   "execution_count": 7,
   "metadata": {},
   "outputs": [
    {
     "data": {
      "text/plain": [
       "1588"
      ]
     },
     "execution_count": 7,
     "metadata": {},
     "output_type": "execute_result"
    }
   ],
   "source": [
    "pairs = defaultdict(int)\n",
    "for i in range(len(template)-1):\n",
    "    pairs[template[i:i+2]] += 1\n",
    "    \n",
    "chars = defaultdict(int)\n",
    "for c in template:\n",
    "    chars[c] += 1\n",
    "\n",
    "for step in range(10):\n",
    "    new_pairs = defaultdict(int)\n",
    "    for (pair,n) in pairs.items():\n",
    "        a,b,c = rules[pair]\n",
    "        new_pairs[a+b] += n\n",
    "        new_pairs[b+c] += n\n",
    "        chars[b] += n\n",
    "    pairs = new_pairs\n",
    "    \n",
    "counts = sorted(chars.items(), key = lambda it: it[1])\n",
    "counts[-1][1] - counts[0][1]"
   ]
  },
  {
   "cell_type": "markdown",
   "metadata": {},
   "source": [
    "### Ok, now for the actual solution"
   ]
  },
  {
   "cell_type": "code",
   "execution_count": 8,
   "metadata": {},
   "outputs": [],
   "source": [
    "template, rules = parse_input(inp)"
   ]
  },
  {
   "cell_type": "code",
   "execution_count": 9,
   "metadata": {},
   "outputs": [
    {
     "data": {
      "text/plain": [
       "3259"
      ]
     },
     "execution_count": 9,
     "metadata": {},
     "output_type": "execute_result"
    }
   ],
   "source": [
    "pairs = defaultdict(int)\n",
    "for i in range(len(template)-1):\n",
    "    pairs[template[i:i+2]] += 1\n",
    "    \n",
    "chars = defaultdict(int)\n",
    "for c in template:\n",
    "    chars[c] += 1\n",
    "\n",
    "for step in range(10):\n",
    "    new_pairs = defaultdict(int)\n",
    "    for (pair,n) in pairs.items():\n",
    "        a,b,c = rules[pair]\n",
    "        new_pairs[a+b] += n\n",
    "        new_pairs[b+c] += n\n",
    "        chars[b] += n\n",
    "    pairs = new_pairs\n",
    "    \n",
    "counts = sorted(chars.items(), key = lambda it: it[1])\n",
    "counts[-1][1] - counts[0][1]"
   ]
  },
  {
   "cell_type": "markdown",
   "metadata": {},
   "source": [
    "## Part 2"
   ]
  },
  {
   "cell_type": "code",
   "execution_count": 10,
   "metadata": {},
   "outputs": [
    {
     "data": {
      "text/plain": [
       "3459174981021"
      ]
     },
     "execution_count": 10,
     "metadata": {},
     "output_type": "execute_result"
    }
   ],
   "source": [
    "pairs = defaultdict(int)\n",
    "for i in range(len(template)-1):\n",
    "    pairs[template[i:i+2]] += 1\n",
    "    \n",
    "chars = defaultdict(int)\n",
    "for c in template:\n",
    "    chars[c] += 1\n",
    "\n",
    "for step in range(40):\n",
    "    new_pairs = defaultdict(int)\n",
    "    for (pair,n) in pairs.items():\n",
    "        a,b,c = rules[pair]\n",
    "        new_pairs[a+b] += n\n",
    "        new_pairs[b+c] += n\n",
    "        chars[b] += n\n",
    "    pairs = new_pairs\n",
    "    \n",
    "counts = sorted(chars.items(), key = lambda it: it[1])\n",
    "counts[-1][1] - counts[0][1]"
   ]
  }
 ],
 "metadata": {
  "kernelspec": {
   "display_name": "Python 3",
   "language": "python",
   "name": "python3"
  },
  "language_info": {
   "codemirror_mode": {
    "name": "ipython",
    "version": 3
   },
   "file_extension": ".py",
   "mimetype": "text/x-python",
   "name": "python",
   "nbconvert_exporter": "python",
   "pygments_lexer": "ipython3",
   "version": "3.6.10"
  }
 },
 "nbformat": 4,
 "nbformat_minor": 4
}
