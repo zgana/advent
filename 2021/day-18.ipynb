{
 "cells": [
  {
   "cell_type": "markdown",
   "metadata": {},
   "source": [
    "# 2021 Day 18\n",
    "\n",
    "https://adventofcode.com/2021/day/18"
   ]
  },
  {
   "cell_type": "code",
   "execution_count": 1,
   "metadata": {},
   "outputs": [],
   "source": [
    "import re\n",
    "import numpy as np\n",
    "import pandas as pd\n",
    "import matplotlib.pyplot as plt\n",
    "\n",
    "import json"
   ]
  },
  {
   "cell_type": "code",
   "execution_count": 2,
   "metadata": {},
   "outputs": [],
   "source": [
    "inp = open('input-18.txt').read()"
   ]
  },
  {
   "cell_type": "code",
   "execution_count": 3,
   "metadata": {},
   "outputs": [],
   "source": [
    "def flatten(x):\n",
    "    x = str(x)\n",
    "    x = re.findall(r'\\[|\\]|,|\\d+', x)\n",
    "    depth = 0\n",
    "    a, d = [], []\n",
    "    for c in x:\n",
    "        oc = c\n",
    "        if c == '[':\n",
    "            depth += 1\n",
    "        elif c == ']':\n",
    "            depth -= 1\n",
    "        elif c == ',':\n",
    "            pass\n",
    "        else:\n",
    "            a.append(int(c))\n",
    "            d.append(depth)\n",
    "    return np.array(a), np.array(d)"
   ]
  },
  {
   "cell_type": "code",
   "execution_count": 4,
   "metadata": {},
   "outputs": [],
   "source": [
    "def explode(elements, depths):\n",
    "    elements, depths = elements.copy(), depths.copy()\n",
    "    N = len(elements)\n",
    "    assert len(depths) == N\n",
    "    could_explode = np.where(depths > 4)[0]\n",
    "    if not could_explode.size:\n",
    "        return False, elements, depths\n",
    "    i1, i2 = could_explode[:2]\n",
    "    if i1 >= 1:\n",
    "        elements[i1-1] += elements[i1]\n",
    "    if i2 <= N - 2:\n",
    "        elements[i2+1] += elements[i2]\n",
    "    elements = np.r_[elements[:i1], 0, elements[i2+1:]]\n",
    "    depths = np.r_[depths[:i1], depths[i1]-1, depths[i2+1:]]\n",
    "    return True, elements, depths"
   ]
  },
  {
   "cell_type": "code",
   "execution_count": 5,
   "metadata": {},
   "outputs": [],
   "source": [
    "def split(elements, depths):\n",
    "    elements, depths = elements.copy(), depths.copy()\n",
    "    N = len(elements)\n",
    "    assert len(depths) == N\n",
    "    could_split = np.where(elements >= 10)[0]\n",
    "    if not could_split.size:\n",
    "        return False, elements, depths\n",
    "    i = could_split[0]\n",
    "    value, depth = elements[i], depths[i] + 1\n",
    "    a, mod = value // 2, value % 2\n",
    "    b = a + mod\n",
    "    elements = np.r_[elements[:i], a, b, elements[i+1:]]\n",
    "    depths = np.r_[depths[:i], depth, depth, depths[i+1:]]\n",
    "    return True, elements, depths"
   ]
  },
  {
   "cell_type": "code",
   "execution_count": 6,
   "metadata": {},
   "outputs": [],
   "source": [
    "def magnitude(elements, depths):\n",
    "    out = 0\n",
    "    while len(elements) > 1:\n",
    "        could_mag = np.where(depths == depths.max())[0]\n",
    "        i1, i2 = could_mag[:2]\n",
    "        e1, e2 = elements[i1], elements[i2]\n",
    "        d = depths[i1] - 1\n",
    "        elements = np.r_[elements[:i1], 3*e1 + 2*e2, elements[i2+1:]]\n",
    "        depths = np.r_[depths[:i1], d, depths[i2+1:]]\n",
    "    return elements[0]"
   ]
  },
  {
   "cell_type": "code",
   "execution_count": 22,
   "metadata": {},
   "outputs": [],
   "source": [
    "def reduce(elements, depths):\n",
    "    needs_reduce = True\n",
    "    while needs_reduce:\n",
    "        did_reduce, elements, depths = explode(elements, depths)\n",
    "        if did_reduce:\n",
    "            continue\n",
    "        needs_reduce, elements, depths = split(elements, depths)\n",
    "    return elements, depths"
   ]
  },
  {
   "cell_type": "code",
   "execution_count": 8,
   "metadata": {},
   "outputs": [],
   "source": [
    "def add(e1, d1, e2, d2):\n",
    "    return np.concatenate((e1, e2)), np.concatenate((d1+1, d2+1))"
   ]
  },
  {
   "cell_type": "code",
   "execution_count": 9,
   "metadata": {},
   "outputs": [],
   "source": [
    "def findsum(lines):\n",
    "    if isinstance(lines, str):\n",
    "        lines = lines.strip().split('\\n')\n",
    "    elements_depths = [flatten(x) for x in lines]\n",
    "    elements, depths = elements_depths[0]\n",
    "    for (es, ds) in elements_depths[1:]:\n",
    "        elements, depths = reduce(*add(elements, depths, es, ds))\n",
    "    return elements, depths"
   ]
  },
  {
   "cell_type": "code",
   "execution_count": 10,
   "metadata": {},
   "outputs": [],
   "source": [
    "test_ex1 = [[[[[9,8],1],2],3],4]\n",
    "test_ex2 = [7,[6,[5,[4,[3,2]]]]]\n",
    "test_ex3 = [[6,[5,[4,[3,2]]]],1]\n",
    "test_ex4 = [[3,[2,[1,[7,3]]]],[6,[5,[4,[3,2]]]]]\n",
    "test_ex5 = [[3,[2,[8,0]]],[9,[5,[4,[3,2]]]]]"
   ]
  },
  {
   "cell_type": "code",
   "execution_count": 11,
   "metadata": {},
   "outputs": [
    {
     "name": "stdout",
     "output_type": "stream",
     "text": [
      "True [0 9 2 3 4] [4 4 3 2 1]\n",
      "True [7 6 5 7 0] [1 2 3 4 4]\n",
      "True [6 5 7 0 3] [2 3 4 4 1]\n",
      "True [3 2 8 0 9 5 4 3 2] [2 3 4 4 2 3 4 5 5]\n",
      "True [3 2 8 0 9 5 7 0] [2 3 4 4 2 3 4 4]\n"
     ]
    }
   ],
   "source": [
    "print(*explode(*flatten(test_ex1)))\n",
    "print(*explode(*flatten(test_ex2)))\n",
    "print(*explode(*flatten(test_ex3)))\n",
    "print(*explode(*flatten(test_ex4)))\n",
    "print(*explode(*flatten(test_ex5)))"
   ]
  },
  {
   "cell_type": "code",
   "execution_count": 12,
   "metadata": {},
   "outputs": [],
   "source": [
    "test_sp1 = [[[[0,7],4],[15,[0,13]]],[1,1]]\n",
    "test_sp2 = [[[[0,7],4],[[7,8],[0,13]]],[1,1]]"
   ]
  },
  {
   "cell_type": "code",
   "execution_count": 13,
   "metadata": {},
   "outputs": [
    {
     "name": "stdout",
     "output_type": "stream",
     "text": [
      "True [ 0  7  4  7  8  0 13  1  1] [4 4 3 4 4 4 4 2 2]\n",
      "True [0 7 4 7 8 0 6 7 1 1] [4 4 3 4 4 4 5 5 2 2]\n"
     ]
    }
   ],
   "source": [
    "print(*split(*flatten(test_sp1)))\n",
    "print(*split(*flatten(test_sp2)))"
   ]
  },
  {
   "cell_type": "code",
   "execution_count": 14,
   "metadata": {},
   "outputs": [],
   "source": [
    "test_mag1 = [[1,2],[[3,4],5]]\n",
    "test_mag2 = [[[[0,7],4],[[7,8],[6,0]]],[8,1]]\n",
    "test_mag3 = [[[[1,1],[2,2]],[3,3]],[4,4]]\n",
    "test_mag4 = [[[[3,0],[5,3]],[4,4]],[5,5]]\n",
    "test_mag5 = [[[[5,0],[7,4]],[5,5]],[6,6]]\n",
    "test_mag6 = [[[[8,7],[7,7]],[[8,6],[7,7]]],[[[0,7],[6,6]],[8,7]]]"
   ]
  },
  {
   "cell_type": "code",
   "execution_count": 15,
   "metadata": {},
   "outputs": [
    {
     "name": "stdout",
     "output_type": "stream",
     "text": [
      "143\n",
      "1384\n",
      "445\n",
      "791\n",
      "1137\n",
      "3488\n"
     ]
    }
   ],
   "source": [
    "print(magnitude(*flatten(test_mag1)))\n",
    "print(magnitude(*flatten(test_mag2)))\n",
    "print(magnitude(*flatten(test_mag3)))\n",
    "print(magnitude(*flatten(test_mag4)))\n",
    "print(magnitude(*flatten(test_mag5)))\n",
    "print(magnitude(*flatten(test_mag6)))"
   ]
  },
  {
   "cell_type": "code",
   "execution_count": 16,
   "metadata": {},
   "outputs": [],
   "source": [
    "test_r1 = [[[[[4,3],4],4],[7,[[8,4],9]]] , [1,1]]"
   ]
  },
  {
   "cell_type": "code",
   "execution_count": 17,
   "metadata": {},
   "outputs": [
    {
     "name": "stdout",
     "output_type": "stream",
     "text": [
      "after addition\n",
      "after addition\n",
      "after addition\n",
      "[0 7 4 7 8 6 0 8 1] [4 4 3 4 4 4 4 2 2]\n"
     ]
    }
   ],
   "source": [
    "print(*reduce(*flatten(test_r1)))"
   ]
  },
  {
   "cell_type": "code",
   "execution_count": 18,
   "metadata": {},
   "outputs": [
    {
     "name": "stdout",
     "output_type": "stream",
     "text": [
      "[1 2 3 4 5] [2 2 3 3 2]\n"
     ]
    }
   ],
   "source": [
    "(e1, d1), (e2, d2) = flatten([1,2]), flatten([[3,4],5])\n",
    "print(*add(e1, d1, e2, d2))"
   ]
  },
  {
   "cell_type": "code",
   "execution_count": 19,
   "metadata": {},
   "outputs": [],
   "source": [
    "test_numsx = \"\"\"\n",
    "[[[0,[4,5]],[0,0]],[[[4,5],[2,6]],[9,5]]]\n",
    "[7,[[[3,7],[4,3]],[[6,3],[8,8]]]]\n",
    "[[2,[[0,8],[3,4]]],[[[6,7],1],[7,[1,6]]]]\n",
    "[[[[2,4],7],[6,[0,5]]],[[[6,8],[2,8]],[[2,1],[4,5]]]]\n",
    "[7,[5,[[3,8],[1,4]]]]\n",
    "[[2,[2,2]],[8,[8,1]]]\n",
    "[2,9]\n",
    "[1,[[[9,3],9],[[9,0],[0,7]]]]\n",
    "[[[5,[7,4]],7],1]\n",
    "[[[[4,2],2],6],[8,7]]\n",
    "\"\"\""
   ]
  },
  {
   "cell_type": "code",
   "execution_count": 23,
   "metadata": {},
   "outputs": [
    {
     "name": "stdout",
     "output_type": "stream",
     "text": [
      "[8 7 7 7 8 6 7 7 0 7 6 6 8 7] [4 4 4 4 4 4 4 4 4 4 4 4 3 3]\n"
     ]
    }
   ],
   "source": [
    "print(*findsum(test_numsx))"
   ]
  },
  {
   "cell_type": "code",
   "execution_count": 24,
   "metadata": {},
   "outputs": [],
   "source": [
    "test_full1 = \"\"\"\n",
    "[[[0,[5,8]],[[1,7],[9,6]]],[[4,[1,2]],[[1,4],2]]]\n",
    "[[[5,[2,8]],4],[5,[[9,9],0]]]\n",
    "[6,[[[6,2],[5,6]],[[7,6],[4,7]]]]\n",
    "[[[6,[0,7]],[0,9]],[4,[9,[9,0]]]]\n",
    "[[[7,[6,4]],[3,[1,3]]],[[[5,5],1],9]]\n",
    "[[6,[[7,3],[3,2]]],[[[3,8],[5,7]],4]]\n",
    "[[[[5,4],[7,7]],8],[[8,3],8]]\n",
    "[[9,3],[[9,9],[6,[4,9]]]]\n",
    "[[2,[[7,7],7]],[[5,8],[[9,3],[0,2]]]]\n",
    "[[[[5,2],5],[8,[3,7]]],[[5,[7,5]],[4,4]]]\n",
    "\"\"\""
   ]
  },
  {
   "cell_type": "code",
   "execution_count": 25,
   "metadata": {},
   "outputs": [
    {
     "data": {
      "text/plain": [
       "4140"
      ]
     },
     "execution_count": 25,
     "metadata": {},
     "output_type": "execute_result"
    }
   ],
   "source": [
    "magnitude(*findsum(test_full1))"
   ]
  },
  {
   "cell_type": "markdown",
   "metadata": {},
   "source": [
    "## Part 1"
   ]
  },
  {
   "cell_type": "code",
   "execution_count": 26,
   "metadata": {},
   "outputs": [
    {
     "data": {
      "text/plain": [
       "4137"
      ]
     },
     "execution_count": 26,
     "metadata": {},
     "output_type": "execute_result"
    }
   ],
   "source": [
    "magnitude(*findsum(inp))"
   ]
  },
  {
   "cell_type": "markdown",
   "metadata": {},
   "source": [
    "## Part 2"
   ]
  },
  {
   "cell_type": "code",
   "execution_count": 27,
   "metadata": {},
   "outputs": [
    {
     "name": "stdout",
     "output_type": "stream",
     "text": [
      "100 + 100\n",
      "CPU times: user 44.9 s, sys: 12.4 s, total: 57.3 s\n",
      "Wall time: 53.7 s\n"
     ]
    },
    {
     "data": {
      "text/plain": [
       "4573"
      ]
     },
     "execution_count": 27,
     "metadata": {},
     "output_type": "execute_result"
    }
   ],
   "source": [
    "%%time\n",
    "lines = inp.strip().split('\\n')\n",
    "top_mag = 0\n",
    "for (i,line1) in enumerate(lines):\n",
    "    for (j,line2) in enumerate(lines):\n",
    "        print(f'\\r{i+1:3d} + {j+1:3d}', end='', flush=True)\n",
    "        if i == j:\n",
    "            continue\n",
    "        mag = magnitude(*findsum([line1,line2]))\n",
    "        top_mag = max(mag, top_mag)\n",
    "print()\n",
    "top_mag"
   ]
  }
 ],
 "metadata": {
  "kernelspec": {
   "display_name": "Python 3",
   "language": "python",
   "name": "python3"
  },
  "language_info": {
   "codemirror_mode": {
    "name": "ipython",
    "version": 3
   },
   "file_extension": ".py",
   "mimetype": "text/x-python",
   "name": "python",
   "nbconvert_exporter": "python",
   "pygments_lexer": "ipython3",
   "version": "3.6.10"
  }
 },
 "nbformat": 4,
 "nbformat_minor": 4
}
