{
 "cells": [
  {
   "cell_type": "markdown",
   "metadata": {},
   "source": [
    "# 2021 Day 15\n",
    "\n",
    "https://adventofcode.com/2021/day/15"
   ]
  },
  {
   "cell_type": "code",
   "execution_count": 1,
   "metadata": {},
   "outputs": [],
   "source": [
    "import re\n",
    "import numpy as np\n",
    "import pandas as pd\n",
    "import matplotlib.pyplot as plt"
   ]
  },
  {
   "cell_type": "code",
   "execution_count": 2,
   "metadata": {},
   "outputs": [],
   "source": [
    "inp = open('input-15.txt').read()\n",
    "test_inp = \"\"\"1163751742\n",
    "1381373672\n",
    "2136511328\n",
    "3694931569\n",
    "7463417111\n",
    "1319128137\n",
    "1359912421\n",
    "3125421639\n",
    "1293138521\n",
    "2311944581\"\"\""
   ]
  },
  {
   "cell_type": "code",
   "execution_count": 3,
   "metadata": {},
   "outputs": [],
   "source": [
    "def parse_input(inp):\n",
    "    return np.array([list(line) for line in inp.split()]).astype(int)"
   ]
  },
  {
   "cell_type": "code",
   "execution_count": 4,
   "metadata": {},
   "outputs": [],
   "source": [
    "def getpathdist(grid):\n",
    "    Ni, Nj = grid.shape\n",
    "    dists = np.inf * grid\n",
    "    dists[0,0] = 0\n",
    "    visited = grid < 0\n",
    "\n",
    "    while not visited.all():\n",
    "        curs = zip(*np.where((dists == (np.where(visited, np.inf, dists)).min())))\n",
    "        for cur in curs:\n",
    "            i, j = cur\n",
    "            poss_neighbors = [ (i+1,j), (i,j+1), (i-1,j), (i,j-1) ]\n",
    "            neighbors = [(i,j) for (i,j) in poss_neighbors if 0 <= i < Ni and 0 <= j < Nj]\n",
    "            for neighbor in neighbors:\n",
    "                dists[neighbor] = min(dists[neighbor], dists[cur] + grid[neighbor])\n",
    "            visited[cur] = True\n",
    "    dists = dists.astype(int)\n",
    "    return dists[-1,-1]"
   ]
  },
  {
   "cell_type": "markdown",
   "metadata": {},
   "source": [
    "## Part 1"
   ]
  },
  {
   "cell_type": "code",
   "execution_count": 5,
   "metadata": {},
   "outputs": [
    {
     "data": {
      "text/plain": [
       "40"
      ]
     },
     "execution_count": 5,
     "metadata": {},
     "output_type": "execute_result"
    }
   ],
   "source": [
    "getpathdist(parse_input(test_inp))"
   ]
  },
  {
   "cell_type": "code",
   "execution_count": 6,
   "metadata": {},
   "outputs": [
    {
     "data": {
      "text/plain": [
       "696"
      ]
     },
     "execution_count": 6,
     "metadata": {},
     "output_type": "execute_result"
    }
   ],
   "source": [
    "getpathdist(parse_input(inp))"
   ]
  },
  {
   "cell_type": "markdown",
   "metadata": {},
   "source": [
    "## Part 2"
   ]
  },
  {
   "cell_type": "code",
   "execution_count": 7,
   "metadata": {},
   "outputs": [],
   "source": [
    "def expandgrid(grid):\n",
    "    gwide = np.hstack([grid + i for i in range(5)])\n",
    "    gridbig = (np.vstack([gwide + i for i in range(5)]) - 1) % 9 + 1\n",
    "    return gridbig"
   ]
  },
  {
   "cell_type": "code",
   "execution_count": 8,
   "metadata": {},
   "outputs": [
    {
     "data": {
      "text/plain": [
       "array([[1, 1, 6, ..., 2, 8, 6],\n",
       "       [1, 3, 8, ..., 1, 2, 6],\n",
       "       [2, 1, 3, ..., 7, 6, 3],\n",
       "       ...,\n",
       "       [7, 5, 6, ..., 5, 2, 8],\n",
       "       [5, 6, 4, ..., 4, 1, 9],\n",
       "       [6, 7, 5, ..., 4, 7, 9]])"
      ]
     },
     "execution_count": 8,
     "metadata": {},
     "output_type": "execute_result"
    }
   ],
   "source": [
    "expandgrid(parse_input(test_inp))"
   ]
  },
  {
   "cell_type": "code",
   "execution_count": 9,
   "metadata": {},
   "outputs": [
    {
     "data": {
      "text/plain": [
       "315"
      ]
     },
     "execution_count": 9,
     "metadata": {},
     "output_type": "execute_result"
    }
   ],
   "source": [
    "getpathdist(expandgrid(parse_input(test_inp)))"
   ]
  },
  {
   "cell_type": "code",
   "execution_count": 10,
   "metadata": {},
   "outputs": [
    {
     "data": {
      "text/plain": [
       "2952"
      ]
     },
     "execution_count": 10,
     "metadata": {},
     "output_type": "execute_result"
    }
   ],
   "source": [
    "getpathdist(expandgrid(parse_input(inp)))"
   ]
  }
 ],
 "metadata": {
  "kernelspec": {
   "display_name": "Python 3",
   "language": "python",
   "name": "python3"
  },
  "language_info": {
   "codemirror_mode": {
    "name": "ipython",
    "version": 3
   },
   "file_extension": ".py",
   "mimetype": "text/x-python",
   "name": "python",
   "nbconvert_exporter": "python",
   "pygments_lexer": "ipython3",
   "version": "3.6.10"
  }
 },
 "nbformat": 4,
 "nbformat_minor": 4
}
