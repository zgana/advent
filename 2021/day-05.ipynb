{
 "cells": [
  {
   "cell_type": "markdown",
   "metadata": {},
   "source": [
    "# 2021 Day 5\n",
    "\n",
    "https://adventofcode.com/2021/day/5"
   ]
  },
  {
   "cell_type": "code",
   "execution_count": 1,
   "metadata": {},
   "outputs": [],
   "source": [
    "import re\n",
    "import numpy as np\n",
    "import pandas as pd\n",
    "import matplotlib.pyplot as plt"
   ]
  },
  {
   "cell_type": "code",
   "execution_count": 2,
   "metadata": {},
   "outputs": [
    {
     "data": {
      "text/html": [
       "<div>\n",
       "<style scoped>\n",
       "    .dataframe tbody tr th:only-of-type {\n",
       "        vertical-align: middle;\n",
       "    }\n",
       "\n",
       "    .dataframe tbody tr th {\n",
       "        vertical-align: top;\n",
       "    }\n",
       "\n",
       "    .dataframe thead th {\n",
       "        text-align: right;\n",
       "    }\n",
       "</style>\n",
       "<table border=\"1\" class=\"dataframe\">\n",
       "  <thead>\n",
       "    <tr style=\"text-align: right;\">\n",
       "      <th></th>\n",
       "      <th>x1</th>\n",
       "      <th>y1</th>\n",
       "      <th>x2</th>\n",
       "      <th>y2</th>\n",
       "    </tr>\n",
       "  </thead>\n",
       "  <tbody>\n",
       "    <tr>\n",
       "      <th>0</th>\n",
       "      <td>503</td>\n",
       "      <td>977</td>\n",
       "      <td>843</td>\n",
       "      <td>637</td>\n",
       "    </tr>\n",
       "    <tr>\n",
       "      <th>1</th>\n",
       "      <td>437</td>\n",
       "      <td>518</td>\n",
       "      <td>437</td>\n",
       "      <td>225</td>\n",
       "    </tr>\n",
       "    <tr>\n",
       "      <th>2</th>\n",
       "      <td>269</td>\n",
       "      <td>250</td>\n",
       "      <td>625</td>\n",
       "      <td>250</td>\n",
       "    </tr>\n",
       "    <tr>\n",
       "      <th>3</th>\n",
       "      <td>846</td>\n",
       "      <td>751</td>\n",
       "      <td>646</td>\n",
       "      <td>751</td>\n",
       "    </tr>\n",
       "    <tr>\n",
       "      <th>4</th>\n",
       "      <td>18</td>\n",
       "      <td>731</td>\n",
       "      <td>402</td>\n",
       "      <td>731</td>\n",
       "    </tr>\n",
       "    <tr>\n",
       "      <th>...</th>\n",
       "      <td>...</td>\n",
       "      <td>...</td>\n",
       "      <td>...</td>\n",
       "      <td>...</td>\n",
       "    </tr>\n",
       "    <tr>\n",
       "      <th>495</th>\n",
       "      <td>657</td>\n",
       "      <td>232</td>\n",
       "      <td>657</td>\n",
       "      <td>945</td>\n",
       "    </tr>\n",
       "    <tr>\n",
       "      <th>496</th>\n",
       "      <td>518</td>\n",
       "      <td>392</td>\n",
       "      <td>518</td>\n",
       "      <td>621</td>\n",
       "    </tr>\n",
       "    <tr>\n",
       "      <th>497</th>\n",
       "      <td>268</td>\n",
       "      <td>959</td>\n",
       "      <td>896</td>\n",
       "      <td>331</td>\n",
       "    </tr>\n",
       "    <tr>\n",
       "      <th>498</th>\n",
       "      <td>886</td>\n",
       "      <td>616</td>\n",
       "      <td>841</td>\n",
       "      <td>616</td>\n",
       "    </tr>\n",
       "    <tr>\n",
       "      <th>499</th>\n",
       "      <td>375</td>\n",
       "      <td>503</td>\n",
       "      <td>375</td>\n",
       "      <td>387</td>\n",
       "    </tr>\n",
       "  </tbody>\n",
       "</table>\n",
       "<p>500 rows × 4 columns</p>\n",
       "</div>"
      ],
      "text/plain": [
       "      x1   y1   x2   y2\n",
       "0    503  977  843  637\n",
       "1    437  518  437  225\n",
       "2    269  250  625  250\n",
       "3    846  751  646  751\n",
       "4     18  731  402  731\n",
       "..   ...  ...  ...  ...\n",
       "495  657  232  657  945\n",
       "496  518  392  518  621\n",
       "497  268  959  896  331\n",
       "498  886  616  841  616\n",
       "499  375  503  375  387\n",
       "\n",
       "[500 rows x 4 columns]"
      ]
     },
     "execution_count": 2,
     "metadata": {},
     "output_type": "execute_result"
    }
   ],
   "source": [
    "inp = pd.read_csv('input-05.txt', sep=',| -> ', names='x1 y1 x2 y2'.split(), engine='python')\n",
    "inp"
   ]
  },
  {
   "cell_type": "code",
   "execution_count": 3,
   "metadata": {},
   "outputs": [
    {
     "data": {
      "text/plain": [
       "(10, 990, 10, 989)"
      ]
     },
     "execution_count": 3,
     "metadata": {},
     "output_type": "execute_result"
    }
   ],
   "source": [
    "xmin = inp[['x1', 'x2']].min().min()\n",
    "xmax = inp[['x1', 'x2']].max().max()\n",
    "ymin = inp[['y1', 'y2']].min().min()\n",
    "ymax = inp[['y1', 'y2']].max().max()\n",
    "xmin, xmax, ymin, ymax"
   ]
  },
  {
   "cell_type": "markdown",
   "metadata": {},
   "source": [
    "## Part 1"
   ]
  },
  {
   "cell_type": "code",
   "execution_count": 4,
   "metadata": {},
   "outputs": [],
   "source": [
    "field = np.zeros((xmax+1, ymax+1), dtype=int)\n",
    "for row in inp.itertuples():\n",
    "    x1, x2, y1, y2 = row.x1, row.x2, row.y1, row.y2\n",
    "    dx, dy = abs(x2-x1), abs(y2-y1)\n",
    "    if dx == 0:\n",
    "        x = x1\n",
    "        y1, y2 = sorted([y1, y2])\n",
    "        for y in range(y1, y2+1):\n",
    "            field[x,y] += 1\n",
    "    elif dy == 0:\n",
    "        y = y1\n",
    "        x1, x2 = sorted([x1, x2])\n",
    "        for x in range(x1, x2+1):\n",
    "            field[x,y] += 1"
   ]
  },
  {
   "cell_type": "code",
   "execution_count": 5,
   "metadata": {},
   "outputs": [
    {
     "data": {
      "text/plain": [
       "5124"
      ]
     },
     "execution_count": 5,
     "metadata": {},
     "output_type": "execute_result"
    },
    {
     "data": {
      "image/png": "[encoded data removed]",
      "text/plain": [
       "<Figure size 640x480 with 1 Axes>"
      ]
     },
     "metadata": {},
     "output_type": "display_data"
    }
   ],
   "source": [
    "plt.pcolormesh(field>=2)\n",
    "np.sum(field >= 2)"
   ]
  },
  {
   "cell_type": "markdown",
   "metadata": {},
   "source": [
    "## Part 2"
   ]
  },
  {
   "cell_type": "code",
   "execution_count": 6,
   "metadata": {},
   "outputs": [],
   "source": [
    "field = np.zeros((xmax+1, ymax+1), dtype=int)\n",
    "for row in inp.itertuples():\n",
    "    x1, x2, y1, y2 = row.x1, row.x2, row.y1, row.y2\n",
    "    dx, dy = abs(x2-x1), abs(y2-y1)\n",
    "    if dx == 0:\n",
    "        x = x1\n",
    "        y1, y2 = sorted([y1, y2])\n",
    "        for y in range(y1, y2+1):\n",
    "            field[x,y] += 1\n",
    "    elif dy == 0:\n",
    "        y = y1\n",
    "        x1, x2 = sorted([x1, x2])\n",
    "        for x in range(x1, x2+1):\n",
    "            field[x,y] += 1\n",
    "    elif dx == dy:\n",
    "        xs = np.linspace(x1, x2, np.abs(dx)+1).astype(int)\n",
    "        ys = np.linspace(y1, y2, np.abs(dy)+1).astype(int)\n",
    "        for (x,y) in zip(xs, ys):\n",
    "            field[x,y] += 1"
   ]
  },
  {
   "cell_type": "code",
   "execution_count": 7,
   "metadata": {},
   "outputs": [
    {
     "data": {
      "text/plain": [
       "19771"
      ]
     },
     "execution_count": 7,
     "metadata": {},
     "output_type": "execute_result"
    },
    {
     "data": {
      "image/png": "[encoded data removed]",
      "text/plain": [
       "<Figure size 640x480 with 1 Axes>"
      ]
     },
     "metadata": {},
     "output_type": "display_data"
    }
   ],
   "source": [
    "plt.pcolormesh(field>=2)\n",
    "np.sum(field >= 2)"
   ]
  }
 ],
 "metadata": {
  "kernelspec": {
   "display_name": "Python 3",
   "language": "python",
   "name": "python3"
  },
  "language_info": {
   "codemirror_mode": {
    "name": "ipython",
    "version": 3
   },
   "file_extension": ".py",
   "mimetype": "text/x-python",
   "name": "python",
   "nbconvert_exporter": "python",
   "pygments_lexer": "ipython3",
   "version": "3.6.10"
  }
 },
 "nbformat": 4,
 "nbformat_minor": 4
}
