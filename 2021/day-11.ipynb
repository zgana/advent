{
 "cells": [
  {
   "cell_type": "markdown",
   "metadata": {},
   "source": [
    "# 2021 Day 11\n",
    "\n",
    "https://adventofcode.com/2021/day/11"
   ]
  },
  {
   "cell_type": "code",
   "execution_count": 15,
   "metadata": {},
   "outputs": [],
   "source": [
    "import re\n",
    "import numpy as np\n",
    "import pandas as pd\n",
    "import matplotlib.pyplot as plt\n",
    "from scipy import ndimage"
   ]
  },
  {
   "cell_type": "code",
   "execution_count": 152,
   "metadata": {},
   "outputs": [
    {
     "data": {
      "text/plain": [
       "array([[4, 7, 6, 4, 7, 4, 5, 7, 8, 4],\n",
       "       [4, 6, 4, 3, 4, 5, 7, 1, 7, 6],\n",
       "       [8, 3, 2, 2, 6, 2, 8, 4, 7, 7],\n",
       "       [7, 6, 1, 7, 1, 5, 2, 5, 4, 6],\n",
       "       [6, 1, 3, 7, 5, 1, 8, 1, 6, 5],\n",
       "       [1, 5, 5, 6, 7, 2, 3, 1, 7, 6],\n",
       "       [2, 1, 8, 7, 8, 6, 1, 8, 8, 6],\n",
       "       [2, 5, 5, 3, 4, 2, 2, 6, 2, 5],\n",
       "       [4, 8, 1, 7, 5, 8, 4, 6, 3, 8],\n",
       "       [3, 7, 5, 4, 2, 8, 5, 6, 6, 2]])"
      ]
     },
     "execution_count": 152,
     "metadata": {},
     "output_type": "execute_result"
    }
   ],
   "source": [
    "inp = open('input-11.txt').read()\n",
    "STATE0 = np.array(list(map(list, inp.split('\\n')))).astype(int)\n",
    "STATE0"
   ]
  },
  {
   "cell_type": "code",
   "execution_count": 144,
   "metadata": {},
   "outputs": [
    {
     "data": {
      "text/plain": [
       "array([[5, 4, 8, 3, 1, 4, 3, 2, 2, 3],\n",
       "       [2, 7, 4, 5, 8, 5, 4, 7, 1, 1],\n",
       "       [5, 2, 6, 4, 5, 5, 6, 1, 7, 3],\n",
       "       [6, 1, 4, 1, 3, 3, 6, 1, 4, 6],\n",
       "       [6, 3, 5, 7, 3, 8, 5, 4, 7, 8],\n",
       "       [4, 1, 6, 7, 5, 2, 4, 6, 4, 5],\n",
       "       [2, 1, 7, 6, 8, 4, 1, 7, 2, 1],\n",
       "       [6, 8, 8, 2, 8, 8, 1, 1, 3, 4],\n",
       "       [4, 8, 4, 6, 8, 4, 8, 5, 5, 4],\n",
       "       [5, 2, 8, 3, 7, 5, 1, 5, 2, 6]])"
      ]
     },
     "execution_count": 144,
     "metadata": {},
     "output_type": "execute_result"
    }
   ],
   "source": [
    "inp = \"\"\"5483143223\n",
    "2745854711\n",
    "5264556173\n",
    "6141336146\n",
    "6357385478\n",
    "4167524645\n",
    "2176841721\n",
    "6882881134\n",
    "4846848554\n",
    "5283751526\"\"\"\n",
    "test_state = np.array(list(map(list, inp.split('\\n')))).astype(int)\n",
    "test_state"
   ]
  },
  {
   "cell_type": "markdown",
   "metadata": {},
   "source": [
    "## Part 1"
   ]
  },
  {
   "cell_type": "code",
   "execution_count": 156,
   "metadata": {},
   "outputs": [],
   "source": [
    "class Oct:\n",
    "    def __init__(self, state):\n",
    "        self.state0 = state.copy()\n",
    "        self.state = state.copy()\n",
    "        self.nflash = 0\n",
    "        self.nstep = 0\n",
    "        self.step_flashes = []\n",
    "        \n",
    "    def step(self):\n",
    "        kernel = np.ones((3,3), dtype=int)\n",
    "        nflash = 0\n",
    "        state = self.state + 1\n",
    "        flashes = state > 9\n",
    "        already_flashed = flashes > 0\n",
    "        flashes = 1*flashes\n",
    "        while flashes.sum():\n",
    "            # handle latest flashes\n",
    "            nflash += flashes.sum()\n",
    "            flash_impact = ndimage.convolve(flashes, kernel, mode='constant')\n",
    "            state = state + flash_impact\n",
    "            flashes = (state > 9) & ~already_flashed\n",
    "            already_flashed |= flashes\n",
    "            flashes = 1*flashes\n",
    "        self.state = np.where(already_flashed, 0, state)\n",
    "        self.step_flashes.append(nflash)\n",
    "        self.nflash += nflash\n",
    "        self.nstep += 1\n",
    "        \n",
    "    def __repr__(self):\n",
    "        s = '\\n'.join([''.join(s) for s in self.state.astype(str)])\n",
    "        return (\n",
    "            f'Oct after {self.nstep} steps and {self.nflash} flashes with current state:\\n{s}'\n",
    "        )"
   ]
  },
  {
   "cell_type": "code",
   "execution_count": 145,
   "metadata": {},
   "outputs": [
    {
     "data": {
      "text/plain": [
       "Oct after 0 steps and 0 flashes with current state:\n",
       "5483143223\n",
       "2745854711\n",
       "5264556173\n",
       "6141336146\n",
       "6357385478\n",
       "4167524645\n",
       "2176841721\n",
       "6882881134\n",
       "4846848554\n",
       "5283751526"
      ]
     },
     "execution_count": 145,
     "metadata": {},
     "output_type": "execute_result"
    }
   ],
   "source": [
    "o = Oct(test_state)\n",
    "o"
   ]
  },
  {
   "cell_type": "code",
   "execution_count": 146,
   "metadata": {},
   "outputs": [
    {
     "data": {
      "text/plain": [
       "Oct after 1 steps and 0 flashes with current state:\n",
       "6594254334\n",
       "3856965822\n",
       "6375667284\n",
       "7252447257\n",
       "7468496589\n",
       "5278635756\n",
       "3287952832\n",
       "7993992245\n",
       "5957959665\n",
       "6394862637"
      ]
     },
     "execution_count": 146,
     "metadata": {},
     "output_type": "execute_result"
    }
   ],
   "source": [
    "o.step()\n",
    "o"
   ]
  },
  {
   "cell_type": "code",
   "execution_count": 147,
   "metadata": {},
   "outputs": [
    {
     "data": {
      "text/plain": [
       "Oct after 2 steps and 35 flashes with current state:\n",
       "8807476555\n",
       "5089087054\n",
       "8597889608\n",
       "8485769600\n",
       "8700908800\n",
       "6600088989\n",
       "6800005943\n",
       "0000007456\n",
       "9000000876\n",
       "8700006848"
      ]
     },
     "execution_count": 147,
     "metadata": {},
     "output_type": "execute_result"
    }
   ],
   "source": [
    "o.step()\n",
    "o"
   ]
  },
  {
   "cell_type": "code",
   "execution_count": 150,
   "metadata": {},
   "outputs": [
    {
     "data": {
      "text/plain": [
       "Oct after 10 steps and 204 flashes with current state:\n",
       "0481112976\n",
       "0031112009\n",
       "0041112504\n",
       "0081111406\n",
       "0099111306\n",
       "0093511233\n",
       "0442361130\n",
       "5532252350\n",
       "0532250600\n",
       "0032240000"
      ]
     },
     "execution_count": 150,
     "metadata": {},
     "output_type": "execute_result"
    }
   ],
   "source": [
    "while o.nstep < 10:\n",
    "    o.step()\n",
    "o"
   ]
  },
  {
   "cell_type": "markdown",
   "metadata": {},
   "source": [
    "### Ok, now the actual solution"
   ]
  },
  {
   "cell_type": "code",
   "execution_count": 153,
   "metadata": {},
   "outputs": [
    {
     "data": {
      "text/plain": [
       "Oct after 100 steps and 1588 flashes with current state:\n",
       "7944600009\n",
       "9444700000\n",
       "4444709000\n",
       "4444700000\n",
       "4444700000\n",
       "4444700000\n",
       "4444700000\n",
       "4444700000\n",
       "4444600000\n",
       "8444570007"
      ]
     },
     "execution_count": 153,
     "metadata": {},
     "output_type": "execute_result"
    }
   ],
   "source": [
    "o = Oct(STATE0)\n",
    "\n",
    "while o.nstep < 100:\n",
    "    o.step()\n",
    "    \n",
    "o"
   ]
  },
  {
   "cell_type": "code",
   "execution_count": 155,
   "metadata": {},
   "outputs": [
    {
     "data": {
      "text/plain": [
       "1588"
      ]
     },
     "execution_count": 155,
     "metadata": {},
     "output_type": "execute_result"
    }
   ],
   "source": [
    "o.nflash"
   ]
  },
  {
   "cell_type": "markdown",
   "metadata": {},
   "source": [
    "## Part 2"
   ]
  },
  {
   "cell_type": "code",
   "execution_count": 162,
   "metadata": {},
   "outputs": [],
   "source": [
    "o = Oct(STATE0)"
   ]
  },
  {
   "cell_type": "code",
   "execution_count": 163,
   "metadata": {},
   "outputs": [
    {
     "data": {
      "text/plain": [
       "517"
      ]
     },
     "execution_count": 163,
     "metadata": {},
     "output_type": "execute_result"
    }
   ],
   "source": [
    "o.step()\n",
    "\n",
    "while o.step_flashes[-1] < o.state.size:\n",
    "    o.step()\n",
    "    \n",
    "o.nstep"
   ]
  },
  {
   "cell_type": "code",
   "execution_count": 164,
   "metadata": {},
   "outputs": [
    {
     "data": {
      "text/plain": [
       "Oct after 517 steps and 7918 flashes with current state:\n",
       "0000000000\n",
       "0000000000\n",
       "0000000000\n",
       "0000000000\n",
       "0000000000\n",
       "0000000000\n",
       "0000000000\n",
       "0000000000\n",
       "0000000000\n",
       "0000000000"
      ]
     },
     "execution_count": 164,
     "metadata": {},
     "output_type": "execute_result"
    }
   ],
   "source": [
    "o"
   ]
  }
 ],
 "metadata": {
  "kernelspec": {
   "display_name": "Python 3",
   "language": "python",
   "name": "python3"
  },
  "language_info": {
   "codemirror_mode": {
    "name": "ipython",
    "version": 3
   },
   "file_extension": ".py",
   "mimetype": "text/x-python",
   "name": "python",
   "nbconvert_exporter": "python",
   "pygments_lexer": "ipython3",
   "version": "3.6.10"
  }
 },
 "nbformat": 4,
 "nbformat_minor": 4
}
