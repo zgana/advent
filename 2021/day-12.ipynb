{
 "cells": [
  {
   "cell_type": "markdown",
   "metadata": {},
   "source": [
    "# 2021 Day 12\n",
    "\n",
    "https://adventofcode.com/2021/day/12"
   ]
  },
  {
   "cell_type": "code",
   "execution_count": 1,
   "metadata": {},
   "outputs": [],
   "source": [
    "from collections import defaultdict\n",
    "import re\n",
    "import numpy as np\n",
    "import pandas as pd\n",
    "import matplotlib.pyplot as plt"
   ]
  },
  {
   "cell_type": "code",
   "execution_count": 2,
   "metadata": {},
   "outputs": [],
   "source": [
    "def inp_to_connections(inp):\n",
    "    connections = defaultdict(list)\n",
    "    for line in inp.strip().split():\n",
    "        node1, node2 = line.split('-')\n",
    "        connections[node1].append(node2)\n",
    "        connections[node2].append(node1)\n",
    "    return {**connections}"
   ]
  },
  {
   "cell_type": "code",
   "execution_count": 3,
   "metadata": {},
   "outputs": [
    {
     "data": {
      "text/plain": [
       "{'pn': ['TY', 'co', 'rp', 'aw', 'IV', 'start'],\n",
       " 'TY': ['pn', 'aw', 'co', 'ka'],\n",
       " 'rp': ['ka', 'end', 'pn', 'al', 'TM'],\n",
       " 'ka': ['rp', 'TY', 'IV'],\n",
       " 'az': ['aw'],\n",
       " 'aw': ['az', 'TY', 'pn', 'IV', 'PD'],\n",
       " 'al': ['IV', 'rp', 'end'],\n",
       " 'IV': ['al', 'co', 'aw', 'pn', 'ka', 'start'],\n",
       " 'co': ['pn', 'IV', 'TY', 'start'],\n",
       " 'end': ['rp', 'al', 'TM'],\n",
       " 'TM': ['end', 'rp'],\n",
       " 'PD': ['aw'],\n",
       " 'start': ['IV', 'co', 'pn']}"
      ]
     },
     "execution_count": 3,
     "metadata": {},
     "output_type": "execute_result"
    }
   ],
   "source": [
    "inp = open('input-12.txt').read()\n",
    "connections = inp_to_connections(inp)\n",
    "connections"
   ]
  },
  {
   "cell_type": "code",
   "execution_count": 4,
   "metadata": {},
   "outputs": [
    {
     "data": {
      "text/plain": [
       "{'start': ['A', 'b'],\n",
       " 'A': ['start', 'c', 'b', 'end'],\n",
       " 'b': ['start', 'A', 'd', 'end'],\n",
       " 'c': ['A'],\n",
       " 'd': ['b'],\n",
       " 'end': ['A', 'b']}"
      ]
     },
     "execution_count": 4,
     "metadata": {},
     "output_type": "execute_result"
    }
   ],
   "source": [
    "test_connections = inp_to_connections(\"\"\"\n",
    "start-A\n",
    "start-b\n",
    "A-c\n",
    "A-b\n",
    "b-d\n",
    "A-end\n",
    "b-end\n",
    "\"\"\")\n",
    "test_connections"
   ]
  },
  {
   "cell_type": "code",
   "execution_count": 5,
   "metadata": {},
   "outputs": [
    {
     "data": {
      "text/plain": [
       "{'dc': ['end', 'start', 'HN', 'LN', 'kj'],\n",
       " 'end': ['dc', 'HN'],\n",
       " 'HN': ['start', 'dc', 'end', 'kj'],\n",
       " 'start': ['HN', 'kj', 'dc'],\n",
       " 'kj': ['start', 'sa', 'HN', 'dc'],\n",
       " 'LN': ['dc'],\n",
       " 'sa': ['kj']}"
      ]
     },
     "execution_count": 5,
     "metadata": {},
     "output_type": "execute_result"
    }
   ],
   "source": [
    "test_connections_2 = inp_to_connections(\"\"\"\n",
    "dc-end\n",
    "HN-start\n",
    "start-kj\n",
    "dc-start\n",
    "dc-HN\n",
    "LN-dc\n",
    "HN-end\n",
    "kj-sa\n",
    "kj-HN\n",
    "kj-dc\n",
    "\"\"\")\n",
    "test_connections_2"
   ]
  },
  {
   "cell_type": "code",
   "execution_count": 6,
   "metadata": {},
   "outputs": [
    {
     "data": {
      "text/plain": [
       "{'fs': ['end', 'he', 'DX', 'pj'],\n",
       " 'end': ['fs', 'zg'],\n",
       " 'he': ['DX', 'fs', 'pj', 'RW', 'WI', 'zg'],\n",
       " 'DX': ['he', 'start', 'pj', 'fs'],\n",
       " 'start': ['DX', 'pj', 'RW'],\n",
       " 'pj': ['DX', 'zg', 'he', 'RW', 'start', 'fs'],\n",
       " 'zg': ['end', 'sl', 'pj', 'RW', 'he'],\n",
       " 'sl': ['zg'],\n",
       " 'RW': ['he', 'pj', 'zg', 'start'],\n",
       " 'WI': ['he']}"
      ]
     },
     "execution_count": 6,
     "metadata": {},
     "output_type": "execute_result"
    }
   ],
   "source": [
    "test_connections_3 = inp_to_connections(\"\"\"\n",
    "fs-end\n",
    "he-DX\n",
    "fs-he\n",
    "start-DX\n",
    "pj-DX\n",
    "end-zg\n",
    "zg-sl\n",
    "zg-pj\n",
    "pj-he\n",
    "RW-he\n",
    "fs-DX\n",
    "pj-RW\n",
    "zg-RW\n",
    "start-pj\n",
    "he-WI\n",
    "zg-he\n",
    "pj-fs\n",
    "start-RW\n",
    "\"\"\")\n",
    "test_connections_3"
   ]
  },
  {
   "cell_type": "markdown",
   "metadata": {},
   "source": [
    "## Part 1"
   ]
  },
  {
   "cell_type": "code",
   "execution_count": 7,
   "metadata": {},
   "outputs": [],
   "source": [
    "def traverse(connections, cur, path=None):\n",
    "    if path is None:\n",
    "        path = [cur]\n",
    "    else:\n",
    "        path = path + [cur]\n",
    "    if cur == 'end':\n",
    "        return [path]\n",
    "    paths = []\n",
    "    for conn in connections[cur]:\n",
    "        if conn.islower() and conn in path:\n",
    "            continue\n",
    "        for fullpath in traverse(connections, conn, path=path):\n",
    "            paths.append(fullpath)\n",
    "    return paths"
   ]
  },
  {
   "cell_type": "code",
   "execution_count": 8,
   "metadata": {},
   "outputs": [
    {
     "name": "stdout",
     "output_type": "stream",
     "text": [
      "10\n"
     ]
    },
    {
     "data": {
      "text/plain": [
       "[['start', 'A', 'c', 'A', 'b', 'A', 'end'],\n",
       " ['start', 'A', 'c', 'A', 'b', 'end'],\n",
       " ['start', 'A', 'c', 'A', 'end'],\n",
       " ['start', 'A', 'b', 'A', 'c', 'A', 'end'],\n",
       " ['start', 'A', 'b', 'A', 'end'],\n",
       " ['start', 'A', 'b', 'end'],\n",
       " ['start', 'A', 'end'],\n",
       " ['start', 'b', 'A', 'c', 'A', 'end'],\n",
       " ['start', 'b', 'A', 'end'],\n",
       " ['start', 'b', 'end']]"
      ]
     },
     "execution_count": 8,
     "metadata": {},
     "output_type": "execute_result"
    }
   ],
   "source": [
    "test_paths = traverse(test_connections, 'start')\n",
    "print(len(test_paths))\n",
    "test_paths"
   ]
  },
  {
   "cell_type": "code",
   "execution_count": 9,
   "metadata": {},
   "outputs": [
    {
     "name": "stdout",
     "output_type": "stream",
     "text": [
      "19\n"
     ]
    },
    {
     "data": {
      "text/plain": [
       "[['start', 'HN', 'dc', 'end'],\n",
       " ['start', 'HN', 'dc', 'HN', 'end'],\n",
       " ['start', 'HN', 'dc', 'HN', 'kj', 'HN', 'end'],\n",
       " ['start', 'HN', 'dc', 'kj', 'HN', 'end'],\n",
       " ['start', 'HN', 'end'],\n",
       " ['start', 'HN', 'kj', 'HN', 'dc', 'end'],\n",
       " ['start', 'HN', 'kj', 'HN', 'dc', 'HN', 'end'],\n",
       " ['start', 'HN', 'kj', 'HN', 'end'],\n",
       " ['start', 'HN', 'kj', 'dc', 'end'],\n",
       " ['start', 'HN', 'kj', 'dc', 'HN', 'end'],\n",
       " ['start', 'kj', 'HN', 'dc', 'end'],\n",
       " ['start', 'kj', 'HN', 'dc', 'HN', 'end'],\n",
       " ['start', 'kj', 'HN', 'end'],\n",
       " ['start', 'kj', 'dc', 'end'],\n",
       " ['start', 'kj', 'dc', 'HN', 'end'],\n",
       " ['start', 'dc', 'end'],\n",
       " ['start', 'dc', 'HN', 'end'],\n",
       " ['start', 'dc', 'HN', 'kj', 'HN', 'end'],\n",
       " ['start', 'dc', 'kj', 'HN', 'end']]"
      ]
     },
     "execution_count": 9,
     "metadata": {},
     "output_type": "execute_result"
    }
   ],
   "source": [
    "test_paths_2 = traverse(test_connections_2, 'start')\n",
    "print(len(test_paths_2))\n",
    "test_paths_2"
   ]
  },
  {
   "cell_type": "code",
   "execution_count": 10,
   "metadata": {},
   "outputs": [
    {
     "data": {
      "text/plain": [
       "226"
      ]
     },
     "execution_count": 10,
     "metadata": {},
     "output_type": "execute_result"
    }
   ],
   "source": [
    "test_paths_3 = traverse(test_connections_3, 'start')\n",
    "len(test_paths_3)"
   ]
  },
  {
   "cell_type": "markdown",
   "metadata": {},
   "source": [
    "### Ok, now the actual solution"
   ]
  },
  {
   "cell_type": "code",
   "execution_count": 11,
   "metadata": {},
   "outputs": [
    {
     "data": {
      "text/plain": [
       "4413"
      ]
     },
     "execution_count": 11,
     "metadata": {},
     "output_type": "execute_result"
    }
   ],
   "source": [
    "paths = traverse(connections, 'start')\n",
    "len(paths)"
   ]
  },
  {
   "cell_type": "markdown",
   "metadata": {},
   "source": [
    "## Part 2"
   ]
  },
  {
   "cell_type": "code",
   "execution_count": 12,
   "metadata": {},
   "outputs": [],
   "source": [
    "def traverse2(connections, cur='start', path=None):\n",
    "    if path is None:\n",
    "        path = [cur]\n",
    "    else:\n",
    "        path = path + [cur]\n",
    "    if cur == 'end':\n",
    "        return [path]\n",
    "    paths = []\n",
    "    for conn in connections[cur]:\n",
    "        if conn == 'start':\n",
    "            continue\n",
    "        elif conn.islower() and conn in path:\n",
    "            if any(path.count(c) == 2 for c in path if c.islower()):\n",
    "                continue\n",
    "        for fullpath in traverse2(connections, conn, path=path):\n",
    "            paths.append(fullpath)\n",
    "    return paths"
   ]
  },
  {
   "cell_type": "code",
   "execution_count": 13,
   "metadata": {},
   "outputs": [
    {
     "name": "stdout",
     "output_type": "stream",
     "text": [
      "36\n"
     ]
    },
    {
     "data": {
      "text/plain": [
       "[['start', 'A', 'b', 'A', 'b', 'A', 'c', 'A', 'end'],\n",
       " ['start', 'A', 'b', 'A', 'b', 'A', 'end'],\n",
       " ['start', 'A', 'b', 'A', 'b', 'end'],\n",
       " ['start', 'A', 'b', 'A', 'c', 'A', 'b', 'A', 'end'],\n",
       " ['start', 'A', 'b', 'A', 'c', 'A', 'b', 'end'],\n",
       " ['start', 'A', 'b', 'A', 'c', 'A', 'c', 'A', 'end'],\n",
       " ['start', 'A', 'b', 'A', 'c', 'A', 'end'],\n",
       " ['start', 'A', 'b', 'A', 'end'],\n",
       " ['start', 'A', 'b', 'd', 'b', 'A', 'c', 'A', 'end'],\n",
       " ['start', 'A', 'b', 'd', 'b', 'A', 'end'],\n",
       " ['start', 'A', 'b', 'd', 'b', 'end'],\n",
       " ['start', 'A', 'b', 'end'],\n",
       " ['start', 'A', 'c', 'A', 'b', 'A', 'b', 'A', 'end'],\n",
       " ['start', 'A', 'c', 'A', 'b', 'A', 'b', 'end'],\n",
       " ['start', 'A', 'c', 'A', 'b', 'A', 'c', 'A', 'end'],\n",
       " ['start', 'A', 'c', 'A', 'b', 'A', 'end'],\n",
       " ['start', 'A', 'c', 'A', 'b', 'd', 'b', 'A', 'end'],\n",
       " ['start', 'A', 'c', 'A', 'b', 'd', 'b', 'end'],\n",
       " ['start', 'A', 'c', 'A', 'b', 'end'],\n",
       " ['start', 'A', 'c', 'A', 'c', 'A', 'b', 'A', 'end'],\n",
       " ['start', 'A', 'c', 'A', 'c', 'A', 'b', 'end'],\n",
       " ['start', 'A', 'c', 'A', 'c', 'A', 'end'],\n",
       " ['start', 'A', 'c', 'A', 'end'],\n",
       " ['start', 'A', 'end'],\n",
       " ['start', 'b', 'A', 'b', 'A', 'c', 'A', 'end'],\n",
       " ['start', 'b', 'A', 'b', 'A', 'end'],\n",
       " ['start', 'b', 'A', 'b', 'end'],\n",
       " ['start', 'b', 'A', 'c', 'A', 'b', 'A', 'end'],\n",
       " ['start', 'b', 'A', 'c', 'A', 'b', 'end'],\n",
       " ['start', 'b', 'A', 'c', 'A', 'c', 'A', 'end'],\n",
       " ['start', 'b', 'A', 'c', 'A', 'end'],\n",
       " ['start', 'b', 'A', 'end'],\n",
       " ['start', 'b', 'd', 'b', 'A', 'c', 'A', 'end'],\n",
       " ['start', 'b', 'd', 'b', 'A', 'end'],\n",
       " ['start', 'b', 'd', 'b', 'end'],\n",
       " ['start', 'b', 'end']]"
      ]
     },
     "execution_count": 13,
     "metadata": {},
     "output_type": "execute_result"
    }
   ],
   "source": [
    "test_paths = traverse2(test_connections)\n",
    "print(len(test_paths))\n",
    "sorted(test_paths)"
   ]
  },
  {
   "cell_type": "code",
   "execution_count": 14,
   "metadata": {},
   "outputs": [
    {
     "data": {
      "text/plain": [
       "103"
      ]
     },
     "execution_count": 14,
     "metadata": {},
     "output_type": "execute_result"
    }
   ],
   "source": [
    "len(traverse2(test_connections_2))"
   ]
  },
  {
   "cell_type": "code",
   "execution_count": 15,
   "metadata": {},
   "outputs": [
    {
     "data": {
      "text/plain": [
       "3509"
      ]
     },
     "execution_count": 15,
     "metadata": {},
     "output_type": "execute_result"
    }
   ],
   "source": [
    "len(traverse2(test_connections_3))"
   ]
  },
  {
   "cell_type": "code",
   "execution_count": 16,
   "metadata": {},
   "outputs": [
    {
     "data": {
      "text/plain": [
       "118803"
      ]
     },
     "execution_count": 16,
     "metadata": {},
     "output_type": "execute_result"
    }
   ],
   "source": [
    "len(traverse2(connections))"
   ]
  }
 ],
 "metadata": {
  "kernelspec": {
   "display_name": "Python 3",
   "language": "python",
   "name": "python3"
  },
  "language_info": {
   "codemirror_mode": {
    "name": "ipython",
    "version": 3
   },
   "file_extension": ".py",
   "mimetype": "text/x-python",
   "name": "python",
   "nbconvert_exporter": "python",
   "pygments_lexer": "ipython3",
   "version": "3.6.10"
  }
 },
 "nbformat": 4,
 "nbformat_minor": 4
}
