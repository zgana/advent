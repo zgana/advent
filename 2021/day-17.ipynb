{
 "cells": [
  {
   "cell_type": "markdown",
   "metadata": {},
   "source": [
    "# 2021 Day 17\n",
    "\n",
    "https://adventofcode.com/2021/day/17"
   ]
  },
  {
   "cell_type": "code",
   "execution_count": 1,
   "metadata": {},
   "outputs": [],
   "source": [
    "from collections import namedtuple\n",
    "import re\n",
    "import numpy as np\n",
    "import pandas as pd\n",
    "import matplotlib.pyplot as plt\n",
    "\n",
    "from numba import jit"
   ]
  },
  {
   "cell_type": "code",
   "execution_count": 2,
   "metadata": {},
   "outputs": [],
   "source": [
    "inp = open('input-17.txt').read()"
   ]
  },
  {
   "cell_type": "code",
   "execution_count": 3,
   "metadata": {},
   "outputs": [],
   "source": [
    "test_inp = 'target area: x=20..30, y=-10..-5'"
   ]
  },
  {
   "cell_type": "code",
   "execution_count": 4,
   "metadata": {},
   "outputs": [],
   "source": [
    "def parse_input(inp):\n",
    "    return [\n",
    "        int(g)\n",
    "        for g in\n",
    "        re.search(r'x=([\\d-]+)..([\\d-]+), y=([\\d-]+)..([\\d-]+)', inp).groups()\n",
    "    ]"
   ]
  },
  {
   "cell_type": "markdown",
   "metadata": {},
   "source": [
    "## Part 1"
   ]
  },
  {
   "cell_type": "code",
   "execution_count": 5,
   "metadata": {},
   "outputs": [],
   "source": [
    "Trajectory = namedtuple('Trajectory', 'xmin xmax ymin ymax lands')"
   ]
  },
  {
   "cell_type": "code",
   "execution_count": 6,
   "metadata": {},
   "outputs": [],
   "source": [
    "@jit\n",
    "def _process(vx, vy, Xmin, Xmax, Ymin, Ymax):\n",
    "    x = y = xmin = ymin = xmax = ymax = 0\n",
    "    H = 0\n",
    "    lands = False\n",
    "    while Ymin <= y and x <= Xmax:\n",
    "        x += vx\n",
    "        y += vy\n",
    "        xmin, xmax = min(x, xmin), max(x, xmax)\n",
    "        ymin, ymax = min(y, ymin), max(y, ymax)\n",
    "        vx += -1 * np.sign(vx)\n",
    "        vy += -1\n",
    "        if Xmin <= x <= Xmax and Ymin <= y <= Ymax:\n",
    "            lands = True\n",
    "            break\n",
    "    return (xmin, xmax, ymin, ymax, lands)\n",
    "\n",
    "def process(vx, vy, target):\n",
    "    Xmin, Xmax, Ymin, Ymax = target\n",
    "    return Trajectory(*_process(vx, vy, Xmin, Xmax, Ymin, Ymax))"
   ]
  },
  {
   "cell_type": "code",
   "execution_count": 7,
   "metadata": {},
   "outputs": [
    {
     "data": {
      "text/plain": [
       "Trajectory(xmin=0, xmax=21, ymin=-13, ymax=78, lands=False)"
      ]
     },
     "execution_count": 7,
     "metadata": {},
     "output_type": "execute_result"
    }
   ],
   "source": [
    "process(6,12,parse_input(test_inp))"
   ]
  },
  {
   "cell_type": "code",
   "execution_count": 8,
   "metadata": {},
   "outputs": [
    {
     "name": "stdout",
     "output_type": "stream",
     "text": [
      "CPU times: user 2.06 s, sys: 17.5 ms, total: 2.08 s\n",
      "Wall time: 5.21 s\n"
     ]
    },
    {
     "data": {
      "text/plain": [
       "45"
      ]
     },
     "execution_count": 8,
     "metadata": {},
     "output_type": "execute_result"
    }
   ],
   "source": [
    "%%time\n",
    "H = 0\n",
    "target = parse_input(test_inp)\n",
    "for vy in range(1000):\n",
    "    for vx in range(2000):\n",
    "        t = process(vx, vy, target)\n",
    "        if t.lands:\n",
    "            H = max(H, t.ymax)\n",
    "H"
   ]
  },
  {
   "cell_type": "code",
   "execution_count": 9,
   "metadata": {},
   "outputs": [
    {
     "name": "stdout",
     "output_type": "stream",
     "text": [
      "CPU times: user 2.1 s, sys: 16.3 ms, total: 2.12 s\n",
      "Wall time: 2.15 s\n"
     ]
    },
    {
     "data": {
      "text/plain": [
       "5151"
      ]
     },
     "execution_count": 9,
     "metadata": {},
     "output_type": "execute_result"
    }
   ],
   "source": [
    "%%time\n",
    "H = 0\n",
    "target = parse_input(inp)\n",
    "for vy in range(1000):\n",
    "    for vx in range(2000):\n",
    "        t = process(vx, vy, target)\n",
    "        if t.lands:\n",
    "            H = max(H, t.ymax)\n",
    "H"
   ]
  },
  {
   "cell_type": "markdown",
   "metadata": {},
   "source": [
    "## Part 2"
   ]
  },
  {
   "cell_type": "code",
   "execution_count": 10,
   "metadata": {},
   "outputs": [
    {
     "name": "stdout",
     "output_type": "stream",
     "text": [
      "CPU times: user 2.72 s, sys: 44.9 ms, total: 2.77 s\n",
      "Wall time: 2.89 s\n"
     ]
    },
    {
     "data": {
      "text/plain": [
       "112"
      ]
     },
     "execution_count": 10,
     "metadata": {},
     "output_type": "execute_result"
    }
   ],
   "source": [
    "%%time\n",
    "trajs = []\n",
    "target = parse_input(test_inp)\n",
    "for vx in range(1000):\n",
    "    for vy in range(-200,2000):\n",
    "        t = process(vx, vy, target)\n",
    "        if t.lands:\n",
    "            trajs.append(t)\n",
    "len(trajs)"
   ]
  },
  {
   "cell_type": "code",
   "execution_count": 11,
   "metadata": {},
   "outputs": [
    {
     "name": "stdout",
     "output_type": "stream",
     "text": [
      "CPU times: user 2.36 s, sys: 19.3 ms, total: 2.38 s\n",
      "Wall time: 2.41 s\n"
     ]
    },
    {
     "data": {
      "text/plain": [
       "968"
      ]
     },
     "execution_count": 11,
     "metadata": {},
     "output_type": "execute_result"
    }
   ],
   "source": [
    "%%time\n",
    "trajs = []\n",
    "target = parse_input(inp)\n",
    "for vx in range(1000):\n",
    "    for vy in range(-200,2000):\n",
    "        t = process(vx, vy, target)\n",
    "        if t.lands:\n",
    "            trajs.append(t)\n",
    "len(trajs)"
   ]
  }
 ],
 "metadata": {
  "kernelspec": {
   "display_name": "Python 3",
   "language": "python",
   "name": "python3"
  },
  "language_info": {
   "codemirror_mode": {
    "name": "ipython",
    "version": 3
   },
   "file_extension": ".py",
   "mimetype": "text/x-python",
   "name": "python",
   "nbconvert_exporter": "python",
   "pygments_lexer": "ipython3",
   "version": "3.6.10"
  }
 },
 "nbformat": 4,
 "nbformat_minor": 4
}
