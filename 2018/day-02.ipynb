{
 "cells": [
  {
   "cell_type": "markdown",
   "metadata": {},
   "source": [
    "# Day 2: Inventory Management System\n",
    "\n",
    "https://adventofcode.com/2018/day/2"
   ]
  },
  {
   "cell_type": "markdown",
   "metadata": {},
   "source": [
    "## Setup"
   ]
  },
  {
   "cell_type": "code",
   "execution_count": 1,
   "metadata": {},
   "outputs": [],
   "source": [
    "from collections import Counter\n",
    "import numpy as np"
   ]
  },
  {
   "cell_type": "code",
   "execution_count": 2,
   "metadata": {},
   "outputs": [],
   "source": [
    "with open('input/02.txt') as f:\n",
    "    tags = [np.array(list(line.strip())) for line in f.readlines()]"
   ]
  },
  {
   "cell_type": "markdown",
   "metadata": {},
   "source": [
    "## Part One"
   ]
  },
  {
   "cell_type": "code",
   "execution_count": 3,
   "metadata": {},
   "outputs": [
    {
     "name": "stdout",
     "output_type": "stream",
     "text": [
      "5478\n"
     ]
    }
   ],
   "source": [
    "counts = list(map(Counter, tags))\n",
    "counts_of_counts = [Counter(count.values()) for count in counts]\n",
    "has2 = np.array([2 in coc for coc in counts_of_counts])\n",
    "has3 = np.array([3 in coc for coc in counts_of_counts])\n",
    "print(np.sum(has2) * np.sum(has3))"
   ]
  },
  {
   "cell_type": "markdown",
   "metadata": {},
   "source": [
    "## Part Two"
   ]
  },
  {
   "cell_type": "code",
   "execution_count": 4,
   "metadata": {},
   "outputs": [
    {
     "name": "stdout",
     "output_type": "stream",
     "text": [
      "qywzphxoiseldjrntfygvdmanu\n",
      "qyszphxoiseldjrntfygvdmanu\n",
      "\n",
      "qyzphxoiseldjrntfygvdmanu\n"
     ]
    }
   ],
   "source": [
    "len_tag = len(tags[0])\n",
    "for (i, tagi) in enumerate(tags):\n",
    "    for tagj in tags[i+1:]:\n",
    "        eq = tagi == tagj\n",
    "        if np.sum(eq) == (len_tag - 1):\n",
    "            print(''.join(tagi))\n",
    "            print(''.join(tagj))\n",
    "            print()\n",
    "            print(''.join(tagi[eq]))"
   ]
  }
 ],
 "metadata": {
  "kernelspec": {
   "display_name": "Python 3",
   "language": "python",
   "name": "python3"
  },
  "language_info": {
   "codemirror_mode": {
    "name": "ipython",
    "version": 3
   },
   "file_extension": ".py",
   "mimetype": "text/x-python",
   "name": "python",
   "nbconvert_exporter": "python",
   "pygments_lexer": "ipython3",
   "version": "3.7.3"
  }
 },
 "nbformat": 4,
 "nbformat_minor": 4
}
