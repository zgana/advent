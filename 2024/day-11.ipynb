{
 "cells": [
  {
   "cell_type": "markdown",
   "metadata": {},
   "source": [
    "# 2024 Day 11\n",
    "\n",
    "https://adventofcode.com/2024/day/11\n",
    "\n",
    "https://adventofcode.com/2024/day/11/input"
   ]
  },
  {
   "cell_type": "code",
   "execution_count": 1,
   "metadata": {},
   "outputs": [],
   "source": [
    "import re\n",
    "import numpy as np\n",
    "import pandas as pd\n",
    "import matplotlib.pyplot as plt"
   ]
  },
  {
   "cell_type": "code",
   "execution_count": 2,
   "metadata": {},
   "outputs": [],
   "source": [
    "line = list(map(int, open(\"input-11.txt\").read().strip().split()))\n",
    "# line"
   ]
  },
  {
   "cell_type": "code",
   "execution_count": 3,
   "metadata": {
    "tags": []
   },
   "outputs": [],
   "source": [
    "counts0 = {value: 1 for value in line}\n",
    "# counts0"
   ]
  },
  {
   "cell_type": "code",
   "execution_count": 4,
   "metadata": {
    "tags": []
   },
   "outputs": [],
   "source": [
    "def blink(counts):\n",
    "    old_counts = counts\n",
    "    counts = {}\n",
    "    \n",
    "    for num, count in old_counts.items():\n",
    "        if num == 0:\n",
    "            counts.setdefault(1, 0)\n",
    "            counts[1] += count\n",
    "            continue\n",
    "            \n",
    "        str_num = str(num)\n",
    "        num_digits = len(str_num)\n",
    "        if num_digits % 2 == 0:\n",
    "            half_digits = int(num_digits / 2)\n",
    "            num1 = int(str_num[:half_digits])\n",
    "            num2 = int(str_num[half_digits:])\n",
    "            for num in num1, num2:\n",
    "                counts.setdefault(num, 0)\n",
    "                counts[num] += count\n",
    "            continue\n",
    "            \n",
    "        num = num * 2024\n",
    "        counts.setdefault(num, 0)\n",
    "        counts[num] += count\n",
    "        \n",
    "    return counts"
   ]
  },
  {
   "cell_type": "code",
   "execution_count": 5,
   "metadata": {
    "tags": []
   },
   "outputs": [
    {
     "data": {
      "text/plain": [
       "{1801360: 1,\n",
       " 1: 1,\n",
       " 2024: 1,\n",
       " 935: 1,\n",
       " 698: 1,\n",
       " 137634024: 1,\n",
       " 6965387528: 1,\n",
       " 72: 1,\n",
       " 21: 1,\n",
       " 2: 1,\n",
       " 7: 1}"
      ]
     },
     "execution_count": 5,
     "metadata": {},
     "output_type": "execute_result"
    }
   ],
   "source": [
    "blink(counts0)"
   ]
  },
  {
   "cell_type": "markdown",
   "metadata": {},
   "source": [
    "## Part 1"
   ]
  },
  {
   "cell_type": "code",
   "execution_count": 6,
   "metadata": {
    "tags": []
   },
   "outputs": [
    {
     "data": {
      "text/plain": [
       "194782"
      ]
     },
     "execution_count": 6,
     "metadata": {},
     "output_type": "execute_result"
    }
   ],
   "source": [
    "counts = counts0\n",
    "for _ in range(25):\n",
    "    counts = blink(counts)\n",
    "sum(counts.values())"
   ]
  },
  {
   "cell_type": "markdown",
   "metadata": {},
   "source": [
    "## Part 2"
   ]
  },
  {
   "cell_type": "code",
   "execution_count": 7,
   "metadata": {
    "tags": []
   },
   "outputs": [
    {
     "data": {
      "text/plain": [
       "233007586663131"
      ]
     },
     "execution_count": 7,
     "metadata": {},
     "output_type": "execute_result"
    }
   ],
   "source": [
    "counts = counts0\n",
    "for _ in range(75):\n",
    "    counts = blink(counts)\n",
    "sum(counts.values())"
   ]
  }
 ],
 "metadata": {
  "kernelspec": {
   "display_name": "AoC 2024",
   "language": "python",
   "name": "advent2024"
  },
  "language_info": {
   "codemirror_mode": {
    "name": "ipython",
    "version": 3
   },
   "file_extension": ".py",
   "mimetype": "text/x-python",
   "name": "python",
   "nbconvert_exporter": "python",
   "pygments_lexer": "ipython3",
   "version": "3.12.4"
  }
 },
 "nbformat": 4,
 "nbformat_minor": 4
}
