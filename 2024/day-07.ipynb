{
 "cells": [
  {
   "cell_type": "markdown",
   "metadata": {},
   "source": [
    "# 2024 Day 7\n",
    "\n",
    "https://adventofcode.com/2024/day/7\n",
    "\n",
    "https://adventofcode.com/2024/day/7/input"
   ]
  },
  {
   "cell_type": "code",
   "execution_count": 45,
   "metadata": {
    "tags": []
   },
   "outputs": [],
   "source": [
    "from itertools import product"
   ]
  },
  {
   "cell_type": "code",
   "execution_count": 1,
   "metadata": {},
   "outputs": [],
   "source": [
    "import re\n",
    "import numpy as np\n",
    "import pandas as pd\n",
    "import matplotlib.pyplot as plt"
   ]
  },
  {
   "cell_type": "code",
   "execution_count": 2,
   "metadata": {},
   "outputs": [],
   "source": [
    "test_text = \"\"\"190: 10 19\n",
    "3267: 81 40 27\n",
    "83: 17 5\n",
    "156: 15 6\n",
    "7290: 6 8 6 15\n",
    "161011: 16 10 13\n",
    "192: 17 8 14\n",
    "21037: 9 7 18 13\n",
    "292: 11 6 16 20\"\"\""
   ]
  },
  {
   "cell_type": "code",
   "execution_count": 10,
   "metadata": {
    "tags": []
   },
   "outputs": [],
   "source": [
    "text = open(\"input-07.txt\").read().strip()"
   ]
  },
  {
   "cell_type": "code",
   "execution_count": 13,
   "metadata": {
    "tags": []
   },
   "outputs": [],
   "source": [
    "class Line:\n",
    "    def __init__(self, line):\n",
    "        top, rest = line.split(':')\n",
    "        self.result = int(top)\n",
    "        self.values = list(map(int, rest.strip().split()))\n",
    "        \n",
    "    @property\n",
    "    def num_ops(self):\n",
    "        return len(self.values) - 1\n",
    "        \n",
    "    def __repr__(self):\n",
    "        return f\"Line({self.result=}, {self.values=})\""
   ]
  },
  {
   "cell_type": "code",
   "execution_count": 47,
   "metadata": {
    "tags": []
   },
   "outputs": [
    {
     "data": {
      "text/plain": [
       "[Line(self.result=190, self.values=[10, 19]),\n",
       " Line(self.result=3267, self.values=[81, 40, 27]),\n",
       " Line(self.result=83, self.values=[17, 5]),\n",
       " Line(self.result=156, self.values=[15, 6]),\n",
       " Line(self.result=7290, self.values=[6, 8, 6, 15]),\n",
       " Line(self.result=161011, self.values=[16, 10, 13]),\n",
       " Line(self.result=192, self.values=[17, 8, 14]),\n",
       " Line(self.result=21037, self.values=[9, 7, 18, 13]),\n",
       " Line(self.result=292, self.values=[11, 6, 16, 20])]"
      ]
     },
     "execution_count": 47,
     "metadata": {},
     "output_type": "execute_result"
    }
   ],
   "source": [
    "test_lines = list(map(Line, test_text.split('\\n')))\n",
    "test_lines"
   ]
  },
  {
   "cell_type": "code",
   "execution_count": 48,
   "metadata": {
    "tags": []
   },
   "outputs": [],
   "source": [
    "lines = list(map(Line, text.split('\\n')))"
   ]
  },
  {
   "cell_type": "markdown",
   "metadata": {},
   "source": [
    "## Part 1"
   ]
  },
  {
   "cell_type": "code",
   "execution_count": 56,
   "metadata": {},
   "outputs": [],
   "source": [
    "part1_ops = ['+', '*']\n",
    "part2_ops = part1_ops + ['||']\n",
    "\n",
    "def is_op_good(line, ops):\n",
    "    total = line.values[0]\n",
    "    for (op, value) in zip(ops, line.values[1:]):\n",
    "        if op == '*':\n",
    "            total *= value\n",
    "        elif op == '+':\n",
    "            total += value\n",
    "        elif op == '||':\n",
    "            total = int(str(total) + str(value))\n",
    "    # print(f\"{line} {mult_if_true} {total}\")\n",
    "    return total == line.result\n",
    "\n",
    "def find_ops(line, ops=None):\n",
    "    if ops is None:\n",
    "        ops = part1_ops\n",
    "        \n",
    "    all_mult_if_true = product(*(line.num_ops * [ops]))\n",
    "    return [\n",
    "        mult_if_true\n",
    "        for mult_if_true in all_mult_if_true\n",
    "        if is_op_good(line, mult_if_true)\n",
    "    ]\n",
    "\n"
   ]
  },
  {
   "cell_type": "code",
   "execution_count": 57,
   "metadata": {
    "tags": []
   },
   "outputs": [
    {
     "data": {
      "text/plain": [
       "3749"
      ]
     },
     "execution_count": 57,
     "metadata": {},
     "output_type": "execute_result"
    }
   ],
   "source": [
    "sum(line.result for line in test_lines if find_ops(line))"
   ]
  },
  {
   "cell_type": "code",
   "execution_count": 58,
   "metadata": {
    "tags": []
   },
   "outputs": [
    {
     "data": {
      "text/plain": [
       "1399219271639"
      ]
     },
     "execution_count": 58,
     "metadata": {},
     "output_type": "execute_result"
    }
   ],
   "source": [
    "sum(line.result for line in lines if find_ops(line))"
   ]
  },
  {
   "cell_type": "markdown",
   "metadata": {},
   "source": [
    "## Part 2"
   ]
  },
  {
   "cell_type": "code",
   "execution_count": 60,
   "metadata": {
    "tags": []
   },
   "outputs": [
    {
     "data": {
      "text/plain": [
       "11387"
      ]
     },
     "execution_count": 60,
     "metadata": {},
     "output_type": "execute_result"
    }
   ],
   "source": [
    "sum(line.result for line in test_lines if find_ops(line, ops=part2_ops))"
   ]
  },
  {
   "cell_type": "code",
   "execution_count": 63,
   "metadata": {
    "tags": []
   },
   "outputs": [],
   "source": [
    "from tqdm import tqdm"
   ]
  },
  {
   "cell_type": "code",
   "execution_count": 64,
   "metadata": {
    "tags": []
   },
   "outputs": [
    {
     "name": "stderr",
     "output_type": "stream",
     "text": [
      "100%|██████████████████████████████████████████████████████████████████████████████████████████| 850/850 [00:26<00:00, 31.89it/s]\n"
     ]
    },
    {
     "data": {
      "text/plain": [
       "275791737999003"
      ]
     },
     "execution_count": 64,
     "metadata": {},
     "output_type": "execute_result"
    }
   ],
   "source": [
    "sum(line.result for line in tqdm(lines) if find_ops(line, ops=part2_ops))"
   ]
  }
 ],
 "metadata": {
  "kernelspec": {
   "display_name": "AoC 2024",
   "language": "python",
   "name": "advent2024"
  },
  "language_info": {
   "codemirror_mode": {
    "name": "ipython",
    "version": 3
   },
   "file_extension": ".py",
   "mimetype": "text/x-python",
   "name": "python",
   "nbconvert_exporter": "python",
   "pygments_lexer": "ipython3",
   "version": "3.12.4"
  }
 },
 "nbformat": 4,
 "nbformat_minor": 4
}
