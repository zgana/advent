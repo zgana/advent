{
 "cells": [
  {
   "cell_type": "markdown",
   "metadata": {},
   "source": [
    "# 2024 Day 3\n",
    "\n",
    "https://adventofcode.com/2024/day/3\n",
    "\n",
    "https://adventofcode.com/2024/day/3/input"
   ]
  },
  {
   "cell_type": "code",
   "execution_count": 1,
   "metadata": {},
   "outputs": [],
   "source": [
    "import re\n",
    "import numpy as np\n",
    "import pandas as pd\n",
    "import matplotlib.pyplot as plt"
   ]
  },
  {
   "cell_type": "code",
   "execution_count": 2,
   "metadata": {
    "scrolled": true,
    "tags": []
   },
   "outputs": [],
   "source": [
    "text = open('input-03.txt').read().strip()\n",
    "# text"
   ]
  },
  {
   "cell_type": "markdown",
   "metadata": {},
   "source": [
    "## Part 1"
   ]
  },
  {
   "cell_type": "code",
   "execution_count": 3,
   "metadata": {},
   "outputs": [
    {
     "name": "stdout",
     "output_type": "stream",
     "text": [
      "720\n"
     ]
    },
    {
     "data": {
      "text/plain": [
       "['mul(602,165)',\n",
       " 'mul(305,64)',\n",
       " 'mul(80,703)',\n",
       " 'mul(290,957)',\n",
       " 'mul(851,335)',\n",
       " 'mul(844,49)',\n",
       " 'mul(938,695)',\n",
       " 'mul(706,392)',\n",
       " 'mul(242,513)',\n",
       " 'mul(871,132)']"
      ]
     },
     "execution_count": 3,
     "metadata": {},
     "output_type": "execute_result"
    }
   ],
   "source": [
    "instances = re.findall(r'mul\\(\\d{1,3},\\d{1,3}\\)', text)\n",
    "print(len(instances))\n",
    "instances[:10]"
   ]
  },
  {
   "cell_type": "code",
   "execution_count": 4,
   "metadata": {
    "tags": []
   },
   "outputs": [],
   "source": [
    "def parse_one(x):\n",
    "    i1, i2 = map(int, x.replace('mul(', '').replace(')', '').split(','))\n",
    "    return i1 * i2"
   ]
  },
  {
   "cell_type": "code",
   "execution_count": 5,
   "metadata": {
    "tags": []
   },
   "outputs": [
    {
     "data": {
      "text/plain": [
       "184511516"
      ]
     },
     "execution_count": 5,
     "metadata": {},
     "output_type": "execute_result"
    }
   ],
   "source": [
    "sum(\n",
    "parse_one(instance)\n",
    "for instance in instances\n",
    ")"
   ]
  },
  {
   "cell_type": "markdown",
   "metadata": {},
   "source": [
    "## Part 2"
   ]
  },
  {
   "cell_type": "code",
   "execution_count": 6,
   "metadata": {
    "scrolled": true,
    "tags": []
   },
   "outputs": [
    {
     "data": {
      "text/plain": [
       "['mul(602,165)',\n",
       " 'mul(305,64)',\n",
       " 'mul(80,703)',\n",
       " 'mul(290,957)',\n",
       " 'mul(851,335)',\n",
       " 'mul(844,49)',\n",
       " 'mul(938,695)',\n",
       " 'mul(706,392)',\n",
       " 'mul(242,513)',\n",
       " 'mul(871,132)',\n",
       " 'mul(41,656)',\n",
       " 'mul(628,478)',\n",
       " 'mul(287,621)',\n",
       " 'mul(127,825)',\n",
       " 'mul(360,578)',\n",
       " 'mul(136,849)',\n",
       " 'mul(544,891)',\n",
       " 'mul(436,21)',\n",
       " 'mul(184,294)',\n",
       " 'mul(297,492)',\n",
       " 'mul(161,703)',\n",
       " 'mul(335,695)',\n",
       " 'mul(689,420)',\n",
       " \"don't()\",\n",
       " 'mul(78,176)',\n",
       " 'mul(62,695)',\n",
       " 'mul(742,538)',\n",
       " 'mul(282,209)',\n",
       " 'mul(428,514)',\n",
       " 'mul(131,844)',\n",
       " 'mul(431,946)',\n",
       " 'mul(171,87)',\n",
       " 'mul(164,733)',\n",
       " 'mul(760,223)',\n",
       " 'mul(485,824)',\n",
       " 'mul(465,327)',\n",
       " \"don't()\",\n",
       " 'mul(249,931)',\n",
       " 'mul(963,891)',\n",
       " 'mul(665,815)',\n",
       " 'mul(762,48)',\n",
       " 'mul(591,445)',\n",
       " 'mul(36,3)',\n",
       " 'do()',\n",
       " 'mul(109,905)',\n",
       " 'mul(380,929)',\n",
       " 'mul(547,552)',\n",
       " 'mul(58,881)',\n",
       " 'mul(699,443)',\n",
       " 'mul(826,660)']"
      ]
     },
     "execution_count": 6,
     "metadata": {},
     "output_type": "execute_result"
    }
   ],
   "source": [
    "instructs = re.findall(r\"mul\\(\\d{1,3},\\d{1,3}\\)|do\\(\\)|don't\\(\\)\", text)\n",
    "instructs[:50]"
   ]
  },
  {
   "cell_type": "code",
   "execution_count": 7,
   "metadata": {},
   "outputs": [
    {
     "data": {
      "text/plain": [
       "90044227"
      ]
     },
     "execution_count": 7,
     "metadata": {},
     "output_type": "execute_result"
    }
   ],
   "source": [
    "total = 0\n",
    "is_on = True\n",
    "for instruct in instructs:\n",
    "    if instruct == \"do()\":\n",
    "        is_on = True\n",
    "        continue\n",
    "    elif instruct == \"don't()\":\n",
    "        is_on = False\n",
    "        continue\n",
    "    if is_on:\n",
    "        total += parse_one(instruct)\n",
    "total"
   ]
  }
 ],
 "metadata": {
  "kernelspec": {
   "display_name": "AoC 2024",
   "language": "python",
   "name": "advent2024"
  },
  "language_info": {
   "codemirror_mode": {
    "name": "ipython",
    "version": 3
   },
   "file_extension": ".py",
   "mimetype": "text/x-python",
   "name": "python",
   "nbconvert_exporter": "python",
   "pygments_lexer": "ipython3",
   "version": "3.12.4"
  }
 },
 "nbformat": 4,
 "nbformat_minor": 4
}
