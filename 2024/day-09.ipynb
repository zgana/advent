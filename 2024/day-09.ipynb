{
 "cells": [
  {
   "cell_type": "markdown",
   "metadata": {},
   "source": [
    "# 2024 Day 9\n",
    "\n",
    "https://adventofcode.com/2024/day/9\n",
    "\n",
    "https://adventofcode.com/2024/day/9/input"
   ]
  },
  {
   "cell_type": "code",
   "execution_count": 1,
   "metadata": {},
   "outputs": [],
   "source": [
    "import re\n",
    "\n",
    "import numpy as np\n",
    "import pandas as pd\n",
    "\n",
    "import matplotlib.pyplot as plt"
   ]
  },
  {
   "cell_type": "code",
   "execution_count": 2,
   "metadata": {
    "tags": []
   },
   "outputs": [],
   "source": [
    "test_text = \"2333133121414131402\""
   ]
  },
  {
   "cell_type": "code",
   "execution_count": 3,
   "metadata": {},
   "outputs": [],
   "source": [
    "text = open('input-09.txt').read().strip()"
   ]
  },
  {
   "cell_type": "code",
   "execution_count": 4,
   "metadata": {
    "tags": []
   },
   "outputs": [],
   "source": [
    "class Disk:\n",
    "    def __init__(self, text):\n",
    "        self.values = values = np.array(list(text)).astype('u8')\n",
    "        \n",
    "        self.file_sizes = file_sizes = values[::2]\n",
    "        self.gaps = gaps = values[1::2]\n",
    "        self.start_size = start_size = values.sum()\n",
    "        \n",
    "        file_ids = np.repeat(np.nan, start_size)\n",
    "        index = 0\n",
    "        for (i_file, (fs, g)) in enumerate(zip(file_sizes, gaps)):\n",
    "            file_ids[index : index + fs] = i_file\n",
    "            index += fs + g\n",
    "        file_ids[index:] = i_file + 1\n",
    "            \n",
    "        self.file_ids = file_ids.copy()\n",
    "        self.start_ids = file_ids.copy()\n",
    "        \n",
    "    def compress(self):\n",
    "        \"\"\"\n",
    "        If there's an opening further left, swap chars.\n",
    "        \"\"\"\n",
    "        file_ids = self.file_ids\n",
    "        idx_avail = np.where(np.isnan(self.start_ids))[0]\n",
    "        idx_filled = np.where(~np.isnan(self.start_ids))[0]\n",
    "        for (i_avail, i_filled) in zip(idx_avail, reversed(idx_filled)):\n",
    "            if i_filled <= i_avail:\n",
    "                break\n",
    "            file_ids[i_avail], file_ids[i_filled] = (file_ids[i_filled], file_ids[i_avail])\n",
    "        return self\n",
    "\n",
    "    def compress_defrag(self):\n",
    "        \"\"\"\n",
    "        If there's an open range further left, swap ranges.\n",
    "        \"\"\"\n",
    "        file_ids = self.file_ids\n",
    "        ranges_filled = list(reversed(self.get_filled_ranges()))\n",
    "        for (f0, f1) in ranges_filled:\n",
    "            need = f1 - f0\n",
    "            for (a0, a1) in self.get_avail_ranges():\n",
    "                if a1 > f0:\n",
    "                    break\n",
    "                avail = a1 - a0\n",
    "                if need <= avail:\n",
    "                    file_ids[a0:a0+need] = file_ids[f0:f0+need]\n",
    "                    file_ids[f0:f0+need] = np.nan\n",
    "                    break\n",
    "        return self\n",
    "            \n",
    "    def checksum(self):\n",
    "        file_ids = self.file_ids\n",
    "        \n",
    "        mask = ~np.isnan(file_ids)\n",
    "        rang = np.arange(len(file_ids))\n",
    "        return int(np.dot(file_ids[mask], rang[mask]))\n",
    "    \n",
    "    def get_avail_ranges(self):\n",
    "        \"\"\"\n",
    "        Get each (a0, a1) such that all i in range(a0, a1) are nan.\n",
    "        \"\"\"\n",
    "        nan_mask = np.isnan(self.file_ids)\n",
    "        edges = np.diff(np.r_[0, nan_mask.astype(int), 0])\n",
    "\n",
    "        nan_starts = np.where(edges == 1)[0]\n",
    "        nan_ends = np.where(edges == -1)[0]\n",
    "        return list(zip(nan_starts, nan_ends))\n",
    "    \n",
    "    def get_filled_ranges(self):\n",
    "        \"\"\"\n",
    "        Get each (f0, f1) such that i in range(f0, f1) have the same value.\n",
    "        \"\"\"\n",
    "        top = int(np.nanmax(self.file_ids))\n",
    "        out = []\n",
    "        for i in range(top + 1):\n",
    "            idx = np.where(self.file_ids == i)[0]\n",
    "            out.append((min(idx), max(idx) + 1))\n",
    "        return out"
   ]
  },
  {
   "cell_type": "markdown",
   "metadata": {},
   "source": [
    "## Part 1"
   ]
  },
  {
   "cell_type": "code",
   "execution_count": 5,
   "metadata": {},
   "outputs": [
    {
     "data": {
      "text/plain": [
       "1928"
      ]
     },
     "execution_count": 5,
     "metadata": {},
     "output_type": "execute_result"
    }
   ],
   "source": [
    "d = Disk(test_text).compress()\n",
    "d.checksum()"
   ]
  },
  {
   "cell_type": "code",
   "execution_count": 6,
   "metadata": {},
   "outputs": [
    {
     "data": {
      "text/plain": [
       "6367087064415"
      ]
     },
     "execution_count": 6,
     "metadata": {},
     "output_type": "execute_result"
    }
   ],
   "source": [
    "d = Disk(text).compress()\n",
    "d.checksum()"
   ]
  },
  {
   "cell_type": "markdown",
   "metadata": {},
   "source": [
    "## Part 2"
   ]
  },
  {
   "cell_type": "code",
   "execution_count": 7,
   "metadata": {},
   "outputs": [
    {
     "data": {
      "text/plain": [
       "2858"
      ]
     },
     "execution_count": 7,
     "metadata": {},
     "output_type": "execute_result"
    }
   ],
   "source": [
    "d = Disk(test_text).compress_defrag()\n",
    "d.checksum()"
   ]
  },
  {
   "cell_type": "code",
   "execution_count": 8,
   "metadata": {},
   "outputs": [
    {
     "data": {
      "text/plain": [
       "6390781891880"
      ]
     },
     "execution_count": 8,
     "metadata": {},
     "output_type": "execute_result"
    }
   ],
   "source": [
    "d = Disk(text).compress_defrag()\n",
    "d.checksum()"
   ]
  }
 ],
 "metadata": {
  "kernelspec": {
   "display_name": "AoC 2024",
   "language": "python",
   "name": "advent2024"
  },
  "language_info": {
   "codemirror_mode": {
    "name": "ipython",
    "version": 3
   },
   "file_extension": ".py",
   "mimetype": "text/x-python",
   "name": "python",
   "nbconvert_exporter": "python",
   "pygments_lexer": "ipython3",
   "version": "3.12.4"
  }
 },
 "nbformat": 4,
 "nbformat_minor": 4
}
