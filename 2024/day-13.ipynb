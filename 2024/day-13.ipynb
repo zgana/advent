{
 "cells": [
  {
   "cell_type": "markdown",
   "metadata": {},
   "source": [
    "# 2024 Day 13\n",
    "\n",
    "https://adventofcode.com/2024/day/13\n",
    "\n",
    "https://adventofcode.com/2024/day/13/input"
   ]
  },
  {
   "cell_type": "code",
   "execution_count": 1,
   "metadata": {},
   "outputs": [],
   "source": [
    "import re\n",
    "import numpy as np\n",
    "import pandas as pd\n",
    "import matplotlib.pyplot as plt"
   ]
  },
  {
   "cell_type": "code",
   "execution_count": 2,
   "metadata": {},
   "outputs": [],
   "source": [
    "test = \"\"\"Button A: X+94, Y+34\n",
    "Button B: X+22, Y+67\n",
    "Prize: X=8400, Y=5400\n",
    "\n",
    "Button A: X+26, Y+66\n",
    "Button B: X+67, Y+21\n",
    "Prize: X=12748, Y=12176\n",
    "\n",
    "Button A: X+17, Y+86\n",
    "Button B: X+84, Y+37\n",
    "Prize: X=7870, Y=6450\n",
    "\n",
    "Button A: X+69, Y+23\n",
    "Button B: X+27, Y+71\n",
    "Prize: X=18641, Y=10279\"\"\""
   ]
  },
  {
   "cell_type": "code",
   "execution_count": 3,
   "metadata": {
    "tags": []
   },
   "outputs": [],
   "source": [
    "text = open(\"input-13.txt\").read().strip()\n",
    "# text"
   ]
  },
  {
   "cell_type": "markdown",
   "metadata": {},
   "source": [
    "## Line intersection"
   ]
  },
  {
   "cell_type": "markdown",
   "metadata": {},
   "source": [
    "Trying to minimize room for error, loosing track of whether intersection occurs at integer-valued coordinates..."
   ]
  },
  {
   "cell_type": "code",
   "execution_count": 4,
   "metadata": {
    "tags": []
   },
   "outputs": [],
   "source": [
    "import sympy as sy"
   ]
  },
  {
   "cell_type": "code",
   "execution_count": 5,
   "metadata": {
    "tags": []
   },
   "outputs": [
    {
     "data": {
      "text/latex": [
       "$\\displaystyle \\frac{x y_{d1}}{x_{d1}} + y_{p1} - \\frac{x_{p1} y_{d1}}{x_{d1}}$"
      ],
      "text/plain": [
       "x*y_d1/x_d1 + y_p1 - x_p1*y_d1/x_d1"
      ]
     },
     "execution_count": 5,
     "metadata": {},
     "output_type": "execute_result"
    }
   ],
   "source": [
    "y1 = sy.simplify(sy.Subs('m_1*x+b_1', ('m_1', 'b_1'), ('y_d1/x_d1', 'y_p1 - (y_d1/x_d1) * x_p1')))\n",
    "y1"
   ]
  },
  {
   "cell_type": "code",
   "execution_count": 6,
   "metadata": {
    "tags": []
   },
   "outputs": [
    {
     "name": "stdout",
     "output_type": "stream",
     "text": [
      "x*y_d1/x_d1 + y_p1 - x_p1*y_d1/x_d1\n"
     ]
    }
   ],
   "source": [
    "print(y1)"
   ]
  },
  {
   "cell_type": "code",
   "execution_count": 7,
   "metadata": {
    "tags": []
   },
   "outputs": [
    {
     "data": {
      "text/latex": [
       "$\\displaystyle \\frac{x y_{d2}}{x_{d2}} + y_{p2} - \\frac{x_{p2} y_{d2}}{x_{d2}}$"
      ],
      "text/plain": [
       "x*y_d2/x_d2 + y_p2 - x_p2*y_d2/x_d2"
      ]
     },
     "execution_count": 7,
     "metadata": {},
     "output_type": "execute_result"
    }
   ],
   "source": [
    "y2 = sy.sympify(str(y1).replace('1', '2'))\n",
    "y2"
   ]
  },
  {
   "cell_type": "code",
   "execution_count": 8,
   "metadata": {
    "tags": []
   },
   "outputs": [
    {
     "data": {
      "text/latex": [
       "$\\displaystyle \\frac{x_{d1} x_{d2} y_{p1} - x_{d1} x_{d2} y_{p2} + x_{d1} x_{p2} y_{d2} - x_{d2} x_{p1} y_{d1}}{x_{d1} y_{d2} - x_{d2} y_{d1}}$"
      ],
      "text/plain": [
       "(x_d1*x_d2*y_p1 - x_d1*x_d2*y_p2 + x_d1*x_p2*y_d2 - x_d2*x_p1*y_d1)/(x_d1*y_d2 - x_d2*y_d1)"
      ]
     },
     "execution_count": 8,
     "metadata": {},
     "output_type": "execute_result"
    }
   ],
   "source": [
    "solution = sy.solve(sy.Eq(y1, y2), 'x')[0]\n",
    "solution"
   ]
  },
  {
   "cell_type": "code",
   "execution_count": 9,
   "metadata": {
    "tags": []
   },
   "outputs": [
    {
     "name": "stdout",
     "output_type": "stream",
     "text": [
      "(x_d1*x_d2*y_p1 - x_d1*x_d2*y_p2 + x_d1*x_p2*y_d2 - x_d2*x_p1*y_d1)/(x_d1*y_d2 - x_d2*y_d1)\n"
     ]
    }
   ],
   "source": [
    "print(solution)"
   ]
  },
  {
   "cell_type": "code",
   "execution_count": 10,
   "metadata": {
    "tags": []
   },
   "outputs": [
    {
     "data": {
      "text/latex": [
       "$\\displaystyle \\frac{x_{d1} y_{d2} y_{p1} - x_{d2} y_{d1} y_{p2} - x_{p1} y_{d1} y_{d2} + x_{p2} y_{d1} y_{d2}}{x_{d1} y_{d2} - x_{d2} y_{d1}}$"
      ],
      "text/plain": [
       "(x_d1*y_d2*y_p1 - x_d2*y_d1*y_p2 - x_p1*y_d1*y_d2 + x_p2*y_d1*y_d2)/(x_d1*y_d2 - x_d2*y_d1)"
      ]
     },
     "execution_count": 10,
     "metadata": {},
     "output_type": "execute_result"
    }
   ],
   "source": [
    "final_y = sy.simplify(sy.simplify(sy.Subs(y1, ('x',), solution)))\n",
    "final_y"
   ]
  },
  {
   "cell_type": "code",
   "execution_count": 11,
   "metadata": {
    "tags": []
   },
   "outputs": [
    {
     "name": "stdout",
     "output_type": "stream",
     "text": [
      "(x_d1*y_d2*y_p1 - x_d2*y_d1*y_p2 - x_p1*y_d1*y_d2 + x_p2*y_d1*y_d2)/(x_d1*y_d2 - x_d2*y_d1)\n"
     ]
    }
   ],
   "source": [
    "print(final_y)"
   ]
  },
  {
   "cell_type": "markdown",
   "metadata": {},
   "source": [
    "## Implementation"
   ]
  },
  {
   "cell_type": "code",
   "execution_count": 17,
   "metadata": {
    "tags": []
   },
   "outputs": [],
   "source": [
    "button_regex = re.compile(r'Button [AB]: X\\+(\\d+), Y\\+(\\d+)')\n",
    "prize_regex = re.compile(r'Prize: X=(\\d+), Y=(\\d+)')\n",
    "\n",
    "class Vec2:\n",
    "    def __init__(self, x, y):\n",
    "        self.x = x\n",
    "        self.y = y\n",
    "        \n",
    "    def __repr__(self):\n",
    "        return f'Vec2(x={self.x}, y={self.y})'\n",
    "        \n",
    "    def __add__(self, rhs):\n",
    "        return self.__class__(self.x + rhs.x, self.y + rhs.y)\n",
    "    \n",
    "    def __sub__(self, rhs):\n",
    "        return self.__class__(self.x - rhs.x, self.y - rhs.y)\n",
    "    \n",
    "    def __mul__(self, rhs):\n",
    "        Self = self.__class__\n",
    "        if isinstance(rhs, Self):\n",
    "            return self.x * rhs.x + self.y * rhs.y\n",
    "        else:\n",
    "            return Self(self.x * rhs, self.y * rhs)\n",
    "        \n",
    "    def __eq__(self, other):\n",
    "        return self.x == other.x and self.y == other.y\n",
    "    \n",
    "    def __hash__(self):\n",
    "        return hash((self.x, self.y))\n",
    "        \n",
    "    def __rmul__(self, lhs):\n",
    "        Self = self.__class__\n",
    "        if isinstance(lhs, Self):\n",
    "            return self.x * lhs.x + self.y * lhs.y\n",
    "        else:\n",
    "            return Self(self.x * lhs, self.y * lhs)\n",
    "    \n",
    "    def is_int(self):\n",
    "        return self.x % 1 < 1e-3 and self.y % 1 < 1e-3\n",
    "    \n",
    "class Line:\n",
    "    def __init__(self, point, direction):\n",
    "        # y - y0 = m * (x - x0)\n",
    "        # y = m * x - m * x0 + y0\n",
    "        self.point = point\n",
    "        self.direction = direction\n",
    "        self.m = direction.y / direction.x\n",
    "        self.b = point.y - self.m * point.x\n",
    "        \n",
    "    def __call__(self, x):\n",
    "        return self.m * x + self.b\n",
    "        \n",
    "    def __repr__(self):\n",
    "        return f'Line({self.m}x + {self.b})'\n",
    "        \n",
    "    def intersect(self, other):\n",
    "        x_d1 = self.direction.x\n",
    "        x_d2 = other.direction.x\n",
    "        y_d1 = self.direction.y\n",
    "        y_d2 = other.direction.y\n",
    "        \n",
    "        x_p1 = self.point.x\n",
    "        x_p2 = other.point.x\n",
    "        y_p1 = self.point.y\n",
    "        y_p2 = other.point.y\n",
    "        \n",
    "        x = (x_d1*x_d2*y_p1 - x_d1*x_d2*y_p2 + x_d1*x_p2*y_d2 - x_d2*x_p1*y_d1)/(x_d1*y_d2 - x_d2*y_d1)\n",
    "        x, xrem = divmod(x_d1*x_d2*y_p1 - x_d1*x_d2*y_p2 + x_d1*x_p2*y_d2 - x_d2*x_p1*y_d1, x_d1*y_d2 - x_d2*y_d1)\n",
    "        y = (x_d1*y_d2*y_p1 - x_d2*y_d1*y_p2 - x_p1*y_d1*y_d2 + x_p2*y_d1*y_d2)/(x_d1*y_d2 - x_d2*y_d1)\n",
    "        y, yrem = divmod(x_d1*y_d2*y_p1 - x_d2*y_d1*y_p2 - x_p1*y_d1*y_d2 + x_p2*y_d1*y_d2, x_d1*y_d2 - x_d2*y_d1)\n",
    "        if xrem == 0 and yrem == 0:\n",
    "            return Vec2(x, y)\n",
    "        else:\n",
    "            return None\n",
    "\n",
    "class Game:\n",
    "    def __init__(self, para, bonus=0):\n",
    "        lines = para.strip().split('\\n')\n",
    "        self.a = Vec2(*map(int, button_regex.match(lines[0]).groups()))\n",
    "        self.b = Vec2(*map(int, button_regex.match(lines[1]).groups()))\n",
    "        self.cost = Vec2(3, 1)\n",
    "        self.origin = Vec2(0, 0)\n",
    "        gx, gy = map(int, prize_regex.match(lines[2]).groups())\n",
    "        self.goal = Vec2(gx + bonus, gy + bonus)\n",
    "        \n",
    "    def intersection(self):\n",
    "        cross = Line(self.origin, self.b).intersect(Line(self.goal, self.a))\n",
    "        if cross is not None and 0 <= cross.x <= self.goal.x:\n",
    "            return cross\n",
    "        else:\n",
    "            return None\n",
    "        \n",
    "    def play(self):\n",
    "        cross = self.intersection()\n",
    "        \n",
    "        if cross is not None:\n",
    "            x = (self.goal.x - cross.x) / self.a.x\n",
    "            y = (cross.x / self.b.x)\n",
    "            if x % 1 == 0 and y % 1 == 0:\n",
    "                steps = Vec2(x, y)\n",
    "                return int(steps * self.cost)\n",
    "            \n",
    "        return 0\n",
    "        \n",
    "    def __repr__(self):\n",
    "        return f'Game(a={self.a}, b={self.b}, goal={self.goal})'"
   ]
  },
  {
   "cell_type": "markdown",
   "metadata": {},
   "source": [
    "## Part 1"
   ]
  },
  {
   "cell_type": "code",
   "execution_count": 18,
   "metadata": {
    "tags": []
   },
   "outputs": [
    {
     "data": {
      "text/plain": [
       "480"
      ]
     },
     "execution_count": 18,
     "metadata": {},
     "output_type": "execute_result"
    }
   ],
   "source": [
    "test_games = list(map(Game, test.split('\\n\\n')))\n",
    "sum(game.play() for game in test_games)"
   ]
  },
  {
   "cell_type": "code",
   "execution_count": 19,
   "metadata": {
    "tags": []
   },
   "outputs": [
    {
     "data": {
      "text/plain": [
       "33921"
      ]
     },
     "execution_count": 19,
     "metadata": {},
     "output_type": "execute_result"
    }
   ],
   "source": [
    "games = list(map(Game, text.split('\\n\\n')))\n",
    "sum(game.play() for game in games)"
   ]
  },
  {
   "cell_type": "markdown",
   "metadata": {},
   "source": [
    "## Part 2"
   ]
  },
  {
   "cell_type": "code",
   "execution_count": 20,
   "metadata": {
    "tags": []
   },
   "outputs": [
    {
     "data": {
      "text/plain": [
       "875318608908"
      ]
     },
     "execution_count": 20,
     "metadata": {},
     "output_type": "execute_result"
    }
   ],
   "source": [
    "test_games = [Game(para, bonus=10000000000000) for para in test.split('\\n\\n')]\n",
    "sum(game.play() for game in test_games)"
   ]
  },
  {
   "cell_type": "code",
   "execution_count": 21,
   "metadata": {
    "tags": []
   },
   "outputs": [
    {
     "data": {
      "text/plain": [
       "82261957837868"
      ]
     },
     "execution_count": 21,
     "metadata": {},
     "output_type": "execute_result"
    }
   ],
   "source": [
    "games = [Game(para, bonus=10000000000000) for para in text.split('\\n\\n')]\n",
    "sum(game.play() for game in games)"
   ]
  }
 ],
 "metadata": {
  "kernelspec": {
   "display_name": "AoC 2024",
   "language": "python",
   "name": "advent2024"
  },
  "language_info": {
   "codemirror_mode": {
    "name": "ipython",
    "version": 3
   },
   "file_extension": ".py",
   "mimetype": "text/x-python",
   "name": "python",
   "nbconvert_exporter": "python",
   "pygments_lexer": "ipython3",
   "version": "3.12.4"
  }
 },
 "nbformat": 4,
 "nbformat_minor": 4
}
