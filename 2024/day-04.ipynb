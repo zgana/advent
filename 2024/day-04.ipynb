{
 "cells": [
  {
   "cell_type": "markdown",
   "metadata": {},
   "source": [
    "# 2024 Day 4\n",
    "\n",
    "https://adventofcode.com/2024/day/4\n",
    "\n",
    "https://adventofcode.com/2024/day/4/input"
   ]
  },
  {
   "cell_type": "code",
   "execution_count": 1,
   "metadata": {},
   "outputs": [],
   "source": [
    "import re\n",
    "import numpy as np\n",
    "import pandas as pd\n",
    "import matplotlib.pyplot as plt"
   ]
  },
  {
   "cell_type": "code",
   "execution_count": 2,
   "metadata": {},
   "outputs": [
    {
     "data": {
      "text/plain": [
       "array([['M', 'M', 'M', ..., 'M', 'X', 'A'],\n",
       "       ['A', 'A', 'A', ..., 'S', 'X', 'M'],\n",
       "       ['S', 'S', 'X', ..., 'X', 'A', 'S'],\n",
       "       ...,\n",
       "       ['A', 'A', 'M', ..., 'X', 'S', 'A'],\n",
       "       ['M', 'M', 'M', ..., 'A', 'A', 'A'],\n",
       "       ['X', 'X', 'M', ..., 'X', 'S', 'M']], dtype='<U1')"
      ]
     },
     "execution_count": 2,
     "metadata": {},
     "output_type": "execute_result"
    }
   ],
   "source": [
    "data = np.array([[c for c in line] for line in open('input-04.txt').read().strip().split('\\n')])\n",
    "data"
   ]
  },
  {
   "cell_type": "code",
   "execution_count": 3,
   "metadata": {
    "tags": []
   },
   "outputs": [
    {
     "data": {
      "text/plain": [
       "(140, 140)"
      ]
     },
     "execution_count": 3,
     "metadata": {},
     "output_type": "execute_result"
    }
   ],
   "source": [
    "nrow, ncol = data.shape\n",
    "nrow, ncol"
   ]
  },
  {
   "cell_type": "markdown",
   "metadata": {},
   "source": [
    "## Part 1"
   ]
  },
  {
   "cell_type": "code",
   "execution_count": 4,
   "metadata": {},
   "outputs": [
    {
     "data": {
      "text/plain": [
       "[(-1, -1), (-1, 0), (-1, 1), (0, -1), (0, 1), (1, -1), (1, 0), (1, 1)]"
      ]
     },
     "execution_count": 4,
     "metadata": {},
     "output_type": "execute_result"
    }
   ],
   "source": [
    "orientations = [\n",
    "    (dx, dy)\n",
    "    for dx in (-1, 0, 1)\n",
    "    for dy in (-1, 0, 1)\n",
    "    if not (dx == dy == 0)\n",
    "]\n",
    "orientations"
   ]
  },
  {
   "cell_type": "code",
   "execution_count": 5,
   "metadata": {
    "tags": []
   },
   "outputs": [
    {
     "data": {
      "text/plain": [
       "array([[-1, -1, -1,  0,  0,  1,  1,  1],\n",
       "       [-1,  0,  1, -1,  1, -1,  0,  1]])"
      ]
     },
     "execution_count": 5,
     "metadata": {},
     "output_type": "execute_result"
    }
   ],
   "source": [
    "np.array(orientations).T"
   ]
  },
  {
   "cell_type": "code",
   "execution_count": 6,
   "metadata": {
    "tags": []
   },
   "outputs": [
    {
     "data": {
      "image/png": "[encoded data removed]",
      "text/plain": [
       "<Figure size 300x300 with 1 Axes>"
      ]
     },
     "metadata": {},
     "output_type": "display_data"
    }
   ],
   "source": [
    "fig, ax = plt.subplots(figsize=(3, 3))\n",
    "plt.plot(*np.array(orientations).T, 'o')\n",
    "plt.grid()"
   ]
  },
  {
   "cell_type": "code",
   "execution_count": 7,
   "metadata": {
    "tags": []
   },
   "outputs": [
    {
     "name": "stdout",
     "output_type": "stream",
     "text": [
      "start_row = 139"
     ]
    },
    {
     "data": {
      "text/plain": [
       "2378"
      ]
     },
     "execution_count": 7,
     "metadata": {},
     "output_type": "execute_result"
    }
   ],
   "source": [
    "num_xmas = 0\n",
    "\n",
    "for start_row in range(nrow):\n",
    "    print(f'\\r{start_row = }', end='', flush=True)\n",
    "    for start_col in range(ncol):\n",
    "        for delta in orientations:\n",
    "            coords = [(start_row, start_col)]\n",
    "            for i in range(3):\n",
    "                prev = coords[-1]\n",
    "                coords += [(prev[0] + delta[0], prev[1] + delta[1])]\n",
    "                \n",
    "            R, C = np.transpose(coords)\n",
    "            if np.any(\n",
    "                (R < 0) | (nrow <= R) | (C < 0) | (ncol <= C)\n",
    "            ):\n",
    "                continue\n",
    "                \n",
    "            word = ''.join(data[R, C])\n",
    "            if word == 'XMAS':\n",
    "                num_xmas += 1\n",
    "    \n",
    "num_xmas"
   ]
  },
  {
   "cell_type": "markdown",
   "metadata": {},
   "source": [
    "## Part 2"
   ]
  },
  {
   "cell_type": "code",
   "execution_count": 8,
   "metadata": {
    "tags": []
   },
   "outputs": [
    {
     "name": "stdout",
     "output_type": "stream",
     "text": [
      "start_row = 139"
     ]
    },
    {
     "data": {
      "text/plain": [
       "1796"
      ]
     },
     "execution_count": 8,
     "metadata": {},
     "output_type": "execute_result"
    }
   ],
   "source": [
    "num_xmas = 0\n",
    "\n",
    "for start_row in range(nrow):\n",
    "    print(f'\\r{start_row = }', end='', flush=True)\n",
    "    for start_col in range(ncol):\n",
    "        \n",
    "        if data[start_row, start_col] != 'A':\n",
    "            continue\n",
    "            \n",
    "        corners1 = [(start_row + 1, start_col + 1), (start_row - 1, start_col - 1)]\n",
    "        corners2 = [(start_row + 1, start_col - 1), (start_row - 1, start_col + 1)]\n",
    "        all_corners = corners1 + corners2\n",
    "        \n",
    "        R1, C1 = np.transpose(corners1)\n",
    "        R2, C2 = np.transpose(corners2)\n",
    "        R, C = np.transpose(all_corners)\n",
    "        if np.any(\n",
    "            (R < 0) | (nrow <= R) | (C < 0) | (ncol <= C)\n",
    "        ):\n",
    "            continue\n",
    "            \n",
    "        if set(data[R1, C1]) == set(data[R2, C2]) == {'M', 'S'}:\n",
    "            num_xmas += 1\n",
    "    \n",
    "num_xmas"
   ]
  }
 ],
 "metadata": {
  "kernelspec": {
   "display_name": "AoC 2024",
   "language": "python",
   "name": "advent2024"
  },
  "language_info": {
   "codemirror_mode": {
    "name": "ipython",
    "version": 3
   },
   "file_extension": ".py",
   "mimetype": "text/x-python",
   "name": "python",
   "nbconvert_exporter": "python",
   "pygments_lexer": "ipython3",
   "version": "3.12.4"
  }
 },
 "nbformat": 4,
 "nbformat_minor": 4
}
