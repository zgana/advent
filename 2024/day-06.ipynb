{
 "cells": [
  {
   "cell_type": "markdown",
   "metadata": {},
   "source": [
    "# 2024 Day 6\n",
    "\n",
    "https://adventofcode.com/2024/day/6\n",
    "\n",
    "https://adventofcode.com/2024/day/6/input"
   ]
  },
  {
   "cell_type": "code",
   "execution_count": 1,
   "metadata": {},
   "outputs": [],
   "source": [
    "import re\n",
    "from dataclasses import dataclass\n",
    "\n",
    "import numpy as np\n",
    "import pandas as pd\n",
    "import matplotlib.pyplot as plt"
   ]
  },
  {
   "cell_type": "code",
   "execution_count": 2,
   "metadata": {
    "tags": []
   },
   "outputs": [],
   "source": [
    "def parse_input(s):\n",
    "    return np.array([[c for c in line.strip()] for line in s])"
   ]
  },
  {
   "cell_type": "code",
   "execution_count": 3,
   "metadata": {},
   "outputs": [
    {
     "data": {
      "text/plain": [
       "array([['.', '.', '.', '.', '#', '.', '.', '.', '.', '.'],\n",
       "       ['.', '.', '.', '.', '.', '.', '.', '.', '.', '#'],\n",
       "       ['.', '.', '.', '.', '.', '.', '.', '.', '.', '.'],\n",
       "       ['.', '.', '#', '.', '.', '.', '.', '.', '.', '.'],\n",
       "       ['.', '.', '.', '.', '.', '.', '.', '#', '.', '.'],\n",
       "       ['.', '.', '.', '.', '.', '.', '.', '.', '.', '.'],\n",
       "       ['.', '#', '.', '.', '^', '.', '.', '.', '.', '.'],\n",
       "       ['.', '.', '.', '.', '.', '.', '.', '.', '#', '.'],\n",
       "       ['#', '.', '.', '.', '.', '.', '.', '.', '.', '.'],\n",
       "       ['.', '.', '.', '.', '.', '.', '#', '.', '.', '.']], dtype='<U1')"
      ]
     },
     "execution_count": 3,
     "metadata": {},
     "output_type": "execute_result"
    }
   ],
   "source": [
    "data = parse_input(\"\"\"....#.....\n",
    ".........#\n",
    "..........\n",
    "..#.......\n",
    ".......#..\n",
    "..........\n",
    ".#..^.....\n",
    "........#.\n",
    "#.........\n",
    "......#...\"\"\".split('\\n'))\n",
    "data"
   ]
  },
  {
   "cell_type": "code",
   "execution_count": 4,
   "metadata": {},
   "outputs": [
    {
     "data": {
      "text/plain": [
       "array([['.', '.', '.', ..., '.', '.', '.'],\n",
       "       ['.', '.', '.', ..., '.', '.', '.'],\n",
       "       ['.', '.', '.', ..., '.', '#', '.'],\n",
       "       ...,\n",
       "       ['.', '.', '.', ..., '.', '.', '.'],\n",
       "       ['.', '.', '.', ..., '.', '#', '.'],\n",
       "       ['.', '.', '.', ..., '.', '.', '.']], dtype='<U1')"
      ]
     },
     "execution_count": 4,
     "metadata": {},
     "output_type": "execute_result"
    }
   ],
   "source": [
    "data = parse_input(open(\"input-06.txt\").readlines())\n",
    "data"
   ]
  },
  {
   "cell_type": "markdown",
   "metadata": {},
   "source": [
    "## Part 1"
   ]
  },
  {
   "cell_type": "code",
   "execution_count": 5,
   "metadata": {
    "tags": []
   },
   "outputs": [],
   "source": [
    "directions = {\n",
    "    '^': (-1, 0),\n",
    "    '>': (0, 1),\n",
    "    'v': (1, 0),\n",
    "    '<': (0, -1),\n",
    "}\n",
    "rotations = {\n",
    "    '^': '>',\n",
    "    '>': 'v',\n",
    "    'v': '<',\n",
    "    '<': '^'\n",
    "}"
   ]
  },
  {
   "cell_type": "code",
   "execution_count": 6,
   "metadata": {
    "tags": []
   },
   "outputs": [],
   "source": [
    "def find_start(data):\n",
    "    start = np.where(data == '^')\n",
    "    return int(start[0][0]), int(start[1][0])"
   ]
  },
  {
   "cell_type": "code",
   "execution_count": 7,
   "metadata": {
    "tags": []
   },
   "outputs": [],
   "source": [
    "def in_bounds(data, loc):\n",
    "    nrow, ncol = data.shape\n",
    "    return 0 <= loc[0] < nrow and 0 <= loc[1] < ncol"
   ]
  },
  {
   "cell_type": "code",
   "execution_count": 8,
   "metadata": {
    "tags": []
   },
   "outputs": [],
   "source": [
    "@dataclass\n",
    "class Traj:\n",
    "    loc: tuple[int, int]\n",
    "    dir: str\n",
    "\n",
    "class Path:\n",
    "    def __init__(self, data):\n",
    "        self.data = data.copy()\n",
    "        self.start = find_start(data)\n",
    "        self.history = [Traj(self.start, '^')]\n",
    "        self.corners = []\n",
    "        \n",
    "        self.outcome = None\n",
    "        while self.outcome is None:\n",
    "            self.step()\n",
    "        \n",
    "    def step(self):\n",
    "        prev = self.history[-1]\n",
    "        loc, dir = prev.loc, prev.dir\n",
    "        delta = directions[dir]\n",
    "        next_loc = loc[0] + delta[0], loc[1] + delta[1]\n",
    "        next_loc_in_bounds = in_bounds(self.data, next_loc)\n",
    "        \n",
    "        if next_loc_in_bounds and self.data[next_loc] == '#':\n",
    "            # check for loop\n",
    "            if dir == '>':\n",
    "                if loc in self.corners:\n",
    "                    self.outcome = 'loop'\n",
    "                    return\n",
    "                else:\n",
    "                    self.corners.append(loc)\n",
    "            \n",
    "            # turn right\n",
    "            next_dir = rotations[dir]\n",
    "            traj = Traj(loc, next_dir)\n",
    "            self.history.append(traj)\n",
    "        elif next_loc_in_bounds:\n",
    "            # take a step\n",
    "            traj = Traj(next_loc, dir)\n",
    "            self.history.append(traj)\n",
    "        else:\n",
    "            # exit\n",
    "            self.outcome = 'exit'\n",
    "            \n",
    "    def distinct_locs(self):\n",
    "        return set(traj.loc for traj in self.history)"
   ]
  },
  {
   "cell_type": "code",
   "execution_count": 9,
   "metadata": {
    "tags": []
   },
   "outputs": [],
   "source": [
    "main_path = Path(data)"
   ]
  },
  {
   "cell_type": "code",
   "execution_count": 10,
   "metadata": {
    "tags": []
   },
   "outputs": [
    {
     "data": {
      "image/png": "[encoded data removed]",
      "text/plain": [
       "<Figure size 960x720 with 1 Axes>"
      ]
     },
     "metadata": {},
     "output_type": "display_data"
    }
   ],
   "source": [
    "fig, ax = plt.subplots(dpi=150)\n",
    "nrow, ncol = data.shape\n",
    "ax.add_artist(plt.Rectangle((0, 0), ncol, nrow, color='k', fill=False))\n",
    "ax.plot(*np.transpose(list(main_path.distinct_locs())), '.', ms=2)\n",
    "ax.set(xticks=[], yticks=[], xlim=(0, ncol), ylim=(0, nrow));\n",
    "ax.axis('off');"
   ]
  },
  {
   "cell_type": "code",
   "execution_count": 11,
   "metadata": {
    "tags": []
   },
   "outputs": [
    {
     "data": {
      "text/plain": [
       "4454"
      ]
     },
     "execution_count": 11,
     "metadata": {},
     "output_type": "execute_result"
    }
   ],
   "source": [
    "len(main_path.distinct_locs())"
   ]
  },
  {
   "cell_type": "markdown",
   "metadata": {},
   "source": [
    "## Part 2"
   ]
  },
  {
   "cell_type": "code",
   "execution_count": 12,
   "metadata": {
    "tags": []
   },
   "outputs": [],
   "source": [
    "from tqdm import tqdm"
   ]
  },
  {
   "cell_type": "code",
   "execution_count": 13,
   "metadata": {
    "tags": []
   },
   "outputs": [
    {
     "name": "stderr",
     "output_type": "stream",
     "text": [
      "100%|███████████████████████████████████████████████████████████████████████████████████████| 4454/4454 [00:18<00:00, 243.08it/s]\n"
     ]
    },
    {
     "data": {
      "text/plain": [
       "1503"
      ]
     },
     "execution_count": 13,
     "metadata": {},
     "output_type": "execute_result"
    }
   ],
   "source": [
    "num_loops = 0\n",
    "\n",
    "for loc in tqdm(main_path.distinct_locs()):\n",
    "    if loc == main_path.start:\n",
    "        continue\n",
    "        \n",
    "    test_data = data.copy()\n",
    "    test_data[loc] = '#'\n",
    "    test_path = Path(test_data)\n",
    "    if test_path.outcome == 'loop':\n",
    "        num_loops += 1\n",
    "        \n",
    "num_loops"
   ]
  }
 ],
 "metadata": {
  "kernelspec": {
   "display_name": "AoC 2024",
   "language": "python",
   "name": "advent2024"
  },
  "language_info": {
   "codemirror_mode": {
    "name": "ipython",
    "version": 3
   },
   "file_extension": ".py",
   "mimetype": "text/x-python",
   "name": "python",
   "nbconvert_exporter": "python",
   "pygments_lexer": "ipython3",
   "version": "3.12.4"
  }
 },
 "nbformat": 4,
 "nbformat_minor": 4
}
