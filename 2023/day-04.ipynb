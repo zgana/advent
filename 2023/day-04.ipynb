{
 "cells": [
  {
   "cell_type": "markdown",
   "metadata": {},
   "source": [
    "# 2023 Day 4\n",
    "\n",
    "https://adventofcode.com/2023/day/4\n",
    "\n",
    "https://adventofcode.com/2023/day/4/input"
   ]
  },
  {
   "cell_type": "code",
   "execution_count": 1,
   "metadata": {
    "tags": []
   },
   "outputs": [],
   "source": [
    "import re\n",
    "import numpy as np\n",
    "import pandas as pd\n",
    "import matplotlib.pyplot as plt"
   ]
  },
  {
   "cell_type": "code",
   "execution_count": 2,
   "metadata": {
    "scrolled": true,
    "tags": []
   },
   "outputs": [],
   "source": [
    "inp = list(map(str.strip, open('input-04.txt').readlines()))\n",
    "# inp"
   ]
  },
  {
   "cell_type": "code",
   "execution_count": 3,
   "metadata": {
    "tags": []
   },
   "outputs": [
    {
     "data": {
      "text/plain": [
       "['Card 1: 41 48 83 86 17 | 83 86  6 31 17  9 48 53',\n",
       " 'Card 2: 13 32 20 16 61 | 61 30 68 82 17 32 24 19',\n",
       " 'Card 3:  1 21 53 59 44 | 69 82 63 72 16 21 14  1',\n",
       " 'Card 4: 41 92 73 84 69 | 59 84 76 51 58  5 54 83',\n",
       " 'Card 5: 87 83 26 28 32 | 88 30 70 12 93 22 82 36',\n",
       " 'Card 6: 31 18 13 56 72 | 74 77 10 23 35 67 36 11']"
      ]
     },
     "execution_count": 3,
     "metadata": {},
     "output_type": "execute_result"
    }
   ],
   "source": [
    "test1 = \"\"\"\n",
    "Card 1: 41 48 83 86 17 | 83 86  6 31 17  9 48 53\n",
    "Card 2: 13 32 20 16 61 | 61 30 68 82 17 32 24 19\n",
    "Card 3:  1 21 53 59 44 | 69 82 63 72 16 21 14  1\n",
    "Card 4: 41 92 73 84 69 | 59 84 76 51 58  5 54 83\n",
    "Card 5: 87 83 26 28 32 | 88 30 70 12 93 22 82 36\n",
    "Card 6: 31 18 13 56 72 | 74 77 10 23 35 67 36 11\n",
    "\"\"\".strip().split('\\n')\n",
    "test1"
   ]
  },
  {
   "cell_type": "markdown",
   "metadata": {},
   "source": [
    "## Part 1"
   ]
  },
  {
   "cell_type": "code",
   "execution_count": 4,
   "metadata": {
    "tags": []
   },
   "outputs": [],
   "source": [
    "def split(s):\n",
    "    return list(int(x) for x in s.strip().split())"
   ]
  },
  {
   "cell_type": "code",
   "execution_count": 5,
   "metadata": {
    "tags": []
   },
   "outputs": [],
   "source": [
    "# split(' 41 48 83 86 17 ')"
   ]
  },
  {
   "cell_type": "code",
   "execution_count": 6,
   "metadata": {
    "tags": []
   },
   "outputs": [
    {
     "data": {
      "text/plain": [
       "25571"
      ]
     },
     "execution_count": 6,
     "metadata": {},
     "output_type": "execute_result"
    }
   ],
   "source": [
    "# lines = test1\n",
    "lines = inp\n",
    "tot = 0\n",
    "for line in lines:\n",
    "    card = re.search('(.*):', line).group(1)\n",
    "    winners = split(re.search(r':(.*)\\|', line).group(1))\n",
    "    entries = split(re.search(r'\\|(.*)', line).group(1))\n",
    "    n = len(list(e for e in entries if e in winners))\n",
    "    points = 2**(n-1) if n else 0\n",
    "    tot += points\n",
    "tot"
   ]
  },
  {
   "cell_type": "markdown",
   "metadata": {},
   "source": [
    "## Part 2"
   ]
  },
  {
   "cell_type": "code",
   "execution_count": 7,
   "metadata": {
    "tags": []
   },
   "outputs": [
    {
     "data": {
      "text/plain": [
       "8805731"
      ]
     },
     "execution_count": 7,
     "metadata": {},
     "output_type": "execute_result"
    }
   ],
   "source": [
    "# lines = test1\n",
    "lines = inp\n",
    "multipliers = [1 for i in lines]\n",
    "for (i, line) in enumerate(lines):\n",
    "    card = re.search('(.*):', line).group(1)\n",
    "    winners = split(re.search(r':(.*)\\|', line).group(1))\n",
    "    entries = split(re.search(r'\\|(.*)', line).group(1))\n",
    "    n = len(list(e for e in entries if e in winners))\n",
    "    for j in range(i+1, i+1+n):\n",
    "        multipliers[j] += multipliers[i]\n",
    "# print(multipliers)\n",
    "sum(multipliers)"
   ]
  }
 ],
 "metadata": {
  "kernelspec": {
   "display_name": "Python 3.10.9",
   "language": "python",
   "name": "3_10_9"
  },
  "language_info": {
   "codemirror_mode": {
    "name": "ipython",
    "version": 3
   },
   "file_extension": ".py",
   "mimetype": "text/x-python",
   "name": "python",
   "nbconvert_exporter": "python",
   "pygments_lexer": "ipython3",
   "version": "3.10.9"
  }
 },
 "nbformat": 4,
 "nbformat_minor": 4
}
