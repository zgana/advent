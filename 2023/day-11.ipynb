{
 "cells": [
  {
   "cell_type": "markdown",
   "metadata": {},
   "source": [
    "# 2023 Day 11\n",
    "\n",
    "https://adventofcode.com/2023/day/11\n",
    "\n",
    "https://adventofcode.com/2023/day/11/input"
   ]
  },
  {
   "cell_type": "code",
   "execution_count": 1,
   "metadata": {
    "tags": []
   },
   "outputs": [],
   "source": [
    "import re\n",
    "import numpy as np\n",
    "import pandas as pd\n",
    "import matplotlib.pyplot as plt\n",
    "\n",
    "from scipy.spatial import distance"
   ]
  },
  {
   "cell_type": "code",
   "execution_count": 2,
   "metadata": {
    "scrolled": true,
    "tags": []
   },
   "outputs": [],
   "source": [
    "inp = open('input-11.txt').read()\n",
    "# print(inp)"
   ]
  },
  {
   "cell_type": "code",
   "execution_count": 3,
   "metadata": {
    "tags": []
   },
   "outputs": [
    {
     "name": "stdout",
     "output_type": "stream",
     "text": [
      "...#......\n",
      ".......#..\n",
      "#.........\n",
      "..........\n",
      "......#...\n",
      ".#........\n",
      ".........#\n",
      "..........\n",
      ".......#..\n",
      "#...#.....\n",
      "\n"
     ]
    }
   ],
   "source": [
    "test = \"\"\"...#......\n",
    ".......#..\n",
    "#.........\n",
    "..........\n",
    "......#...\n",
    ".#........\n",
    ".........#\n",
    "..........\n",
    ".......#..\n",
    "#...#.....\n",
    "\"\"\"\n",
    "print(test)"
   ]
  },
  {
   "cell_type": "markdown",
   "metadata": {},
   "source": [
    "## Part 1"
   ]
  },
  {
   "cell_type": "code",
   "execution_count": 4,
   "metadata": {
    "tags": []
   },
   "outputs": [],
   "source": [
    "def parse(text):\n",
    "    chars = np.array([list(line) for line in text.strip().split('\\n')])\n",
    "    return (chars == '#') * 1\n",
    "\n",
    "def expand_(im):\n",
    "    n = 0\n",
    "    for i in range(len(im)):\n",
    "        ii = i + n\n",
    "        if not np.any(im[ii]):\n",
    "            im = np.vstack((im[:ii], im[ii], im[ii:]))\n",
    "            n += 1\n",
    "    return im\n",
    "            \n",
    "def expand(im):\n",
    "    im = expand_(im)\n",
    "    im = expand_(im.T).T\n",
    "    return im"
   ]
  },
  {
   "cell_type": "code",
   "execution_count": 5,
   "metadata": {
    "tags": []
   },
   "outputs": [
    {
     "data": {
      "text/plain": [
       "array([[0, 0, 0, 1, 0, 0, 0, 0, 0, 0],\n",
       "       [0, 0, 0, 0, 0, 0, 0, 1, 0, 0],\n",
       "       [1, 0, 0, 0, 0, 0, 0, 0, 0, 0],\n",
       "       [0, 0, 0, 0, 0, 0, 0, 0, 0, 0],\n",
       "       [0, 0, 0, 0, 0, 0, 1, 0, 0, 0],\n",
       "       [0, 1, 0, 0, 0, 0, 0, 0, 0, 0],\n",
       "       [0, 0, 0, 0, 0, 0, 0, 0, 0, 1],\n",
       "       [0, 0, 0, 0, 0, 0, 0, 0, 0, 0],\n",
       "       [0, 0, 0, 0, 0, 0, 0, 1, 0, 0],\n",
       "       [1, 0, 0, 0, 1, 0, 0, 0, 0, 0]])"
      ]
     },
     "execution_count": 5,
     "metadata": {},
     "output_type": "execute_result"
    }
   ],
   "source": [
    "im = parse(test)\n",
    "im"
   ]
  },
  {
   "cell_type": "code",
   "execution_count": 6,
   "metadata": {
    "tags": []
   },
   "outputs": [
    {
     "data": {
      "text/plain": [
       "374"
      ]
     },
     "execution_count": 6,
     "metadata": {},
     "output_type": "execute_result"
    }
   ],
   "source": [
    "w = np.where(expand(parse(test)))\n",
    "x, y = w[0], w[1]\n",
    "xy = np.transpose(np.vstack((x, y)))\n",
    "int(distance.pdist(xy, metric='cityblock').sum())"
   ]
  },
  {
   "cell_type": "code",
   "execution_count": 7,
   "metadata": {
    "tags": []
   },
   "outputs": [
    {
     "data": {
      "text/plain": [
       "9681886"
      ]
     },
     "execution_count": 7,
     "metadata": {},
     "output_type": "execute_result"
    }
   ],
   "source": [
    "w = np.where(expand(parse(inp)))\n",
    "x, y = w[0], w[1]\n",
    "xy = np.transpose(np.vstack((x, y)))\n",
    "int(distance.pdist(xy, metric='cityblock').sum())"
   ]
  },
  {
   "cell_type": "markdown",
   "metadata": {},
   "source": [
    "## Part 2"
   ]
  },
  {
   "cell_type": "code",
   "execution_count": 8,
   "metadata": {
    "tags": []
   },
   "outputs": [],
   "source": [
    "def get_empty_rows(im):\n",
    "    return [i for i in range(im.shape[0]) if not im[i].any()]\n",
    "\n",
    "def get_empty_columns(im):\n",
    "    return [i for i in range(im.shape[1]) if not im[:,i].any()]\n",
    "\n",
    "def dist_part2(g1, g2, *, empty_rows, empty_columns, factor=10**6):\n",
    "    (row1, column1) = g1\n",
    "    (row2, column2) = g2\n",
    "    row1, row2 = sorted([row1, row2])\n",
    "    column1, column2 = sorted([column1, column2])\n",
    "    rows = range(row1, row2)\n",
    "    columns = range(column1, column2)\n",
    "    drow = sum(factor if row in empty_rows else 1 for row in rows)\n",
    "    dcolumn = sum(factor if column in empty_columns else 1 for column in columns)\n",
    "    return drow + dcolumn"
   ]
  },
  {
   "cell_type": "code",
   "execution_count": 9,
   "metadata": {
    "tags": []
   },
   "outputs": [
    {
     "name": "stdout",
     "output_type": "stream",
     "text": [
      "2 374\n",
      "10 1030\n",
      "100 8410\n"
     ]
    }
   ],
   "source": [
    "im = parse(test)\n",
    "empty_rows = get_empty_rows(im)\n",
    "empty_columns = get_empty_columns(im)\n",
    "w = np.where(im)\n",
    "X, Y = w[0], w[1]\n",
    "XY = np.transpose(np.vstack((X, Y)))\n",
    "n = len(XY)\n",
    "\n",
    "for factor in (2, 10, 100):\n",
    "    total_distance = 0\n",
    "    for i in range(n):\n",
    "        xy1 = XY[i]\n",
    "        for j in range(i, n):\n",
    "            xy2 = XY[j]\n",
    "            d = dist_part2(xy1, xy2, factor=factor, empty_rows=empty_rows, empty_columns=empty_columns)\n",
    "            total_distance += d\n",
    "    print(factor, total_distance)"
   ]
  },
  {
   "cell_type": "code",
   "execution_count": 10,
   "metadata": {
    "tags": []
   },
   "outputs": [
    {
     "name": "stdout",
     "output_type": "stream",
     "text": [
      "2 9681886\n",
      "1000000 791134099634\n"
     ]
    }
   ],
   "source": [
    "im = parse(inp)\n",
    "empty_rows = get_empty_rows(im)\n",
    "empty_columns = get_empty_columns(im)\n",
    "w = np.where(im)\n",
    "X, Y = w[0], w[1]\n",
    "XY = np.transpose(np.vstack((X, Y)))\n",
    "n = len(XY)\n",
    "\n",
    "for factor in (2, 10**6):\n",
    "    total_distance = 0\n",
    "    for i in range(n):\n",
    "        xy1 = XY[i]\n",
    "        for j in range(i, n):\n",
    "            xy2 = XY[j]\n",
    "            d = dist_part2(xy1, xy2, factor=factor, empty_rows=empty_rows, empty_columns=empty_columns)\n",
    "            total_distance += d\n",
    "    print(factor, total_distance)"
   ]
  }
 ],
 "metadata": {
  "kernelspec": {
   "display_name": "Python 3.10.9",
   "language": "python",
   "name": "3_10_9"
  },
  "language_info": {
   "codemirror_mode": {
    "name": "ipython",
    "version": 3
   },
   "file_extension": ".py",
   "mimetype": "text/x-python",
   "name": "python",
   "nbconvert_exporter": "python",
   "pygments_lexer": "ipython3",
   "version": "3.10.9"
  }
 },
 "nbformat": 4,
 "nbformat_minor": 4
}
