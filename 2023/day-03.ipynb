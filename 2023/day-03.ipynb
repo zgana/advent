{
 "cells": [
  {
   "cell_type": "markdown",
   "metadata": {},
   "source": [
    "# 2023 Day 3\n",
    "\n",
    "https://adventofcode.com/2023/day/3\n",
    "\n",
    "https://adventofcode.com/2023/day/3/input"
   ]
  },
  {
   "cell_type": "code",
   "execution_count": 1,
   "metadata": {
    "tags": []
   },
   "outputs": [],
   "source": [
    "from collections import defaultdict\n",
    "\n",
    "import re\n",
    "import numpy as np\n",
    "import pandas as pd\n",
    "import matplotlib.pyplot as plt\n",
    "\n",
    "from scipy import ndimage"
   ]
  },
  {
   "cell_type": "code",
   "execution_count": 2,
   "metadata": {
    "scrolled": true,
    "tags": []
   },
   "outputs": [],
   "source": [
    "inp = open('input-03.txt').readlines()\n",
    "# inp"
   ]
  },
  {
   "cell_type": "code",
   "execution_count": 3,
   "metadata": {
    "tags": []
   },
   "outputs": [
    {
     "data": {
      "text/plain": [
       "array([['.', '.', '.', ..., '4', '1', '\\n'],\n",
       "       ['.', '.', '.', ..., '.', '.', '\\n'],\n",
       "       ['.', '.', '.', ..., '6', '6', '\\n'],\n",
       "       ...,\n",
       "       ['.', '.', '.', ..., '.', '.', '\\n'],\n",
       "       ['.', '.', '.', ..., '.', '.', '\\n'],\n",
       "       ['.', '.', '5', ..., '.', '.', '\\n']], dtype='<U1')"
      ]
     },
     "execution_count": 3,
     "metadata": {},
     "output_type": "execute_result"
    }
   ],
   "source": [
    "A = np.array(list(map(list, inp)))\n",
    "A"
   ]
  },
  {
   "cell_type": "code",
   "execution_count": 4,
   "metadata": {
    "tags": []
   },
   "outputs": [
    {
     "data": {
      "text/plain": [
       "(140, 141)"
      ]
     },
     "execution_count": 4,
     "metadata": {},
     "output_type": "execute_result"
    }
   ],
   "source": [
    "nrow, ncol = A.shape\n",
    "nrow, ncol"
   ]
  },
  {
   "cell_type": "markdown",
   "metadata": {},
   "source": [
    "## Part 1"
   ]
  },
  {
   "cell_type": "code",
   "execution_count": 5,
   "metadata": {
    "tags": []
   },
   "outputs": [
    {
     "name": "stdout",
     "output_type": "stream",
     "text": [
      "['0', '1', '2', '3', '4', '5', '6', '7', '8', '9']\n",
      "['#' '$' '%' '&' '*' '+' '-' '/' '=' '@']\n"
     ]
    }
   ],
   "source": [
    "digits = list('0123456789')\n",
    "print(digits)\n",
    "\n",
    "chars = A.ravel()\n",
    "symbols = np.unique(chars[~np.isin(chars, digits) & (~np.isin(chars, list('.\\n')))])\n",
    "print(symbols)"
   ]
  },
  {
   "cell_type": "code",
   "execution_count": 6,
   "metadata": {
    "tags": []
   },
   "outputs": [
    {
     "data": {
      "text/plain": [
       "530495"
      ]
     },
     "execution_count": 6,
     "metadata": {},
     "output_type": "execute_result"
    }
   ],
   "source": [
    "part_nums = []\n",
    "\n",
    "for irow in range(nrow):\n",
    "    jcol = 0\n",
    "    while jcol < ncol:\n",
    "        if A[irow, jcol] in digits:\n",
    "            # scoop whole number\n",
    "            for jend in range(jcol, ncol+1):\n",
    "                if A[irow, jend] not in digits:\n",
    "                    break\n",
    "            num = int(''.join(A[irow, jcol:jend]))\n",
    "            \n",
    "            # check for symbols\n",
    "            jsearch_start = max(0, jcol - 1)\n",
    "            jsearch_end = min(ncol, jend + 1)\n",
    "            if (\n",
    "                (1 <= irow and np.any(np.isin(A[irow-1, jsearch_start:jsearch_end], symbols)))\n",
    "                or\n",
    "                (irow < nrow - 1 and np.any(np.isin(A[irow+1, jsearch_start:jsearch_end], symbols)))\n",
    "                or\n",
    "                np.any(np.isin(A[irow, jsearch_start:jsearch_end], symbols))\n",
    "            ):\n",
    "                part_nums.append(num)\n",
    "                \n",
    "            jcol = jend\n",
    "        else:\n",
    "            jcol += 1\n",
    "        \n",
    "sum(part_nums)"
   ]
  },
  {
   "cell_type": "markdown",
   "metadata": {},
   "source": [
    "## Part 2"
   ]
  },
  {
   "cell_type": "markdown",
   "metadata": {},
   "source": [
    "This part felt a bit trickier to do the bookkeeping... a little class helped keep things straight."
   ]
  },
  {
   "cell_type": "code",
   "execution_count": 7,
   "metadata": {
    "tags": []
   },
   "outputs": [],
   "source": [
    "class Num:\n",
    "    def __init__(self, row, start, end):\n",
    "        self.row = row\n",
    "        self.start = start\n",
    "        self.end = end\n",
    "        \n",
    "        # validate\n",
    "        int(self)\n",
    "        if start >= 1:\n",
    "            assert A[row, start - 1] not in digits\n",
    "        if end < ncol - 1:\n",
    "            assert A[row, end] not in digits\n",
    "    \n",
    "    def __repr__(self):\n",
    "        return f'Num({int(self)}; row={self.row}, cols={self.start}:{self.end})'\n",
    "    \n",
    "    def __int__(self):\n",
    "        s = ''.join(A[self.row, self.start:self.end])\n",
    "        return int(s)"
   ]
  },
  {
   "cell_type": "code",
   "execution_count": 8,
   "metadata": {
    "tags": []
   },
   "outputs": [],
   "source": [
    "row_nums = {-1: [], nrow: []}\n",
    "\n",
    "for irow in range(nrow):\n",
    "    row_nums[irow] = []\n",
    "    jcol = 0\n",
    "    while jcol < ncol:\n",
    "        if A[irow, jcol] in digits:\n",
    "            for jend in range(jcol, ncol+1):\n",
    "                if A[irow, jend] not in digits:\n",
    "                    break\n",
    "            num = Num(irow, jcol, jend)\n",
    "            row_nums[irow].append(num)\n",
    "            jcol = jend\n",
    "        else:\n",
    "            jcol += 1"
   ]
  },
  {
   "cell_type": "code",
   "execution_count": 9,
   "metadata": {
    "scrolled": true,
    "tags": []
   },
   "outputs": [],
   "source": [
    "# print('\\n'.join(f'{i:4d} ' + ''.join(a) for (i, a) in enumerate(A)))"
   ]
  },
  {
   "cell_type": "code",
   "execution_count": 10,
   "metadata": {
    "tags": []
   },
   "outputs": [],
   "source": [
    "gear_ratios = []\n",
    "\n",
    "for irow in range(nrow):\n",
    "    for jcol in range(ncol):\n",
    "        # move on unless gear candidate\n",
    "        if A[irow, jcol] != '*':\n",
    "            continue\n",
    "            \n",
    "        # check for neighbors\n",
    "        nums = row_nums[irow] + row_nums[irow - 1] + row_nums[irow + 1]\n",
    "        nearby = [\n",
    "            num\n",
    "            for num in nums\n",
    "            if num.start - 1 <= jcol <= num.end\n",
    "        ]\n",
    "        \n",
    "        if len(nearby) == 2:\n",
    "            gear_ratios.append(int(nearby[0]) * int(nearby[1]))"
   ]
  },
  {
   "cell_type": "code",
   "execution_count": 11,
   "metadata": {
    "tags": []
   },
   "outputs": [
    {
     "data": {
      "text/plain": [
       "80253814"
      ]
     },
     "execution_count": 11,
     "metadata": {},
     "output_type": "execute_result"
    }
   ],
   "source": [
    "sum(gear_ratios)"
   ]
  },
  {
   "cell_type": "markdown",
   "metadata": {},
   "source": [
    "## Viz"
   ]
  },
  {
   "cell_type": "code",
   "execution_count": 12,
   "metadata": {
    "tags": []
   },
   "outputs": [],
   "source": [
    "mask_digits = np.isin(A, digits)\n",
    "mask_sym = np.isin(A, symbols)"
   ]
  },
  {
   "cell_type": "code",
   "execution_count": 13,
   "metadata": {
    "tags": []
   },
   "outputs": [
    {
     "data": {
      "image/png": "[encoded data removed]",
      "text/plain": [
       "<Figure size 768x576 with 1 Axes>"
      ]
     },
     "metadata": {},
     "output_type": "display_data"
    }
   ],
   "source": [
    "fig, ax = plt.subplots(dpi=120)\n",
    "ax.pcolormesh(1 * mask_digits + 2 * mask_sym, cmap='Blues_r')\n",
    "ax.set(ylim=ax.get_ylim()[::-1])\n",
    "ax.axis('off');"
   ]
  }
 ],
 "metadata": {
  "kernelspec": {
   "display_name": "Python 3.10.9",
   "language": "python",
   "name": "3_10_9"
  },
  "language_info": {
   "codemirror_mode": {
    "name": "ipython",
    "version": 3
   },
   "file_extension": ".py",
   "mimetype": "text/x-python",
   "name": "python",
   "nbconvert_exporter": "python",
   "pygments_lexer": "ipython3",
   "version": "3.10.9"
  }
 },
 "nbformat": 4,
 "nbformat_minor": 4
}
