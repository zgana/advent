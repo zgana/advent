{
 "cells": [
  {
   "cell_type": "markdown",
   "metadata": {},
   "source": [
    "# 2023 Day 8\n",
    "\n",
    "https://adventofcode.com/2023/day/8\n",
    "\n",
    "https://adventofcode.com/2023/day/8/input"
   ]
  },
  {
   "cell_type": "code",
   "execution_count": 1,
   "metadata": {
    "tags": []
   },
   "outputs": [],
   "source": [
    "import re\n",
    "import numpy as np\n",
    "import pandas as pd\n",
    "import matplotlib.pyplot as plt"
   ]
  },
  {
   "cell_type": "code",
   "execution_count": 2,
   "metadata": {
    "scrolled": true,
    "tags": []
   },
   "outputs": [],
   "source": [
    "inp = open('input-08.txt').read().strip()\n",
    "# print(inp)"
   ]
  },
  {
   "cell_type": "markdown",
   "metadata": {},
   "source": [
    "## Part 1"
   ]
  },
  {
   "cell_type": "code",
   "execution_count": 3,
   "metadata": {
    "tags": []
   },
   "outputs": [],
   "source": [
    "def parse_branches(para):\n",
    "    mapping = {}\n",
    "    lines = para.split('\\n')\n",
    "    for line in lines:\n",
    "        a, b, c = re.match(r'(\\w{3}) = \\((\\w{3}), (\\w{3})\\)', line).groups()\n",
    "        mapping[a] = (b, c)\n",
    "    return mapping\n",
    "\n",
    "def parse_map(text):\n",
    "    paras = text.split('\\n\\n')\n",
    "    directions = paras[0]\n",
    "    branches = parse_branches(paras[1])\n",
    "    return directions, branches"
   ]
  },
  {
   "cell_type": "code",
   "execution_count": 4,
   "metadata": {
    "tags": []
   },
   "outputs": [],
   "source": [
    "directions, branches = parse_map(inp)\n",
    "# directions"
   ]
  },
  {
   "cell_type": "code",
   "execution_count": 5,
   "metadata": {
    "scrolled": true,
    "tags": []
   },
   "outputs": [],
   "source": [
    "# branches"
   ]
  },
  {
   "cell_type": "code",
   "execution_count": 6,
   "metadata": {
    "tags": []
   },
   "outputs": [
    {
     "data": {
      "text/plain": [
       "17263"
      ]
     },
     "execution_count": 6,
     "metadata": {},
     "output_type": "execute_result"
    }
   ],
   "source": [
    "i_dir = 0\n",
    "s = 'AAA'\n",
    "while s != 'ZZZ':\n",
    "    direction = 0 if directions[i_dir % len(directions)] == 'L' else 1\n",
    "    s = branches[s][direction]\n",
    "    i_dir += 1\n",
    "i_dir"
   ]
  },
  {
   "cell_type": "markdown",
   "metadata": {},
   "source": [
    "## Part 2"
   ]
  },
  {
   "cell_type": "code",
   "execution_count": 7,
   "metadata": {
    "tags": []
   },
   "outputs": [
    {
     "data": {
      "text/plain": [
       "['GCA', 'AAA', 'CMA', 'QNA', 'FTA', 'CBA']"
      ]
     },
     "execution_count": 7,
     "metadata": {},
     "output_type": "execute_result"
    }
   ],
   "source": [
    "starts = [k for k in branches if k.endswith('A')]\n",
    "starts"
   ]
  },
  {
   "cell_type": "code",
   "execution_count": 8,
   "metadata": {
    "tags": []
   },
   "outputs": [
    {
     "data": {
      "text/plain": [
       "['SMZ', 'FCZ', 'TBZ', 'TTZ', 'XTZ', 'ZZZ']"
      ]
     },
     "execution_count": 8,
     "metadata": {},
     "output_type": "execute_result"
    }
   ],
   "source": [
    "ends = [k for k in branches if k.endswith('Z')]\n",
    "ends"
   ]
  },
  {
   "cell_type": "code",
   "execution_count": 9,
   "metadata": {
    "tags": []
   },
   "outputs": [],
   "source": [
    "def when_return_when_z(s):\n",
    "    # I thought I'd determine when we get back to the start\n",
    "    # and note each \"ends-in-z\" index along the way\n",
    "    s0 = s\n",
    "    i_dir = 0\n",
    "    # also keep track of which ends-in-z we land on\n",
    "    which_z = []\n",
    "    when_z = []\n",
    "    while s != s0 or i_dir == 0:\n",
    "        if s.endswith('Z'):\n",
    "            when_z.append(i_dir)\n",
    "            which_z.append(s)\n",
    "        direction = 0 if directions[i_dir % len(directions)] == 'L' else 1\n",
    "        s = branches[s][direction]\n",
    "        i_dir += 1\n",
    "        # this is taking too long, return what you got so far\n",
    "        if i_dir > 1_000_000:\n",
    "            break\n",
    "    return i_dir, when_z, which_z"
   ]
  },
  {
   "cell_type": "code",
   "execution_count": 10,
   "metadata": {
    "tags": []
   },
   "outputs": [
    {
     "name": "stdout",
     "output_type": "stream",
     "text": [
      "GCA [22357, 44714, 67071, 89428] ['FCZ'] [22357 22357 22357 22357 22357] 22357\n",
      "AAA [17263, 34526, 51789, 69052] ['ZZZ'] [17263 17263 17263 17263 17263] 17263\n",
      "CMA [14999, 29998, 44997, 59996] ['SMZ'] [14999 14999 14999 14999 14999] 14999\n",
      "QNA [16697, 33394, 50091, 66788] ['TTZ'] [16697 16697 16697 16697 16697] 16697\n",
      "FTA [13301, 26602, 39903, 53204] ['TBZ'] [13301 13301 13301 13301 13301] 13301\n",
      "CBA [20659, 41318, 61977, 82636] ['XTZ'] [20659 20659 20659 20659 20659] 20659\n"
     ]
    }
   ],
   "source": [
    "# apparently we actually start to cycle as soon as we hit an ends-in-z\n",
    "# which means we never return to the start, but always return to the same ends-in-z\n",
    "# ... which means our strategy of finding loop lengths still works\n",
    "rates = []\n",
    "for s in starts:\n",
    "    i, when, which = when_return_when_z(s)\n",
    "    rate = when[1] - when[0]\n",
    "    rates.append(rate)\n",
    "    print(s, when[:4], np.unique(which), np.diff(np.r_[0, when[:5]]), rate)"
   ]
  },
  {
   "cell_type": "code",
   "execution_count": 11,
   "metadata": {
    "tags": []
   },
   "outputs": [
    {
     "data": {
      "text/plain": [
       "14631604759649"
      ]
     },
     "execution_count": 11,
     "metadata": {},
     "output_type": "execute_result"
    }
   ],
   "source": [
    "# now we just need to find when all loops align at their ends-in-z points\n",
    "m = 1\n",
    "for rate in rates:\n",
    "    # least common multiple\n",
    "    m = np.lcm(m, rate)\n",
    "m"
   ]
  }
 ],
 "metadata": {
  "kernelspec": {
   "display_name": "Python 3.10.9",
   "language": "python",
   "name": "3_10_9"
  },
  "language_info": {
   "codemirror_mode": {
    "name": "ipython",
    "version": 3
   },
   "file_extension": ".py",
   "mimetype": "text/x-python",
   "name": "python",
   "nbconvert_exporter": "python",
   "pygments_lexer": "ipython3",
   "version": "3.10.9"
  }
 },
 "nbformat": 4,
 "nbformat_minor": 4
}
