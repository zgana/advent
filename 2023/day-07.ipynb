{
 "cells": [
  {
   "cell_type": "markdown",
   "metadata": {},
   "source": [
    "# 2023 Day 7\n",
    "\n",
    "https://adventofcode.com/2023/day/7\n",
    "\n",
    "https://adventofcode.com/2023/day/7/input"
   ]
  },
  {
   "cell_type": "code",
   "execution_count": 1,
   "metadata": {
    "tags": []
   },
   "outputs": [],
   "source": [
    "from collections import Counter\n",
    "\n",
    "import re\n",
    "import numpy as np\n",
    "import pandas as pd\n",
    "import matplotlib.pyplot as plt"
   ]
  },
  {
   "cell_type": "code",
   "execution_count": 2,
   "metadata": {
    "tags": []
   },
   "outputs": [],
   "source": [
    "from itertools import product"
   ]
  },
  {
   "cell_type": "code",
   "execution_count": 3,
   "metadata": {
    "tags": []
   },
   "outputs": [],
   "source": [
    "inp = open('input-07.txt').read().strip().split('\\n')"
   ]
  },
  {
   "cell_type": "code",
   "execution_count": 4,
   "metadata": {
    "tags": []
   },
   "outputs": [
    {
     "data": {
      "text/plain": [
       "['32T3K 765', 'T55J5 684', 'KK677 28', 'KTJJT 220', 'QQQJA 483']"
      ]
     },
     "execution_count": 4,
     "metadata": {},
     "output_type": "execute_result"
    }
   ],
   "source": [
    "test1 = \"\"\"32T3K 765\n",
    "T55J5 684\n",
    "KK677 28\n",
    "KTJJT 220\n",
    "QQQJA 483\"\"\".split('\\n')\n",
    "test1"
   ]
  },
  {
   "cell_type": "code",
   "execution_count": 5,
   "metadata": {
    "tags": []
   },
   "outputs": [
    {
     "name": "stdout",
     "output_type": "stream",
     "text": [
      "{'2': 2, '3': 3, '4': 4, '5': 5, '6': 6, '7': 7, '8': 8, '9': 9, 'T': 10, 'J': 11, 'Q': 12, 'K': 13, 'A': 14}\n"
     ]
    }
   ],
   "source": [
    "cards = list(reversed('A K Q J T 9 8 7 6 5 4 3 2'.split()))\n",
    "rank_map = dict(zip(cards, range(2, 2+len(cards))))\n",
    "print(rank_map)"
   ]
  },
  {
   "cell_type": "code",
   "execution_count": 6,
   "metadata": {
    "tags": []
   },
   "outputs": [
    {
     "name": "stdout",
     "output_type": "stream",
     "text": [
      "{'2': 2, '3': 3, '4': 4, '5': 5, '6': 6, '7': 7, '8': 8, '9': 9, 'T': 10, 'J': -1, 'Q': 12, 'K': 13, 'A': 14}\n"
     ]
    }
   ],
   "source": [
    "rank_map_2 = {**rank_map, 'J': -1}\n",
    "print(rank_map_2)"
   ]
  },
  {
   "cell_type": "code",
   "execution_count": 7,
   "metadata": {
    "tags": []
   },
   "outputs": [
    {
     "data": {
      "text/plain": [
       "[Counter({1: 5}),\n",
       " Counter({1: 3, 2: 1}),\n",
       " Counter({2: 2, 1: 1}),\n",
       " Counter({1: 2, 3: 1}),\n",
       " Counter({3: 1, 2: 1}),\n",
       " Counter({4: 1, 1: 1}),\n",
       " Counter({5: 1})]"
      ]
     },
     "execution_count": 7,
     "metadata": {},
     "output_type": "execute_result"
    }
   ],
   "source": [
    "kinds = list(reversed([\n",
    "    Counter({5: 1}),\n",
    "    Counter({4: 1, 1: 1}),\n",
    "    Counter({3: 1, 2: 1}),\n",
    "    Counter({3: 1, 1: 2}),\n",
    "    Counter({2: 2, 1: 1}),\n",
    "    Counter({2: 1, 1: 3}),\n",
    "    Counter({1: 5}),\n",
    "]))\n",
    "kinds"
   ]
  },
  {
   "cell_type": "markdown",
   "metadata": {},
   "source": [
    "## Part 1"
   ]
  },
  {
   "cell_type": "code",
   "execution_count": 8,
   "metadata": {
    "tags": []
   },
   "outputs": [],
   "source": [
    "def get_hand_counts(hand):\n",
    "    return Counter(Counter(hand).values())\n",
    "\n",
    "def get_hand_kind(hand):\n",
    "    c = get_hand_counts(hand)\n",
    "    return kinds.index(c)"
   ]
  },
  {
   "cell_type": "code",
   "execution_count": 9,
   "metadata": {
    "tags": []
   },
   "outputs": [],
   "source": [
    "def get_total(lines):\n",
    "    kinds_firsts_bids = []\n",
    "    for line in lines:\n",
    "        hand, bid = line.split()\n",
    "        kind = get_hand_kind(hand)\n",
    "        first = [rank_map[h] for h in hand]\n",
    "        kinds_firsts_bids.append((kind, first, int(bid)))\n",
    "        \n",
    "    return sum(\n",
    "        (i+1) * bid\n",
    "        for (i, (_, _, bid))\n",
    "        in enumerate(sorted(kinds_firsts_bids))\n",
    "    )"
   ]
  },
  {
   "cell_type": "code",
   "execution_count": 10,
   "metadata": {
    "tags": []
   },
   "outputs": [
    {
     "data": {
      "text/plain": [
       "6440"
      ]
     },
     "execution_count": 10,
     "metadata": {},
     "output_type": "execute_result"
    }
   ],
   "source": [
    "get_total(test1)"
   ]
  },
  {
   "cell_type": "code",
   "execution_count": 11,
   "metadata": {
    "tags": []
   },
   "outputs": [
    {
     "data": {
      "text/plain": [
       "246163188"
      ]
     },
     "execution_count": 11,
     "metadata": {},
     "output_type": "execute_result"
    }
   ],
   "source": [
    "get_total(inp)"
   ]
  },
  {
   "cell_type": "markdown",
   "metadata": {},
   "source": [
    "## Part 2"
   ]
  },
  {
   "cell_type": "code",
   "execution_count": 12,
   "metadata": {
    "tags": []
   },
   "outputs": [],
   "source": [
    "def get_hand_kind_2(hand):\n",
    "    joker_opts = [c for c in hand if c != 'J']\n",
    "    per_char_opts = [[c] if c != 'J' else joker_opts for c in hand]\n",
    "    possible_hands = [''.join(x) for x in product(*per_char_opts)]\n",
    "    if hand == 'JJJJJ':\n",
    "        return len(kinds) - 1\n",
    "    return max(kinds.index(get_hand_counts(h)) for h in possible_hands)"
   ]
  },
  {
   "cell_type": "code",
   "execution_count": 13,
   "metadata": {
    "tags": []
   },
   "outputs": [],
   "source": [
    "def get_total_2(lines):\n",
    "    kinds_firsts_bids = []\n",
    "    for line in lines:\n",
    "        hand, bid = line.split()\n",
    "        kind = get_hand_kind_2(hand)\n",
    "        first = [rank_map_2[h] for h in hand]\n",
    "        kinds_firsts_bids.append((kind, first, int(bid)))\n",
    "        \n",
    "    return sum(\n",
    "        (i+1) * bid\n",
    "        for (i, (_, _, bid))\n",
    "        in enumerate(sorted(kinds_firsts_bids))\n",
    "    )"
   ]
  },
  {
   "cell_type": "code",
   "execution_count": 14,
   "metadata": {
    "tags": []
   },
   "outputs": [
    {
     "data": {
      "text/plain": [
       "5905"
      ]
     },
     "execution_count": 14,
     "metadata": {},
     "output_type": "execute_result"
    }
   ],
   "source": [
    "get_total_2(test1)"
   ]
  },
  {
   "cell_type": "code",
   "execution_count": 15,
   "metadata": {
    "tags": []
   },
   "outputs": [
    {
     "data": {
      "text/plain": [
       "245794069"
      ]
     },
     "execution_count": 15,
     "metadata": {},
     "output_type": "execute_result"
    }
   ],
   "source": [
    "get_total_2(inp)"
   ]
  }
 ],
 "metadata": {
  "kernelspec": {
   "display_name": "Python 3.10.9",
   "language": "python",
   "name": "3_10_9"
  },
  "language_info": {
   "codemirror_mode": {
    "name": "ipython",
    "version": 3
   },
   "file_extension": ".py",
   "mimetype": "text/x-python",
   "name": "python",
   "nbconvert_exporter": "python",
   "pygments_lexer": "ipython3",
   "version": "3.10.9"
  }
 },
 "nbformat": 4,
 "nbformat_minor": 4
}
