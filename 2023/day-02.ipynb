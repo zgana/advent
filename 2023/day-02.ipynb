{
 "cells": [
  {
   "cell_type": "markdown",
   "metadata": {},
   "source": [
    "# 2023 Day 2\n",
    "\n",
    "https://adventofcode.com/2023/day/2\n",
    "\n",
    "https://adventofcode.com/2023/day/2/input"
   ]
  },
  {
   "cell_type": "code",
   "execution_count": 1,
   "metadata": {
    "tags": []
   },
   "outputs": [],
   "source": [
    "import re\n",
    "import numpy as np\n",
    "import pandas as pd\n",
    "import matplotlib.pyplot as plt"
   ]
  },
  {
   "cell_type": "code",
   "execution_count": 2,
   "metadata": {
    "scrolled": true,
    "tags": []
   },
   "outputs": [],
   "source": [
    "inp = list(map(str.strip, open('input-02.txt').readlines()))\n",
    "# inp"
   ]
  },
  {
   "cell_type": "markdown",
   "metadata": {},
   "source": [
    "## Part 1"
   ]
  },
  {
   "cell_type": "code",
   "execution_count": 3,
   "metadata": {},
   "outputs": [
    {
     "data": {
      "text/plain": [
       "red      0\n",
       "green    0\n",
       "blue     0\n",
       "dtype: int64"
      ]
     },
     "execution_count": 3,
     "metadata": {},
     "output_type": "execute_result"
    }
   ],
   "source": [
    "empty = pd.Series(dict(red=0, green=0, blue=0))\n",
    "empty"
   ]
  },
  {
   "cell_type": "code",
   "execution_count": 4,
   "metadata": {},
   "outputs": [
    {
     "data": {
      "text/plain": [
       "red      12\n",
       "green    13\n",
       "blue     14\n",
       "dtype: int64"
      ]
     },
     "execution_count": 4,
     "metadata": {},
     "output_type": "execute_result"
    }
   ],
   "source": [
    "avail = pd.Series(dict(red=12, green=13, blue=14))\n",
    "avail"
   ]
  },
  {
   "cell_type": "code",
   "execution_count": 5,
   "metadata": {
    "tags": []
   },
   "outputs": [],
   "source": [
    "def parse_reveal(reveal):\n",
    "    out = {}\n",
    "    if m := re.search(r'(\\d+) red', reveal):\n",
    "        out['red'] = int(m.group(1))\n",
    "    if m := re.search(r'(\\d+) green', reveal):\n",
    "        out['green'] = int(m.group(1))\n",
    "    if m := re.search(r'(\\d+) blue', reveal):\n",
    "        out['blue'] = int(m.group(1))\n",
    "    return pd.Series(out).reindex(['red', 'green', 'blue']).fillna(0).astype(int)\n",
    "    \n",
    "def is_possible_game(line):\n",
    "    id = int(line.split(':')[0].split()[1])\n",
    "    reveals = list(map(str.strip, line.split(':')[1].split(';')))\n",
    "    possible = all(\n",
    "        avail.sub(parse_reveal(reveal)).dropna().ge(0).all()\n",
    "        for reveal in reveals\n",
    "    )\n",
    "    return dict(id=id, possible=possible)\n"
   ]
  },
  {
   "cell_type": "code",
   "execution_count": 6,
   "metadata": {
    "tags": []
   },
   "outputs": [
    {
     "data": {
      "text/plain": [
       "1734"
      ]
     },
     "execution_count": 6,
     "metadata": {},
     "output_type": "execute_result"
    }
   ],
   "source": [
    "poss = pd.DataFrame(list(map(is_possible_game, inp)))\n",
    "poss[poss.possible].id.sum()"
   ]
  },
  {
   "cell_type": "markdown",
   "metadata": {},
   "source": [
    "## Part 2"
   ]
  },
  {
   "cell_type": "code",
   "execution_count": 7,
   "metadata": {},
   "outputs": [],
   "source": [
    "def required_cubes(line):\n",
    "    id = int(line.split(':')[0].split()[1])\n",
    "    reveals = list(map(str.strip, line.split(':')[1].split(';')))\n",
    "    req = empty.copy()\n",
    "    for reveal in reveals:\n",
    "        req = np.maximum(req, parse_reveal(reveal))\n",
    "    return req\n",
    "\n",
    "def power_of_game(line):\n",
    "    return required_cubes(line).prod()"
   ]
  },
  {
   "cell_type": "code",
   "execution_count": 8,
   "metadata": {
    "tags": []
   },
   "outputs": [
    {
     "data": {
      "text/plain": [
       "70387"
      ]
     },
     "execution_count": 8,
     "metadata": {},
     "output_type": "execute_result"
    }
   ],
   "source": [
    "sum(power_of_game(line) for line in inp)"
   ]
  }
 ],
 "metadata": {
  "kernelspec": {
   "display_name": "Python 3.10.9",
   "language": "python",
   "name": "3_10_9"
  },
  "language_info": {
   "codemirror_mode": {
    "name": "ipython",
    "version": 3
   },
   "file_extension": ".py",
   "mimetype": "text/x-python",
   "name": "python",
   "nbconvert_exporter": "python",
   "pygments_lexer": "ipython3",
   "version": "3.10.9"
  }
 },
 "nbformat": 4,
 "nbformat_minor": 4
}
