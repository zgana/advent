{
 "cells": [
  {
   "cell_type": "markdown",
   "metadata": {},
   "source": [
    "# 2023 Day 5\n",
    "\n",
    "https://adventofcode.com/2023/day/5\n",
    "\n",
    "https://adventofcode.com/2023/day/5/input"
   ]
  },
  {
   "cell_type": "code",
   "execution_count": 1,
   "metadata": {
    "tags": []
   },
   "outputs": [],
   "source": [
    "import re\n",
    "import numpy as np\n",
    "import pandas as pd\n",
    "import matplotlib.pyplot as plt\n",
    "\n",
    "from numba import jit\n",
    "from numba.typed import List"
   ]
  },
  {
   "cell_type": "code",
   "execution_count": 2,
   "metadata": {
    "tags": []
   },
   "outputs": [],
   "source": [
    "inp = open('input-05.txt').read().strip()"
   ]
  },
  {
   "cell_type": "code",
   "execution_count": 3,
   "metadata": {
    "tags": []
   },
   "outputs": [],
   "source": [
    "# print(inp)"
   ]
  },
  {
   "cell_type": "code",
   "execution_count": 4,
   "metadata": {
    "tags": []
   },
   "outputs": [
    {
     "name": "stdout",
     "output_type": "stream",
     "text": [
      "seeds: 79 14 55 13\n",
      "\n",
      "seed-to-soil map:\n",
      "50 98 2\n",
      "52 50 48\n",
      "\n",
      "soil-to-fertilizer map:\n",
      "0 15 37\n",
      "37 52 2\n",
      "39 0 15\n",
      "\n",
      "fertilizer-to-water map:\n",
      "49 53 8\n",
      "0 11 42\n",
      "42 0 7\n",
      "57 7 4\n",
      "\n",
      "water-to-light map:\n",
      "88 18 7\n",
      "18 25 70\n",
      "\n",
      "light-to-temperature map:\n",
      "45 77 23\n",
      "81 45 19\n",
      "68 64 13\n",
      "\n",
      "temperature-to-humidity map:\n",
      "0 69 1\n",
      "1 0 69\n",
      "\n",
      "humidity-to-location map:\n",
      "60 56 37\n",
      "56 93 4\n"
     ]
    }
   ],
   "source": [
    "test1 = \"\"\"\n",
    "seeds: 79 14 55 13\n",
    "\n",
    "seed-to-soil map:\n",
    "50 98 2\n",
    "52 50 48\n",
    "\n",
    "soil-to-fertilizer map:\n",
    "0 15 37\n",
    "37 52 2\n",
    "39 0 15\n",
    "\n",
    "fertilizer-to-water map:\n",
    "49 53 8\n",
    "0 11 42\n",
    "42 0 7\n",
    "57 7 4\n",
    "\n",
    "water-to-light map:\n",
    "88 18 7\n",
    "18 25 70\n",
    "\n",
    "light-to-temperature map:\n",
    "45 77 23\n",
    "81 45 19\n",
    "68 64 13\n",
    "\n",
    "temperature-to-humidity map:\n",
    "0 69 1\n",
    "1 0 69\n",
    "\n",
    "humidity-to-location map:\n",
    "60 56 37\n",
    "56 93 4\n",
    "\"\"\".strip()\n",
    "print(test1)"
   ]
  },
  {
   "cell_type": "markdown",
   "metadata": {},
   "source": [
    "## Part 1"
   ]
  },
  {
   "cell_type": "code",
   "execution_count": 5,
   "metadata": {
    "tags": []
   },
   "outputs": [],
   "source": [
    "def get_seeds(para):\n",
    "    return list(map(int, para.split(':')[1].strip().split()))\n",
    "\n",
    "def get_mapping(para):\n",
    "    name = para.split()[0]\n",
    "    mapping = []\n",
    "    for line in para.split('\\n')[1:]:\n",
    "        dest0, source0, n = list(map(int, line.strip().split()))\n",
    "        mapping.append((dest0, source0, n))\n",
    "        # for i in range(n):\n",
    "        #     mapping[source0 + i] = dest0 + i\n",
    "    return name, mapping\n",
    "\n",
    "def get_maps(text):\n",
    "    paras = text.split('\\n\\n')\n",
    "    seeds = get_seeds(paras[0])\n",
    "    mappings = [get_mapping(para)[1] for para in paras[1:]]\n",
    "    return seeds, mappings\n",
    "\n",
    "def get_maps_2(text):\n",
    "    paras = text.split('\\n\\n')\n",
    "    seed_nums = get_seeds(paras[0])\n",
    "    mappings = [get_mapping(para)[1] for para in paras[1:]]\n",
    "    seed_gens = [\n",
    "        (seed1, seed1 + nseeds)\n",
    "        for (seed1, nseeds)\n",
    "        in zip(seed_nums[::2], seed_nums[1::2])\n",
    "    ]\n",
    "    return seed_gens, mappings\n",
    "\n",
    "@jit(nopython=True)\n",
    "def apply_mapping(i, mapping):\n",
    "    for (dest, source, n) in mapping:\n",
    "        if source <= i < source + n:\n",
    "            return dest + (i - source)\n",
    "    return i\n",
    "\n",
    "def trace_seed(seed, mappings):\n",
    "    n = seed\n",
    "    trace = [n]\n",
    "    for mapping in mappings:\n",
    "        n = apply_mapping(n, mapping)\n",
    "        trace.append(n)\n",
    "    return n #trace\n",
    "\n",
    "@jit(nopython=True)\n",
    "def apply_reverse_mapping(i, mapping):\n",
    "    for (dest, source, n) in mapping:\n",
    "        if dest <= i < dest + n:\n",
    "            return source + (i - dest)\n",
    "    return i\n",
    "\n",
    "@jit(nopython=True)\n",
    "def trace_loc_to_seed(loc, mappings):\n",
    "    n = loc\n",
    "    trace = [n]\n",
    "    for mapping in mappings[::-1]:\n",
    "        n = apply_reverse_mapping(n, mapping)\n",
    "        trace.append(n)\n",
    "    return n #trace\n",
    "\n",
    "\n",
    "@jit(nopython=True)\n",
    "def check_seed(candidate, seed_gens):\n",
    "    for (s1, s2) in seed_gens:\n",
    "        if s1 <= candidate < s2:\n",
    "            return True\n",
    "    return False\n",
    "\n",
    "@jit(nopython=True)\n",
    "def find_nearest_reachable_loc(seed_gens, mappings, nmax=100):\n",
    "    min_mapped_loc = sorted(mappings[-1])[0][0]\n",
    "    locs = range(nmax)\n",
    "    for loc in locs:\n",
    "        seed = trace_loc_to_seed(loc, mappings)\n",
    "        if check_seed(seed, seed_gens):\n",
    "            return loc\n",
    "    return -1"
   ]
  },
  {
   "cell_type": "code",
   "execution_count": 6,
   "metadata": {
    "tags": []
   },
   "outputs": [],
   "source": [
    "def type_seed_gens(seed_gens):\n",
    "    return List([List(sg) for sg in seed_gens])\n",
    "\n",
    "def type_mappings(mappings):\n",
    "    return List([\n",
    "        List([\n",
    "            List(m)\n",
    "            for m in mapping\n",
    "        ])\n",
    "        for mapping in mappings\n",
    "    ])"
   ]
  },
  {
   "cell_type": "code",
   "execution_count": 7,
   "metadata": {
    "tags": []
   },
   "outputs": [
    {
     "name": "stdout",
     "output_type": "stream",
     "text": [
      "CPU times: user 856 ms, sys: 18.4 ms, total: 874 ms\n",
      "Wall time: 874 ms\n"
     ]
    },
    {
     "data": {
      "text/plain": [
       "35"
      ]
     },
     "execution_count": 7,
     "metadata": {},
     "output_type": "execute_result"
    }
   ],
   "source": [
    "%%time\n",
    "\n",
    "seeds, mappings = get_maps(test1)\n",
    "mappings_typed = type_mappings(mappings)\n",
    "min(trace_seed(seed, mappings_typed) for seed in seeds)"
   ]
  },
  {
   "cell_type": "code",
   "execution_count": 8,
   "metadata": {
    "tags": []
   },
   "outputs": [
    {
     "name": "stdout",
     "output_type": "stream",
     "text": [
      "CPU times: user 4.79 ms, sys: 0 ns, total: 4.79 ms\n",
      "Wall time: 4.74 ms\n"
     ]
    },
    {
     "data": {
      "text/plain": [
       "662197086"
      ]
     },
     "execution_count": 8,
     "metadata": {},
     "output_type": "execute_result"
    }
   ],
   "source": [
    "%%time\n",
    "\n",
    "seeds, mappings = get_maps(inp)\n",
    "mappings_typed = type_mappings(mappings)\n",
    "min(trace_seed(seed, mappings_typed) for seed in seeds)"
   ]
  },
  {
   "cell_type": "markdown",
   "metadata": {},
   "source": [
    "## Part 2"
   ]
  },
  {
   "cell_type": "code",
   "execution_count": 9,
   "metadata": {
    "tags": []
   },
   "outputs": [
    {
     "name": "stdout",
     "output_type": "stream",
     "text": [
      "CPU times: user 3.36 s, sys: 118 ms, total: 3.48 s\n",
      "Wall time: 3.48 s\n"
     ]
    },
    {
     "data": {
      "text/plain": [
       "46"
      ]
     },
     "execution_count": 9,
     "metadata": {},
     "output_type": "execute_result"
    }
   ],
   "source": [
    "%%time\n",
    "\n",
    "seed_gens, mappings = get_maps_2(test1)\n",
    "seed_gens_typed = type_seed_gens(seed_gens)\n",
    "mappings_typed = type_mappings(mappings)\n",
    "find_nearest_reachable_loc(seed_gens_typed, mappings_typed)"
   ]
  },
  {
   "cell_type": "code",
   "execution_count": 10,
   "metadata": {
    "tags": []
   },
   "outputs": [
    {
     "name": "stdout",
     "output_type": "stream",
     "text": [
      "CPU times: user 58.6 s, sys: 104 ms, total: 58.7 s\n",
      "Wall time: 58.3 s\n"
     ]
    },
    {
     "data": {
      "text/plain": [
       "52510809"
      ]
     },
     "execution_count": 10,
     "metadata": {},
     "output_type": "execute_result"
    }
   ],
   "source": [
    "%%time\n",
    "\n",
    "seed_gens, mappings = get_maps_2(inp)\n",
    "seed_gens_typed = type_seed_gens(seed_gens)\n",
    "mappings_typed = type_mappings(mappings)\n",
    "# find_nearest_reachable_loc(seed_gens_typed, mappings_typed, nmax=10000000)\n",
    "find_nearest_reachable_loc(seed_gens_typed, mappings_typed, nmax=662197086)"
   ]
  }
 ],
 "metadata": {
  "kernelspec": {
   "display_name": "Python 3.11.4 Numba",
   "language": "python",
   "name": "3_11_4_numba"
  },
  "language_info": {
   "codemirror_mode": {
    "name": "ipython",
    "version": 3
   },
   "file_extension": ".py",
   "mimetype": "text/x-python",
   "name": "python",
   "nbconvert_exporter": "python",
   "pygments_lexer": "ipython3",
   "version": "3.11.4"
  }
 },
 "nbformat": 4,
 "nbformat_minor": 4
}
