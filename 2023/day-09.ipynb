{
 "cells": [
  {
   "cell_type": "markdown",
   "metadata": {},
   "source": [
    "# 2023 Day 9\n",
    "\n",
    "https://adventofcode.com/2023/day/9\n",
    "\n",
    "https://adventofcode.com/2023/day/9/input"
   ]
  },
  {
   "cell_type": "code",
   "execution_count": 1,
   "metadata": {
    "tags": []
   },
   "outputs": [],
   "source": [
    "import re\n",
    "import numpy as np\n",
    "import pandas as pd\n",
    "import matplotlib.pyplot as plt"
   ]
  },
  {
   "cell_type": "code",
   "execution_count": 2,
   "metadata": {
    "scrolled": true,
    "tags": []
   },
   "outputs": [],
   "source": [
    "inp = open('input-09.txt').readlines()\n",
    "# inp"
   ]
  },
  {
   "cell_type": "code",
   "execution_count": 3,
   "metadata": {
    "tags": []
   },
   "outputs": [
    {
     "data": {
      "text/plain": [
       "['0 3 6 9 12 15', '1 3 6 10 15 21', '10 13 16 21 30 45']"
      ]
     },
     "execution_count": 3,
     "metadata": {},
     "output_type": "execute_result"
    }
   ],
   "source": [
    "tests = \"\"\"0 3 6 9 12 15\n",
    "1 3 6 10 15 21\n",
    "10 13 16 21 30 45\"\"\".split('\\n')\n",
    "tests"
   ]
  },
  {
   "cell_type": "markdown",
   "metadata": {},
   "source": [
    "## Part 1"
   ]
  },
  {
   "cell_type": "code",
   "execution_count": 4,
   "metadata": {
    "tags": []
   },
   "outputs": [],
   "source": [
    "def line2row(line):\n",
    "    return list(map(int, line.split()))"
   ]
  },
  {
   "cell_type": "code",
   "execution_count": 5,
   "metadata": {
    "tags": []
   },
   "outputs": [],
   "source": [
    "def extend(row):\n",
    "    if np.all(row == 0):\n",
    "        return np.r_[row, 0]\n",
    "    else:\n",
    "        below = extend(np.diff(row))\n",
    "        return np.r_[row, row[-1] + below[-1]]\n",
    "\n",
    "def get_next(row):\n",
    "    return extend(row)[-1]\n",
    "\n",
    "def process_line(line):\n",
    "    return get_next(line2row(line))"
   ]
  },
  {
   "cell_type": "code",
   "execution_count": 6,
   "metadata": {
    "tags": []
   },
   "outputs": [
    {
     "name": "stdout",
     "output_type": "stream",
     "text": [
      "0 3 6 9 12 15 | 18\n",
      "1 3 6 10 15 21 | 28\n",
      "10 13 16 21 30 45 | 68\n"
     ]
    }
   ],
   "source": [
    "for line in tests:\n",
    "    print(line, '|', process_line(line))"
   ]
  },
  {
   "cell_type": "code",
   "execution_count": 7,
   "metadata": {
    "tags": []
   },
   "outputs": [
    {
     "data": {
      "text/plain": [
       "1939607039"
      ]
     },
     "execution_count": 7,
     "metadata": {},
     "output_type": "execute_result"
    }
   ],
   "source": [
    "sum(process_line(line) for line in inp)"
   ]
  },
  {
   "cell_type": "markdown",
   "metadata": {
    "tags": []
   },
   "source": [
    "## Part 2"
   ]
  },
  {
   "cell_type": "code",
   "execution_count": 8,
   "metadata": {
    "tags": []
   },
   "outputs": [],
   "source": [
    "def pre_extend(row):\n",
    "    if np.all(row == 0):\n",
    "        return np.r_[0, row]\n",
    "    else:\n",
    "        below = pre_extend(np.diff(row))\n",
    "        return np.r_[row[0] - below[0], row]\n",
    "\n",
    "def get_prev(row):\n",
    "    return pre_extend(row)[0]\n",
    "\n",
    "def process_line_2(line):\n",
    "    return get_prev(line2row(line))"
   ]
  },
  {
   "cell_type": "code",
   "execution_count": 9,
   "metadata": {
    "tags": []
   },
   "outputs": [
    {
     "data": {
      "text/plain": [
       "2"
      ]
     },
     "execution_count": 9,
     "metadata": {},
     "output_type": "execute_result"
    }
   ],
   "source": [
    "sum(process_line_2(line) for line in tests)"
   ]
  },
  {
   "cell_type": "code",
   "execution_count": 10,
   "metadata": {
    "tags": []
   },
   "outputs": [
    {
     "data": {
      "text/plain": [
       "1041"
      ]
     },
     "execution_count": 10,
     "metadata": {},
     "output_type": "execute_result"
    }
   ],
   "source": [
    "sum(process_line_2(line) for line in inp)"
   ]
  }
 ],
 "metadata": {
  "kernelspec": {
   "display_name": "Python 3.10.9",
   "language": "python",
   "name": "3_10_9"
  },
  "language_info": {
   "codemirror_mode": {
    "name": "ipython",
    "version": 3
   },
   "file_extension": ".py",
   "mimetype": "text/x-python",
   "name": "python",
   "nbconvert_exporter": "python",
   "pygments_lexer": "ipython3",
   "version": "3.10.9"
  }
 },
 "nbformat": 4,
 "nbformat_minor": 4
}
