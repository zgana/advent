{
 "cells": [
  {
   "cell_type": "markdown",
   "metadata": {},
   "source": [
    "# 2023 Day 14\n",
    "\n",
    "https://adventofcode.com/2023/day/14\n",
    "\n",
    "https://adventofcode.com/2023/day/14/input"
   ]
  },
  {
   "cell_type": "code",
   "execution_count": 1,
   "metadata": {
    "tags": []
   },
   "outputs": [],
   "source": [
    "import re\n",
    "import numpy as np\n",
    "import pandas as pd\n",
    "import matplotlib.pyplot as plt\n",
    "\n",
    "from numba import jit"
   ]
  },
  {
   "cell_type": "code",
   "execution_count": 2,
   "metadata": {
    "scrolled": true,
    "tags": []
   },
   "outputs": [],
   "source": [
    "inp = open('input-14.txt').read().strip()\n",
    "# print(inp)"
   ]
  },
  {
   "cell_type": "code",
   "execution_count": 3,
   "metadata": {
    "tags": []
   },
   "outputs": [
    {
     "name": "stdout",
     "output_type": "stream",
     "text": [
      "O....#....\n",
      "O.OO#....#\n",
      ".....##...\n",
      "OO.#O....O\n",
      ".O.....O#.\n",
      "O.#..O.#.#\n",
      "..O..#O..O\n",
      ".......O..\n",
      "#....###..\n",
      "#OO..#....\n"
     ]
    }
   ],
   "source": [
    "test = \"\"\"O....#....\n",
    "O.OO#....#\n",
    ".....##...\n",
    "OO.#O....O\n",
    ".O.....O#.\n",
    "O.#..O.#.#\n",
    "..O..#O..O\n",
    ".......O..\n",
    "#....###..\n",
    "#OO..#....\"\"\"\n",
    "print(test)"
   ]
  },
  {
   "cell_type": "markdown",
   "metadata": {},
   "source": [
    "## Part 1"
   ]
  },
  {
   "cell_type": "code",
   "execution_count": 4,
   "metadata": {
    "tags": []
   },
   "outputs": [],
   "source": [
    "def parse_para(para):\n",
    "    return np.array([list(s) for s in para.split('\\n')])"
   ]
  },
  {
   "cell_type": "code",
   "execution_count": 5,
   "metadata": {
    "tags": []
   },
   "outputs": [],
   "source": [
    "@jit(nopython=True)\n",
    "def roll_north(im):\n",
    "    im = im.copy()\n",
    "    n_change = 1\n",
    "    while n_change:\n",
    "        n_change = 0\n",
    "        for row in range(1, im.shape[0]):\n",
    "            for column in range(im.shape[1]):\n",
    "                if im[row, column] != 'O':\n",
    "                    continue\n",
    "                if im[row - 1, column] == '.':\n",
    "                    im[row - 1, column] = 'O'\n",
    "                    im[row, column] = '.'\n",
    "                    n_change += 1\n",
    "    return im\n",
    "\n",
    "@jit(nopython=True)\n",
    "def apply_spin_cycle(im):\n",
    "    for i in range(4):\n",
    "        im = np.rot90(roll_north(im), k=-1)\n",
    "    return im\n",
    "\n",
    "def calculate_load(im):\n",
    "    return sum(\n",
    "        (im.shape[0] - irow) * (row == 'O').sum()\n",
    "        for (irow, row) in enumerate(im)\n",
    "    )"
   ]
  },
  {
   "cell_type": "code",
   "execution_count": 6,
   "metadata": {
    "tags": []
   },
   "outputs": [
    {
     "name": "stdout",
     "output_type": "stream",
     "text": [
      "[['O' '.' '.' '.' '.' '#' '.' '.' '.' '.']\n",
      " ['O' '.' 'O' 'O' '#' '.' '.' '.' '.' '#']\n",
      " ['.' '.' '.' '.' '.' '#' '#' '.' '.' '.']\n",
      " ['O' 'O' '.' '#' 'O' '.' '.' '.' '.' 'O']\n",
      " ['.' 'O' '.' '.' '.' '.' '.' 'O' '#' '.']\n",
      " ['O' '.' '#' '.' '.' 'O' '.' '#' '.' '#']\n",
      " ['.' '.' 'O' '.' '.' '#' 'O' '.' '.' 'O']\n",
      " ['.' '.' '.' '.' '.' '.' '.' 'O' '.' '.']\n",
      " ['#' '.' '.' '.' '.' '#' '#' '#' '.' '.']\n",
      " ['#' 'O' 'O' '.' '.' '#' '.' '.' '.' '.']]\n"
     ]
    }
   ],
   "source": [
    "im = parse_para(test)\n",
    "print(im)"
   ]
  },
  {
   "cell_type": "code",
   "execution_count": 7,
   "metadata": {
    "tags": []
   },
   "outputs": [
    {
     "name": "stdout",
     "output_type": "stream",
     "text": [
      "[['O' 'O' 'O' 'O' '.' '#' '.' 'O' '.' '.']\n",
      " ['O' 'O' '.' '.' '#' '.' '.' '.' '.' '#']\n",
      " ['O' 'O' '.' '.' 'O' '#' '#' '.' '.' 'O']\n",
      " ['O' '.' '.' '#' '.' 'O' 'O' '.' '.' '.']\n",
      " ['.' '.' '.' '.' '.' '.' '.' '.' '#' '.']\n",
      " ['.' '.' '#' '.' '.' '.' '.' '#' '.' '#']\n",
      " ['.' '.' 'O' '.' '.' '#' '.' 'O' '.' 'O']\n",
      " ['.' '.' 'O' '.' '.' '.' '.' '.' '.' '.']\n",
      " ['#' '.' '.' '.' '.' '#' '#' '#' '.' '.']\n",
      " ['#' '.' '.' '.' '.' '#' '.' '.' '.' '.']]\n"
     ]
    }
   ],
   "source": [
    "imr = roll_north(im)\n",
    "print(imr)"
   ]
  },
  {
   "cell_type": "code",
   "execution_count": 8,
   "metadata": {
    "tags": []
   },
   "outputs": [
    {
     "data": {
      "text/plain": [
       "136"
      ]
     },
     "execution_count": 8,
     "metadata": {},
     "output_type": "execute_result"
    }
   ],
   "source": [
    "calculate_load(imr)"
   ]
  },
  {
   "cell_type": "code",
   "execution_count": 9,
   "metadata": {
    "tags": []
   },
   "outputs": [
    {
     "data": {
      "text/plain": [
       "111339"
      ]
     },
     "execution_count": 9,
     "metadata": {},
     "output_type": "execute_result"
    }
   ],
   "source": [
    "calculate_load(roll_north(parse_para(inp)))"
   ]
  },
  {
   "cell_type": "markdown",
   "metadata": {},
   "source": [
    "## Part 2"
   ]
  },
  {
   "cell_type": "code",
   "execution_count": 10,
   "metadata": {
    "tags": []
   },
   "outputs": [
    {
     "name": "stdout",
     "output_type": "stream",
     "text": [
      "[['.' '.' '.' '.' '.' '#' '.' '.' '.' '.']\n",
      " ['.' '.' '.' '.' '#' '.' '.' '.' 'O' '#']\n",
      " ['.' '.' '.' 'O' 'O' '#' '#' '.' '.' '.']\n",
      " ['.' 'O' 'O' '#' '.' '.' '.' '.' '.' '.']\n",
      " ['.' '.' '.' '.' '.' 'O' 'O' 'O' '#' '.']\n",
      " ['.' 'O' '#' '.' '.' '.' 'O' '#' '.' '#']\n",
      " ['.' '.' '.' '.' 'O' '#' '.' '.' '.' '.']\n",
      " ['.' '.' '.' '.' '.' '.' 'O' 'O' 'O' 'O']\n",
      " ['#' '.' '.' '.' 'O' '#' '#' '#' '.' '.']\n",
      " ['#' '.' '.' 'O' 'O' '#' '.' '.' '.' '.']]\n",
      "\n",
      "[['.' '.' '.' '.' '.' '#' '.' '.' '.' '.']\n",
      " ['.' '.' '.' '.' '#' '.' '.' '.' 'O' '#']\n",
      " ['.' '.' '.' '.' '.' '#' '#' '.' '.' '.']\n",
      " ['.' '.' 'O' '#' '.' '.' '.' '.' '.' '.']\n",
      " ['.' '.' '.' '.' '.' 'O' 'O' 'O' '#' '.']\n",
      " ['.' 'O' '#' '.' '.' '.' 'O' '#' '.' '#']\n",
      " ['.' '.' '.' '.' 'O' '#' '.' '.' '.' 'O']\n",
      " ['.' '.' '.' '.' '.' '.' '.' 'O' 'O' 'O']\n",
      " ['#' '.' '.' 'O' 'O' '#' '#' '#' '.' '.']\n",
      " ['#' '.' 'O' 'O' 'O' '#' '.' '.' '.' 'O']]\n",
      "\n",
      "[['.' '.' '.' '.' '.' '#' '.' '.' '.' '.']\n",
      " ['.' '.' '.' '.' '#' '.' '.' '.' 'O' '#']\n",
      " ['.' '.' '.' '.' '.' '#' '#' '.' '.' '.']\n",
      " ['.' '.' 'O' '#' '.' '.' '.' '.' '.' '.']\n",
      " ['.' '.' '.' '.' '.' 'O' 'O' 'O' '#' '.']\n",
      " ['.' 'O' '#' '.' '.' '.' 'O' '#' '.' '#']\n",
      " ['.' '.' '.' '.' 'O' '#' '.' '.' '.' 'O']\n",
      " ['.' '.' '.' '.' '.' '.' '.' 'O' 'O' 'O']\n",
      " ['#' '.' '.' '.' 'O' '#' '#' '#' '.' 'O']\n",
      " ['#' '.' 'O' 'O' 'O' '#' '.' '.' '.' 'O']]\n",
      "\n"
     ]
    }
   ],
   "source": [
    "for n in (1, 2, 3):\n",
    "    imp = im\n",
    "    for i in range(n):\n",
    "        imp = apply_spin_cycle(imp)\n",
    "    print(imp)\n",
    "    print()"
   ]
  },
  {
   "cell_type": "code",
   "execution_count": 11,
   "metadata": {
    "tags": []
   },
   "outputs": [
    {
     "name": "stdout",
     "output_type": "stream",
     "text": [
      "99\n",
      "[['.' '.' '.' '.' '.' '#' '.' '.' '.' '.']\n",
      " ['.' '.' '.' '.' '#' '.' '.' '.' 'O' '#']\n",
      " ['.' '.' '.' '.' '.' '#' '#' '.' '.' '.']\n",
      " ['.' '.' 'O' '#' '.' '.' '.' '.' '.' '.']\n",
      " ['.' '.' '.' '.' '.' 'O' 'O' 'O' '#' '.']\n",
      " ['.' 'O' '#' '.' '.' '.' 'O' '#' '.' '#']\n",
      " ['.' '.' '.' '.' 'O' '#' '.' '.' '.' '.']\n",
      " ['.' '.' '.' '.' '.' '.' 'O' 'O' 'O' 'O']\n",
      " ['#' '.' '.' '.' 'O' '#' '#' '#' '.' 'O']\n",
      " ['#' '.' 'O' 'O' 'O' '#' '.' '.' '.' 'O']]\n",
      "loop=7\n",
      "n_extra=4\n",
      "final_north_load=64\n"
     ]
    }
   ],
   "source": [
    "history = []\n",
    "im = parse_para(test)\n",
    "imp = im\n",
    "for i in range(100):\n",
    "    imp = apply_spin_cycle(imp)\n",
    "    s = '\\n'.join(''.join(row) for row in imp)\n",
    "    history.append(s)\n",
    "print(i)\n",
    "print(imp)\n",
    "\n",
    "for loop in range(1, 25):\n",
    "    l1 = history[-loop:]\n",
    "    l2 = history[-2*loop:-loop]\n",
    "    if l1 == l2:\n",
    "        break\n",
    "print(f'{loop=}')\n",
    "\n",
    "n_extra = (10**9 - 100) % loop\n",
    "print(f'{n_extra=}')\n",
    "\n",
    "imp2 = imp.copy()\n",
    "for i in range(n_extra):\n",
    "    imp2 = apply_spin_cycle(imp2)\n",
    "final_north_load = calculate_load(imp2)\n",
    "print(f'{final_north_load=}')"
   ]
  },
  {
   "cell_type": "code",
   "execution_count": 12,
   "metadata": {
    "tags": []
   },
   "outputs": [
    {
     "name": "stdout",
     "output_type": "stream",
     "text": [
      "199\n",
      "[['#' '.' '.' ... '.' 'O' 'O']\n",
      " ['O' 'O' '#' ... '.' '.' '.']\n",
      " ['.' '.' '.' ... '.' '.' '.']\n",
      " ...\n",
      " ['.' '.' '.' ... 'O' 'O' '#']\n",
      " ['#' '.' '#' ... '#' '.' '#']\n",
      " ['O' '#' '.' ... 'O' 'O' 'O']]\n",
      "CPU times: user 8.56 s, sys: 0 ns, total: 8.56 s\n",
      "Wall time: 8.55 s\n"
     ]
    }
   ],
   "source": [
    "%%time\n",
    "\n",
    "history = []\n",
    "im = parse_para(inp)\n",
    "imp = im\n",
    "for i in range(200):\n",
    "    imp = apply_spin_cycle(imp)\n",
    "    s = '\\n'.join(''.join(row) for row in imp)\n",
    "    history.append(s)\n",
    "print(i)\n",
    "print(imp)"
   ]
  },
  {
   "cell_type": "code",
   "execution_count": 13,
   "metadata": {
    "tags": []
   },
   "outputs": [
    {
     "name": "stdout",
     "output_type": "stream",
     "text": [
      "loop=26\n",
      "n_extra=20\n",
      "final_north_load=93736\n"
     ]
    }
   ],
   "source": [
    "for loop in range(1, len(history) // 2):\n",
    "    l1 = history[-loop:]\n",
    "    l2 = history[-2*loop:-loop]\n",
    "    if l1 == l2:\n",
    "        break\n",
    "print(f'{loop=}')\n",
    "\n",
    "n_extra = (10**9 - len(history)) % loop\n",
    "print(f'{n_extra=}')\n",
    "\n",
    "imp2 = imp.copy()\n",
    "for i in range(n_extra):\n",
    "    imp2 = apply_spin_cycle(imp2)\n",
    "final_north_load = calculate_load(imp2)\n",
    "print(f'{final_north_load=}')"
   ]
  }
 ],
 "metadata": {
  "kernelspec": {
   "display_name": "Python 3.11.4 Numba",
   "language": "python",
   "name": "3_11_4_numba"
  },
  "language_info": {
   "codemirror_mode": {
    "name": "ipython",
    "version": 3
   },
   "file_extension": ".py",
   "mimetype": "text/x-python",
   "name": "python",
   "nbconvert_exporter": "python",
   "pygments_lexer": "ipython3",
   "version": "3.11.4"
  }
 },
 "nbformat": 4,
 "nbformat_minor": 4
}
